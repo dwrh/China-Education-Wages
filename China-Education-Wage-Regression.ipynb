{
 "cells": [
  {
   "cell_type": "markdown",
   "metadata": {},
   "source": [
    "# Analysis for China wage vs. education data"
   ]
  },
  {
   "cell_type": "markdown",
   "metadata": {},
   "source": [
    "#### Since R cannot be ran on normal VS code, I had to install visual studio code insider for it!"
   ]
  },
  {
   "cell_type": "markdown",
   "metadata": {},
   "source": [
    "## Datasets used\n",
    "\n",
    "From Dropbox: China-Education-Wages -> Data -> CFPS Data 2010-2016\n",
    "\n",
    "Downloaded:\n",
    "- 2010 Egnlish -> ecfps2010adult_112014.dta     \n",
    "  - Renamed 2010adult.dta\n",
    "- 2012 Egnlish -> ecfps2012adultcombine…015.dta     \n",
    "  - Renamed 2012adult.dta\n",
    "- 2014 English -> ecfps2014adult_170630.dta     \n",
    "  - Renamed 2014adult.dta\n",
    "- Mincer16 -> Mincer16.csv \n",
    "\n",
    "All 4 datasets were put within one folder named $CFPSdata$ in the same layer as this jupyter notebook."
   ]
  },
  {
   "cell_type": "code",
   "execution_count": 2,
   "metadata": {},
   "outputs": [
    {
     "output_type": "stream",
     "name": "stderr",
     "text": [
      "\n",
      "Attaching package: 'dplyr'\n",
      "\n",
      "\n",
      "The following objects are masked from 'package:plm':\n",
      "\n",
      "    between, lag, lead\n",
      "\n",
      "\n",
      "The following objects are masked from 'package:stats':\n",
      "\n",
      "    filter, lag\n",
      "\n",
      "\n",
      "The following objects are masked from 'package:base':\n",
      "\n",
      "    intersect, setdiff, setequal, union\n",
      "\n",
      "\n",
      "-- \u001b[1mAttaching packages\u001b[22m --------------------------------------- tidyverse 1.3.0 --\n",
      "\n",
      "\u001b[32mv\u001b[39m \u001b[34mggplot2\u001b[39m 3.3.2     \u001b[32mv\u001b[39m \u001b[34mpurrr  \u001b[39m 0.3.4\n",
      "\u001b[32mv\u001b[39m \u001b[34mtibble \u001b[39m 3.0.4     \u001b[32mv\u001b[39m \u001b[34mstringr\u001b[39m 1.4.0\n",
      "\u001b[32mv\u001b[39m \u001b[34mtidyr  \u001b[39m 1.1.2     \u001b[32mv\u001b[39m \u001b[34mforcats\u001b[39m 0.5.0\n",
      "\u001b[32mv\u001b[39m \u001b[34mreadr  \u001b[39m 1.4.0     \n",
      "\n",
      "-- \u001b[1mConflicts\u001b[22m ------------------------------------------ tidyverse_conflicts() --\n",
      "\u001b[31mx\u001b[39m \u001b[34mdplyr\u001b[39m::\u001b[32mbetween()\u001b[39m masks \u001b[34mplm\u001b[39m::between()\n",
      "\u001b[31mx\u001b[39m \u001b[34mdplyr\u001b[39m::\u001b[32mfilter()\u001b[39m  masks \u001b[34mstats\u001b[39m::filter()\n",
      "\u001b[31mx\u001b[39m \u001b[34mdplyr\u001b[39m::\u001b[32mlag()\u001b[39m     masks \u001b[34mplm\u001b[39m::lag(), \u001b[34mstats\u001b[39m::lag()\n",
      "\u001b[31mx\u001b[39m \u001b[34mdplyr\u001b[39m::\u001b[32mlead()\u001b[39m    masks \u001b[34mplm\u001b[39m::lead()\n",
      "\n",
      "\n",
      "Please cite as: \n",
      "\n",
      "\n",
      " Hlavac, Marek (2018). stargazer: Well-Formatted Regression and Summary Statistics Tables.\n",
      "\n",
      " R package version 5.2.2. https://CRAN.R-project.org/package=stargazer \n",
      "\n",
      "\n",
      "\n",
      "Attaching package: 'lubridate'\n",
      "\n",
      "\n",
      "The following objects are masked from 'package:base':\n",
      "\n",
      "    date, intersect, setdiff, union\n",
      "\n",
      "\n"
     ]
    }
   ],
   "source": [
    "library(plm)\n",
    "library(knitr)\n",
    "library(xtable)\n",
    "library(broom)\n",
    "library(dplyr)\n",
    "library(tidyverse)\n",
    "library(ggplot2)\n",
    "library(stargazer)\n",
    "library(lubridate)\n",
    "library(haven)"
   ]
  },
  {
   "cell_type": "markdown",
   "metadata": {},
   "source": [
    "## Manipulating data"
   ]
  },
  {
   "cell_type": "markdown",
   "metadata": {},
   "source": [
    "### Read Data"
   ]
  },
  {
   "cell_type": "code",
   "execution_count": 3,
   "metadata": {},
   "outputs": [],
   "source": [
    "data10 = read_dta(\"./CFPSdata/2010adult.dta\")\n",
    "data10 = filter(data10, !qc1 < 0)\n",
    "data12 = read_dta(\"./CFPSdata/2012adult.dta\")\n",
    "data12 = filter(data12, !sch2012 < 0)\n",
    "data14 = read_dta(\"./CFPSdata/2014adult.dta\")\n",
    "data14 = filter(data14, !pw1r < 0)\n",
    "data16 = read.csv(\"./CFPSdata/Mincer16.csv\")"
   ]
  },
  {
   "cell_type": "markdown",
   "metadata": {},
   "source": [
    "### Adding education and year dummies to the data, then combining them into one dataframe"
   ]
  },
  {
   "cell_type": "code",
   "execution_count": 8,
   "metadata": {},
   "outputs": [],
   "source": [
    "mincer10 = data.frame(\n",
    "  income = data10$income, \n",
    "  age = data10$qa1age,\n",
    "  gender = data10$gender,\n",
    "  urban = data10$urban,\n",
    "  prov = data10$provcd,\n",
    "  ethnic = data10$qa5code,\n",
    "  married = 0,\n",
    "  party = 0,\n",
    "  postsecondary = 0,\n",
    "  seniorsecondary = 0, \n",
    "  juniorsecondary = 0,\n",
    "  primary = 0, \n",
    "  illiterate = 0,\n",
    "  y10 = 1,\n",
    "  y12 = 0,\n",
    "  y14 = 0,\n",
    "  y16 = 0)\n",
    "\n",
    "for (row in 1:nrow(data10)) {\n",
    "  marriage = data10[row, \"qe1\"]\n",
    "  if (marriage == 2) {\n",
    "    mincer10[row, \"married\"] = 1\n",
    "  }\n",
    "  party = data10[row, \"qa7_s_1\"]\n",
    "  if (party == 1) {\n",
    "    mincer10[row, \"party\"] = 1\n",
    "  }\n",
    "  edu = data10[row, \"qc1\"]\n",
    "  if (edu == 1) {\n",
    "    mincer10[row, \"illiterate\"] = 1\n",
    "  } else if (edu == 2) {\n",
    "    mincer10[row, \"primary\"] = 1\n",
    "  } else if (edu == 3) {\n",
    "    mincer10[row, \"juniorsecondary\"] = 1\n",
    "  } else if (edu == 4) {\n",
    "    mincer10[row, \"seniorsecondary\"] = 1\n",
    "  } else if (edu > 4) {\n",
    "    mincer10[row, \"postsecondary\"] = 1\n",
    "  }\n",
    "}\n",
    "mincer10 = filter(mincer10, !is.na(income))\n",
    "mincer10$rinc = mincer10$income / mean(mincer10$income)"
   ]
  },
  {
   "cell_type": "code",
   "execution_count": 9,
   "metadata": {},
   "outputs": [],
   "source": [
    "mincer12 = data.frame(\n",
    "  income = data12$income, \n",
    "  age = data12$cfps2012_age,\n",
    "  gender = data12$cfps2012_gender,\n",
    "  urban = data12$urban12,\n",
    "  prov = data12$provcd,\n",
    "  ethnic = data12$qa701code,\n",
    "  married = 0,\n",
    "  party = data12$sn401,\n",
    "  postsecondary = 0,\n",
    "  seniorsecondary = 0, \n",
    "  juniorsecondary = 0,\n",
    "  primary = 0, \n",
    "  illiterate = 0,\n",
    "  y10 = 0,\n",
    "  y12 = 1,\n",
    "  y14 = 0,\n",
    "  y16 = 0)\n",
    "\n",
    "for (row in 1:nrow(data12)) {\n",
    "  marriage = data12[row, \"qe104\"]\n",
    "  if (marriage == 2) {\n",
    "    mincer12[row, \"married\"] = 1\n",
    "  }\n",
    "  edu = data12[row, \"sch2012\"]\n",
    "  if (edu == 1) {\n",
    "    mincer12[row, \"illiterate\"] = 1\n",
    "  } else if (edu == 2) {\n",
    "    mincer12[row, \"primary\"] = 1\n",
    "  } else if (edu == 3) {\n",
    "    mincer12[row, \"juniorsecondary\"] = 1\n",
    "  } else if (edu == 4) {\n",
    "    mincer12[row, \"seniorsecondary\"] = 1\n",
    "  } else if (edu > 4) {\n",
    "    mincer12[row, \"postsecondary\"] = 1\n",
    "  }\n",
    "}\n",
    "mincer12 = filter(mincer12, !is.na(income))\n",
    "mincer12$rinc = mincer12$income / mean(mincer12$income)"
   ]
  },
  {
   "cell_type": "code",
   "execution_count": 10,
   "metadata": {},
   "outputs": [],
   "source": [
    "mincer14 = data.frame(\n",
    "  income = data14$p_income, \n",
    "  age = data14$cfps2014_age,\n",
    "  gender = data14$cfps_gender,\n",
    "  urban = data14$urban14,\n",
    "  prov = data14$provcd14,\n",
    "  ethnic = data14$cfps_minzu,\n",
    "  married = 0,\n",
    "  party = data14$pn401a,\n",
    "  postsecondary = 0,\n",
    "  seniorsecondary = 0, \n",
    "  juniorsecondary = 0,\n",
    "  primary = 0, \n",
    "  illiterate = 0,\n",
    "  y10 = 0,\n",
    "  y12 = 0,\n",
    "  y14 = 1,\n",
    "  y16 = 0)\n",
    "\n",
    "for (row in 1:nrow(data14)) {\n",
    "  marriage = data14[row, \"qea0\"]\n",
    "  if (marriage == 2) {\n",
    "    mincer14[row, \"married\"] = 1\n",
    "  }\n",
    "  edu = data14[row, \"pw1r\"]\n",
    "  if (edu == 1) {\n",
    "    mincer14[row, \"illiterate\"] = 1\n",
    "  } else if (edu == 2) {\n",
    "    mincer14[row, \"primary\"] = 1\n",
    "  } else if (edu == 3) {\n",
    "    mincer14[row, \"juniorsecondary\"] = 1\n",
    "  } else if (edu == 4) {\n",
    "    mincer14[row, \"seniorsecondary\"] = 1\n",
    "  } else if (edu > 4) {\n",
    "    mincer14[row, \"postsecondary\"] = 1\n",
    "  }\n",
    "}\n",
    "mincer14 = filter(mincer14, !is.na(income))\n",
    "mincer14$rinc = mincer14$income / mean(mincer14$income)"
   ]
  },
  {
   "cell_type": "code",
   "execution_count": 11,
   "metadata": {},
   "outputs": [],
   "source": [
    "mincer16 = data.frame(\n",
    "  income = data16$income, \n",
    "  age = data16$age,\n",
    "  gender = data16$gender,\n",
    "  urban = data16$urban16,\n",
    "  prov = data16$provcd16,\n",
    "  ethnic = data16$ethnic,\n",
    "  married = data16$married,\n",
    "  party = data16$party,\n",
    "  postsecondary = data16$postsecondary,\n",
    "  seniorsecondary = data16$seniorsecondary, \n",
    "  juniorsecondary = data16$juniorsecondary, \n",
    "  primary = data16$primary, \n",
    "  illiterate = data16$illiterate,\n",
    "  y10 = 0,\n",
    "  y12 = 0,\n",
    "  y14 = 0,\n",
    "  y16 = 1)\n",
    "mincer16 = filter(mincer16, !is.na(income))\n",
    "mincer16$rinc = mincer16$income / mean(mincer16$income)"
   ]
  },
  {
   "cell_type": "code",
   "execution_count": 12,
   "metadata": {},
   "outputs": [
    {
     "output_type": "stream",
     "name": "stderr",
     "text": [
      "Joining, by = c(\"income\", \"age\", \"gender\", \"urban\", \"prov\", \"ethnic\", \"married\", \"party\", \"postsecondary\", \"seniorsecondary\", \"juniorsecondary\", \"primary\", \"illiterate\", \"y10\", \"y12\", \"y14\", \"y16\", \"rinc\")\n",
      "\n",
      "Joining, by = c(\"income\", \"age\", \"gender\", \"urban\", \"prov\", \"ethnic\", \"married\", \"party\", \"postsecondary\", \"seniorsecondary\", \"juniorsecondary\", \"primary\", \"illiterate\", \"y10\", \"y12\", \"y14\", \"y16\", \"rinc\")\n",
      "\n",
      "Joining, by = c(\"income\", \"age\", \"gender\", \"urban\", \"prov\", \"ethnic\", \"married\", \"party\", \"postsecondary\", \"seniorsecondary\", \"juniorsecondary\", \"primary\", \"illiterate\", \"y10\", \"y12\", \"y14\", \"y16\", \"rinc\")\n",
      "\n",
      "Warning message in .fn(vec_data(.x), ...):\n",
      "\"NaNs produced\"\n",
      "Warning message in log(combined$rinc):\n",
      "\"NaNs produced\"\n"
     ]
    }
   ],
   "source": [
    "combined = full_join(mincer10, full_join(mincer12, full_join(mincer14, mincer16)))\n",
    "combined$lninc = log(combined$income)\n",
    "combined$lnrinc = log(combined$rinc)"
   ]
  },
  {
   "cell_type": "code",
   "execution_count": null,
   "metadata": {},
   "outputs": [],
   "source": []
  },
  {
   "cell_type": "code",
   "execution_count": null,
   "metadata": {},
   "outputs": [],
   "source": []
  },
  {
   "cell_type": "code",
   "execution_count": 13,
   "metadata": {},
   "outputs": [],
   "source": [
    "categorize <- \n",
    "  combined %>%\n",
    "  group_by(rinc) %>%\n",
    "  tally()\n",
    "categorize = categorize[order(categorize$rinc), ]\n",
    "key = categorize$rinc\n",
    "pinc = c()\n",
    "sum_so_far = 0\n",
    "total = nrow(combined)\n",
    "categorize$pinc = 0\n",
    "for (row in 1:nrow(categorize)) {\n",
    "  sum_so_far = sum_so_far + categorize[row, 'n']\n",
    "  categorize[row, 'pinc'] = (sum_so_far - (0.5 * categorize[row, 'n'])) / total\n",
    "}"
   ]
  },
  {
   "cell_type": "code",
   "execution_count": null,
   "metadata": {},
   "outputs": [],
   "source": []
  },
  {
   "cell_type": "code",
   "execution_count": 14,
   "metadata": {},
   "outputs": [],
   "source": [
    "ordered_combined = combined[order(combined$rinc), ]\n",
    "ordered_combined$pinc = 0\n",
    "current_rinc = 0\n",
    "current_pinc = 0\n",
    "current_row = 0\n",
    "for (row in 1:nrow(ordered_combined)) {\n",
    "  rinc = ordered_combined[row, 'rinc']\n",
    "  if (rinc != current_rinc) {\n",
    "    current_row = current_row + 1\n",
    "    current_rinc = rinc\n",
    "    current_pinc = categorize[current_row, 'pinc']\n",
    "  }\n",
    "  ordered_combined[row, 'pinc'] = current_pinc\n",
    "}\n",
    "combined = ordered_combined\n",
    "combined$lnpinc = log(combined$pinc) "
   ]
  },
  {
   "cell_type": "code",
   "execution_count": 16,
   "metadata": {},
   "outputs": [],
   "source": [
    "urban_combined = filter(combined, urban == 1)\n",
    "rural_combined = filter(combined, urban == 0)"
   ]
  },
  {
   "cell_type": "markdown",
   "metadata": {},
   "source": [
    "## Running the regressions for lninc, rinc, lnrinc, pinc, and lnpinc on combined data, and urban and rural subsamples. Does not contain married or party variables"
   ]
  },
  {
   "cell_type": "markdown",
   "metadata": {},
   "source": [
    "### Regression for lninc"
   ]
  },
  {
   "cell_type": "code",
   "execution_count": 17,
   "metadata": {},
   "outputs": [
    {
     "output_type": "display_data",
     "data": {
      "text/plain": "\nCall:\nlm(formula = lninc ~ postsecondary + seniorsecondary + juniorsecondary + \n    primary + gender + urban + y10 + y12 + y14, data = lnincReg)\n\nResiduals:\n     Min       1Q   Median       3Q      Max \n-10.5493  -0.5264   0.2281   0.8410   5.3336 \n\nCoefficients:\n                 Estimate Std. Error t value Pr(>|t|)    \n(Intercept)      8.797265   0.024534 358.578  < 2e-16 ***\npostsecondary    1.732932   0.024212  71.574  < 2e-16 ***\nseniorsecondary  1.265809   0.021949  57.670  < 2e-16 ***\njuniorsecondary  1.050874   0.018734  56.093  < 2e-16 ***\nprimary          0.618875   0.020639  29.985  < 2e-16 ***\ngender           0.283885   0.009443  30.064  < 2e-16 ***\nurban            0.019081   0.005930   3.217  0.00129 ** \ny10             -1.089056   0.021248 -51.255  < 2e-16 ***\ny12             -0.446978   0.022283 -20.059  < 2e-16 ***\ny14             -1.361638   0.054684 -24.900  < 2e-16 ***\n---\nSignif. codes:  0 '***' 0.001 '**' 0.01 '*' 0.05 '.' 0.1 ' ' 1\n\nResidual standard error: 1.383 on 46144 degrees of freedom\n  (1869 observations deleted due to missingness)\nMultiple R-squared:  0.2391,\tAdjusted R-squared:  0.239 \nF-statistic:  1611 on 9 and 46144 DF,  p-value: < 2.2e-16\n"
     },
     "metadata": {}
    },
    {
     "output_type": "display_data",
     "data": {
      "text/plain": "\nCall:\nlm(formula = lninc ~ postsecondary + seniorsecondary + juniorsecondary + \n    primary + gender + y10 + y12 + y14, data = urban_reg)\n\nResiduals:\n     Min       1Q   Median       3Q      Max \n-10.4944  -0.3971   0.1990   0.6733   4.4564 \n\nCoefficients:\n                Estimate Std. Error t value Pr(>|t|)    \n(Intercept)      8.99563    0.03223  279.08   <2e-16 ***\npostsecondary    1.49882    0.02997   50.02   <2e-16 ***\nseniorsecondary  1.05557    0.02905   36.33   <2e-16 ***\njuniorsecondary  0.88624    0.02711   32.70   <2e-16 ***\nprimary          0.55341    0.03122   17.73   <2e-16 ***\ngender           0.24503    0.01227   19.96   <2e-16 ***\ny10             -0.80633    0.02533  -31.84   <2e-16 ***\ny12             -0.26977    0.02643  -10.21   <2e-16 ***\ny14             -1.71081    0.07923  -21.59   <2e-16 ***\n---\nSignif. codes:  0 '***' 0.001 '**' 0.01 '*' 0.05 '.' 0.1 ' ' 1\n\nResidual standard error: 1.242 on 23150 degrees of freedom\n  (873 observations deleted due to missingness)\nMultiple R-squared:  0.1986,\tAdjusted R-squared:  0.1983 \nF-statistic: 717.1 on 8 and 23150 DF,  p-value: < 2.2e-16\n"
     },
     "metadata": {}
    },
    {
     "output_type": "display_data",
     "data": {
      "text/plain": "\nCall:\nlm(formula = lninc ~ postsecondary + seniorsecondary + juniorsecondary + \n    primary + gender + y10 + y12 + y14, data = rural_reg)\n\nResiduals:\n    Min      1Q  Median      3Q     Max \n-9.8980 -0.6364  0.2286  0.8992  5.5796 \n\nCoefficients:\n                Estimate Std. Error t value Pr(>|t|)    \n(Intercept)      8.85449    0.03690  239.93   <2e-16 ***\npostsecondary    1.33277    0.05009   26.61   <2e-16 ***\nseniorsecondary  1.04356    0.03552   29.38   <2e-16 ***\njuniorsecondary  0.94789    0.02609   36.33   <2e-16 ***\nprimary          0.56980    0.02716   20.98   <2e-16 ***\ngender           0.38078    0.01434   26.55   <2e-16 ***\ny10             -1.40198    0.03401  -41.23   <2e-16 ***\ny12             -0.66265    0.03585  -18.48   <2e-16 ***\ny14             -2.65111    0.09400  -28.20   <2e-16 ***\n---\nSignif. codes:  0 '***' 0.001 '**' 0.01 '*' 0.05 '.' 0.1 ' ' 1\n\nResidual standard error: 1.448 on 22284 degrees of freedom\n  (985 observations deleted due to missingness)\nMultiple R-squared:  0.2376,\tAdjusted R-squared:  0.2373 \nF-statistic: 867.9 on 8 and 22284 DF,  p-value: < 2.2e-16\n"
     },
     "metadata": {}
    },
    {
     "output_type": "display_data",
     "data": {
      "text/plain": "\nCall:\nlm(formula = lninc ~ postsecondary + seniorsecondary + juniorsecondary + \n    primary + urban + y10 + y12 + y14, data = female_reg)\n\nResiduals:\n     Min       1Q   Median       3Q      Max \n-10.3722  -0.4926   0.2175   0.7411   5.3627 \n\nCoefficients:\n                Estimate Std. Error t value Pr(>|t|)    \n(Intercept)      9.29209    0.03067 302.979  < 2e-16 ***\npostsecondary    1.49283    0.03120  47.848  < 2e-16 ***\nseniorsecondary  1.05032    0.02805  37.439  < 2e-16 ***\njuniorsecondary  0.89743    0.02445  36.701  < 2e-16 ***\nprimary          0.47959    0.02663  18.011  < 2e-16 ***\nurban            0.02977    0.00716   4.159 3.21e-05 ***\ny10             -1.02714    0.02558 -40.163  < 2e-16 ***\ny12             -0.45637    0.02674 -17.068  < 2e-16 ***\ny14             -1.06519    0.06668 -15.974  < 2e-16 ***\n---\nSignif. codes:  0 '***' 0.001 '**' 0.01 '*' 0.05 '.' 0.1 ' ' 1\n\nResidual standard error: 1.257 on 25734 degrees of freedom\n  (917 observations deleted due to missingness)\nMultiple R-squared:  0.1941,\tAdjusted R-squared:  0.1938 \nF-statistic: 774.6 on 8 and 25734 DF,  p-value: < 2.2e-16\n"
     },
     "metadata": {}
    },
    {
     "output_type": "display_data",
     "data": {
      "text/plain": "\nCall:\nlm(formula = lninc ~ postsecondary + seniorsecondary + juniorsecondary + \n    primary + urban + y10 + y12 + y14, data = male_reg)\n\nResiduals:\n     Min       1Q   Median       3Q      Max \n-10.5806  -0.5946   0.2925   0.9042   4.7678 \n\nCoefficients:\n                Estimate Std. Error t value Pr(>|t|)    \n(Intercept)      8.65403    0.03860 224.195  < 2e-16 ***\npostsecondary    1.89540    0.03767  50.320  < 2e-16 ***\nseniorsecondary  1.38428    0.03486  39.707  < 2e-16 ***\njuniorsecondary  1.06821    0.02912  36.678  < 2e-16 ***\nprimary          0.62668    0.03242  19.332  < 2e-16 ***\nurban            0.03121    0.01006   3.104  0.00191 ** \ny10             -1.15165    0.03518 -32.738  < 2e-16 ***\ny12             -0.48242    0.03710 -13.004  < 2e-16 ***\ny14             -1.64882    0.08966 -18.390  < 2e-16 ***\n---\nSignif. codes:  0 '***' 0.001 '**' 0.01 '*' 0.05 '.' 0.1 ' ' 1\n\nResidual standard error: 1.499 on 20260 degrees of freedom\n  (952 observations deleted due to missingness)\nMultiple R-squared:  0.2431,\tAdjusted R-squared:  0.2428 \nF-statistic: 813.3 on 8 and 20260 DF,  p-value: < 2.2e-16\n"
     },
     "metadata": {}
    },
    {
     "output_type": "display_data",
     "data": {
      "text/plain": "\nCall:\nlm(formula = lninc ~ postsecondary + seniorsecondary + juniorsecondary + \n    primary + y10 + y12 + y14, data = female_urban_reg)\n\nResiduals:\n     Min       1Q   Median       3Q      Max \n-10.4420  -0.3562   0.1734   0.6363   4.4840 \n\nCoefficients:\n                Estimate Std. Error t value Pr(>|t|)    \n(Intercept)      9.48845    0.04226 224.499   <2e-16 ***\npostsecondary    1.25608    0.04057  30.958   <2e-16 ***\nseniorsecondary  0.81127    0.03938  20.601   <2e-16 ***\njuniorsecondary  0.72650    0.03710  19.580   <2e-16 ***\nprimary          0.35789    0.04175   8.572   <2e-16 ***\ny10             -0.73316    0.03114 -23.543   <2e-16 ***\ny12             -0.30250    0.03248  -9.314   <2e-16 ***\ny14             -1.33373    0.09561 -13.950   <2e-16 ***\n---\nSignif. codes:  0 '***' 0.001 '**' 0.01 '*' 0.05 '.' 0.1 ' ' 1\n\nResidual standard error: 1.132 on 12387 degrees of freedom\n  (430 observations deleted due to missingness)\nMultiple R-squared:  0.1498,\tAdjusted R-squared:  0.1493 \nF-statistic: 311.8 on 7 and 12387 DF,  p-value: < 2.2e-16\n"
     },
     "metadata": {}
    },
    {
     "output_type": "display_data",
     "data": {
      "text/plain": "\nCall:\nlm(formula = lninc ~ postsecondary + seniorsecondary + juniorsecondary + \n    primary + y10 + y12 + y14, data = female_rural_reg)\n\nResiduals:\n    Min      1Q  Median      3Q     Max \n-9.5980 -0.5356  0.2405  0.8424  5.6423 \n\nCoefficients:\n                Estimate Std. Error t value Pr(>|t|)    \n(Intercept)      9.36113    0.04409  212.31   <2e-16 ***\npostsecondary    1.14427    0.06011   19.04   <2e-16 ***\nseniorsecondary  0.94628    0.04176   22.66   <2e-16 ***\njuniorsecondary  0.85130    0.03236   26.30   <2e-16 ***\nprimary          0.48013    0.03405   14.10   <2e-16 ***\ny10             -1.31387    0.03962  -33.16   <2e-16 ***\ny12             -0.61447    0.04153  -14.80   <2e-16 ***\ny14             -2.29392    0.11752  -19.52   <2e-16 ***\n---\nSignif. codes:  0 '***' 0.001 '**' 0.01 '*' 0.05 '.' 0.1 ' ' 1\n\nResidual standard error: 1.303 on 12909 degrees of freedom\n  (482 observations deleted due to missingness)\nMultiple R-squared:  0.1981,\tAdjusted R-squared:  0.1977 \nF-statistic: 455.6 on 7 and 12909 DF,  p-value: < 2.2e-16\n"
     },
     "metadata": {}
    },
    {
     "output_type": "display_data",
     "data": {
      "text/plain": "\nCall:\nlm(formula = lninc ~ postsecondary + seniorsecondary + juniorsecondary + \n    primary + y10 + y12 + y14, data = male_urban_reg)\n\nResiduals:\n     Min       1Q   Median       3Q      Max \n-10.4816  -0.3791   0.2467   0.7425   4.3309 \n\nCoefficients:\n                Estimate Std. Error t value Pr(>|t|)    \n(Intercept)      8.84775    0.04812 183.863  < 2e-16 ***\npostsecondary    1.63390    0.04424  36.936  < 2e-16 ***\nseniorsecondary  1.18685    0.04296  27.625  < 2e-16 ***\njuniorsecondary  0.89749    0.03975  22.577  < 2e-16 ***\nprimary          0.62488    0.04677  13.361  < 2e-16 ***\ny10             -0.87725    0.04052 -21.649  < 2e-16 ***\ny12             -0.26280    0.04234  -6.207 5.61e-10 ***\ny14             -2.19469    0.12995 -16.888  < 2e-16 ***\n---\nSignif. codes:  0 '***' 0.001 '**' 0.01 '*' 0.05 '.' 0.1 ' ' 1\n\nResidual standard error: 1.332 on 10693 degrees of freedom\n  (443 observations deleted due to missingness)\nMultiple R-squared:  0.2153,\tAdjusted R-squared:  0.2148 \nF-statistic: 419.1 on 7 and 10693 DF,  p-value: < 2.2e-16\n"
     },
     "metadata": {}
    },
    {
     "output_type": "display_data",
     "data": {
      "text/plain": "\nCall:\nlm(formula = lninc ~ postsecondary + seniorsecondary + juniorsecondary + \n    primary + y10 + y12 + y14, data = male_rural_reg)\n\nResiduals:\n    Min      1Q  Median      3Q     Max \n-9.8023 -0.7819  0.3052  1.0189  5.3141 \n\nCoefficients:\n                Estimate Std. Error t value Pr(>|t|)    \n(Intercept)      8.81971    0.06140  143.65   <2e-16 ***\npostsecondary    1.48068    0.08454   17.52   <2e-16 ***\nseniorsecondary  0.98258    0.06398   15.36   <2e-16 ***\njuniorsecondary  0.89573    0.04347   20.60   <2e-16 ***\nprimary          0.53316    0.04422   12.06   <2e-16 ***\ny10             -1.52397    0.05906  -25.80   <2e-16 ***\ny12             -0.83170    0.06301  -13.20   <2e-16 ***\ny14             -3.00963    0.14965  -20.11   <2e-16 ***\n---\nSignif. codes:  0 '***' 0.001 '**' 0.01 '*' 0.05 '.' 0.1 ' ' 1\n\nResidual standard error: 1.593 on 9300 degrees of freedom\n  (503 observations deleted due to missingness)\nMultiple R-squared:  0.1971,\tAdjusted R-squared:  0.1965 \nF-statistic: 326.2 on 7 and 9300 DF,  p-value: < 2.2e-16\n"
     },
     "metadata": {}
    }
   ],
   "source": [
    "lnincReg = filter(combined, !is.infinite(lninc))\n",
    "urban_reg = filter(lnincReg, urban == 1)\n",
    "rural_reg = filter(lnincReg, urban == 0)\n",
    "summary(lm(lninc ~  postsecondary + seniorsecondary + juniorsecondary + primary + gender + urban + y10 + y12 + y14, data=lnincReg))\n",
    "summary(lm(lninc ~  postsecondary + seniorsecondary + juniorsecondary + primary + gender + y10 + y12 + y14, data=urban_reg))\n",
    "summary(lm(lninc ~  postsecondary + seniorsecondary + juniorsecondary + primary + gender + y10 + y12 + y14, data=rural_reg))\n",
    "female_reg = filter(lnincReg, gender == 1)\n",
    "summary(lm(lninc ~  postsecondary + seniorsecondary + juniorsecondary + primary + urban + y10 + y12 + y14, data=female_reg))\n",
    "male_reg = filter(lnincReg, gender == 0)\n",
    "summary(lm(lninc ~  postsecondary + seniorsecondary + juniorsecondary + primary + urban + y10 + y12 + y14, data=male_reg))\n",
    "female_urban_reg = filter(urban_reg, gender == 1)\n",
    "female_rural_reg = filter(rural_reg, gender == 1)\n",
    "male_urban_reg = filter(urban_reg, gender == 0)\n",
    "male_rural_reg = filter(rural_reg, gender == 0)\n",
    "summary(lm(lninc ~  postsecondary + seniorsecondary + juniorsecondary + primary + y10 + y12 + y14, data=female_urban_reg))\n",
    "summary(lm(lninc ~  postsecondary + seniorsecondary + juniorsecondary + primary + y10 + y12 + y14, data=female_rural_reg))\n",
    "summary(lm(lninc ~  postsecondary + seniorsecondary + juniorsecondary + primary + y10 + y12 + y14, data=male_urban_reg))\n",
    "summary(lm(lninc ~  postsecondary + seniorsecondary + juniorsecondary + primary + y10 + y12 + y14, data=male_rural_reg))"
   ]
  },
  {
   "cell_type": "markdown",
   "metadata": {},
   "source": [
    "### Regression for rinc and lnrinc"
   ]
  },
  {
   "cell_type": "code",
   "execution_count": 18,
   "metadata": {},
   "outputs": [
    {
     "data": {
      "text/plain": "\nCall:\nlm(formula = rinc ~ postsecondary + seniorsecondary + juniorsecondary + \n    primary + gender + urban + y10 + y12 + y14, data = combined)\n\nResiduals:\n   Min     1Q Median     3Q    Max \n -3.07  -0.82  -0.30   0.33 467.73 \n\nCoefficients:\n                Estimate Std. Error t value Pr(>|t|)    \n(Intercept)     0.145090   0.037147   3.906 9.40e-05 ***\npostsecondary   2.432263   0.040480  60.085  < 2e-16 ***\nseniorsecondary 0.958014   0.033858  28.295  < 2e-16 ***\njuniorsecondary 0.645283   0.027834  23.183  < 2e-16 ***\nprimary         0.284256   0.030755   9.243  < 2e-16 ***\ngender          0.265572   0.014158  18.758  < 2e-16 ***\nurban           0.048417   0.009626   5.030 4.92e-07 ***\ny10             0.157319   0.034876   4.511 6.47e-06 ***\ny12             0.069476   0.034995   1.985   0.0471 *  \ny14             0.181437   0.084498   2.147   0.0318 *  \n---\nSignif. codes:  0 '***' 0.001 '**' 0.01 '*' 0.05 '.' 0.1 ' ' 1\n\nResidual standard error: 2.829 on 75874 degrees of freedom\nMultiple R-squared:  0.05752,\tAdjusted R-squared:  0.05741 \nF-statistic: 514.5 on 9 and 75874 DF,  p-value: < 2.2e-16\n"
     },
     "metadata": {},
     "output_type": "display_data"
    },
    {
     "data": {
      "text/plain": "\nCall:\nlm(formula = rinc ~ postsecondary + seniorsecondary + juniorsecondary + \n    primary + gender + y10 + y12 + y14, data = urban_combined)\n\nResiduals:\n    Min      1Q  Median      3Q     Max \n -3.344  -1.061  -0.416   0.522 272.301 \n\nCoefficients:\n                Estimate Std. Error t value Pr(>|t|)    \n(Intercept)      0.11389    0.05901   1.930   0.0536 .  \npostsecondary    2.51051    0.05679  44.204  < 2e-16 ***\nseniorsecondary  0.97668    0.05245  18.622  < 2e-16 ***\njuniorsecondary  0.64459    0.04787  13.466  < 2e-16 ***\nprimary          0.29945    0.05551   5.394 6.92e-08 ***\ngender           0.38530    0.02332  16.523  < 2e-16 ***\ny10              0.33397    0.05083   6.570 5.09e-11 ***\ny12              0.30205    0.05131   5.886 3.99e-09 ***\ny14             -0.01884    0.14324  -0.132   0.8954    \n---\nSignif. codes:  0 '***' 0.001 '**' 0.01 '*' 0.05 '.' 0.1 ' ' 1\n\nResidual standard error: 2.922 on 34502 degrees of freedom\nMultiple R-squared:  0.0745,\tAdjusted R-squared:  0.07429 \nF-statistic: 347.2 on 8 and 34502 DF,  p-value: < 2.2e-16\n"
     },
     "metadata": {},
     "output_type": "display_data"
    },
    {
     "data": {
      "text/plain": "\nCall:\nlm(formula = rinc ~ postsecondary + seniorsecondary + juniorsecondary + \n    primary + gender + y10 + y12 + y14, data = rural_combined)\n\nResiduals:\n   Min     1Q Median     3Q    Max \n -2.14  -0.60  -0.25   0.12 468.43 \n\nCoefficients:\n                Estimate Std. Error t value Pr(>|t|)    \n(Intercept)      0.28455    0.04838   5.881 4.10e-09 ***\npostsecondary    1.64419    0.07706  21.337  < 2e-16 ***\nseniorsecondary  0.68586    0.04926  13.923  < 2e-16 ***\njuniorsecondary  0.54701    0.03494  15.654  < 2e-16 ***\nprimary          0.24471    0.03647   6.709 1.98e-11 ***\ngender           0.20746    0.01797  11.544  < 2e-16 ***\ny10             -0.03041    0.04771  -0.637   0.5239    \ny12             -0.13346    0.04765  -2.801   0.0051 ** \ny14             -0.16933    0.12554  -1.349   0.1774    \n---\nSignif. codes:  0 '***' 0.001 '**' 0.01 '*' 0.05 '.' 0.1 ' ' 1\n\nResidual standard error: 2.725 on 40329 degrees of freedom\nMultiple R-squared:  0.02141,\tAdjusted R-squared:  0.02122 \nF-statistic: 110.3 on 8 and 40329 DF,  p-value: < 2.2e-16\n"
     },
     "metadata": {},
     "output_type": "display_data"
    },
    {
     "data": {
      "text/plain": "\nCall:\nlm(formula = lnrinc ~ postsecondary + seniorsecondary + juniorsecondary + \n    primary + gender + urban + y10 + y12 + y14, data = lnrincReg)\n\nResiduals:\n     Min       1Q   Median       3Q      Max \n-10.5493  -0.5264   0.2281   0.8410   5.3336 \n\nCoefficients:\n                 Estimate Std. Error t value Pr(>|t|)    \n(Intercept)     -1.196444   0.024534 -48.767  < 2e-16 ***\npostsecondary    1.732932   0.024212  71.574  < 2e-16 ***\nseniorsecondary  1.265809   0.021949  57.670  < 2e-16 ***\njuniorsecondary  1.050874   0.018734  56.093  < 2e-16 ***\nprimary          0.618875   0.020639  29.985  < 2e-16 ***\ngender           0.283885   0.009443  30.064  < 2e-16 ***\nurban            0.019081   0.005930   3.217  0.00129 ** \ny10             -0.268313   0.021248 -12.628  < 2e-16 ***\ny12              0.239660   0.022283  10.755  < 2e-16 ***\ny14             -0.711340   0.054684 -13.008  < 2e-16 ***\n---\nSignif. codes:  0 '***' 0.001 '**' 0.01 '*' 0.05 '.' 0.1 ' ' 1\n\nResidual standard error: 1.383 on 46144 degrees of freedom\n  (1869 observations deleted due to missingness)\nMultiple R-squared:  0.1944,\tAdjusted R-squared:  0.1943 \nF-statistic:  1237 on 9 and 46144 DF,  p-value: < 2.2e-16\n"
     },
     "metadata": {},
     "output_type": "display_data"
    },
    {
     "data": {
      "text/plain": "\nCall:\nlm(formula = lnrinc ~ postsecondary + seniorsecondary + juniorsecondary + \n    primary + gender + y10 + y12 + y14, data = urban_reg)\n\nResiduals:\n     Min       1Q   Median       3Q      Max \n-10.4944  -0.3971   0.1990   0.6733   4.4564 \n\nCoefficients:\n                Estimate Std. Error t value Pr(>|t|)    \n(Intercept)     -0.99808    0.03223 -30.964   <2e-16 ***\npostsecondary    1.49882    0.02997  50.017   <2e-16 ***\nseniorsecondary  1.05557    0.02905  36.331   <2e-16 ***\njuniorsecondary  0.88624    0.02711  32.696   <2e-16 ***\nprimary          0.55341    0.03122  17.727   <2e-16 ***\ngender           0.24503    0.01227  19.965   <2e-16 ***\ny10              0.01442    0.02533   0.569    0.569    \ny12              0.41687    0.02643  15.772   <2e-16 ***\ny14             -1.06051    0.07923 -13.385   <2e-16 ***\n---\nSignif. codes:  0 '***' 0.001 '**' 0.01 '*' 0.05 '.' 0.1 ' ' 1\n\nResidual standard error: 1.242 on 23150 degrees of freedom\n  (873 observations deleted due to missingness)\nMultiple R-squared:  0.1636,\tAdjusted R-squared:  0.1633 \nF-statistic:   566 on 8 and 23150 DF,  p-value: < 2.2e-16\n"
     },
     "metadata": {},
     "output_type": "display_data"
    },
    {
     "data": {
      "text/plain": "\nCall:\nlm(formula = lnrinc ~ postsecondary + seniorsecondary + juniorsecondary + \n    primary + gender + y10 + y12 + y14, data = rural_reg)\n\nResiduals:\n    Min      1Q  Median      3Q     Max \n-9.8980 -0.6364  0.2286  0.8992  5.5796 \n\nCoefficients:\n                Estimate Std. Error t value Pr(>|t|)    \n(Intercept)     -1.13922    0.03690 -30.869   <2e-16 ***\npostsecondary    1.33277    0.05009  26.608   <2e-16 ***\nseniorsecondary  1.04356    0.03552  29.379   <2e-16 ***\njuniorsecondary  0.94789    0.02609  36.330   <2e-16 ***\nprimary          0.56980    0.02716  20.977   <2e-16 ***\ngender           0.38078    0.01434  26.549   <2e-16 ***\ny10             -0.58123    0.03401 -17.092   <2e-16 ***\ny12              0.02399    0.03585   0.669    0.503    \ny14             -2.00081    0.09400 -21.286   <2e-16 ***\n---\nSignif. codes:  0 '***' 0.001 '**' 0.01 '*' 0.05 '.' 0.1 ' ' 1\n\nResidual standard error: 1.448 on 22284 degrees of freedom\n  (985 observations deleted due to missingness)\nMultiple R-squared:  0.1857,\tAdjusted R-squared:  0.1855 \nF-statistic: 635.4 on 8 and 22284 DF,  p-value: < 2.2e-16\n"
     },
     "metadata": {},
     "output_type": "display_data"
    }
   ],
   "source": [
    "summary(lm(rinc ~  postsecondary + seniorsecondary + juniorsecondary + primary + gender + urban + y10 + y12 + y14, data=combined))\n",
    "summary(lm(rinc ~  postsecondary + seniorsecondary + juniorsecondary + primary + gender + y10 + y12 + y14, data=urban_combined))\n",
    "summary(lm(rinc ~  postsecondary + seniorsecondary + juniorsecondary + primary + gender + y10 + y12 + y14, data=rural_combined))\n",
    "\n",
    "lnrincReg = filter(combined, !is.infinite(lnrinc))\n",
    "urban_reg = filter(lnrincReg, urban == 1)\n",
    "rural_reg = filter(lnrincReg, urban == 0)\n",
    "summary(lm(lnrinc ~  postsecondary + seniorsecondary + juniorsecondary + primary + gender + urban + y10 + y12 + y14, data=lnrincReg))\n",
    "summary(lm(lnrinc ~  postsecondary + seniorsecondary + juniorsecondary + primary + gender + y10 + y12 + y14, data=urban_reg))\n",
    "summary(lm(lnrinc ~  postsecondary + seniorsecondary + juniorsecondary + primary + gender + y10 + y12 + y14, data=rural_reg))"
   ]
  },
  {
   "cell_type": "markdown",
   "metadata": {},
   "source": [
    "### Regression for pinc and lnpinc"
   ]
  },
  {
   "cell_type": "code",
   "execution_count": 19,
   "metadata": {},
   "outputs": [
    {
     "data": {
      "text/plain": "\nCall:\nlm(formula = pinc ~ postsecondary + seniorsecondary + juniorsecondary + \n    primary + gender + urban + y10 + y12 + y14, data = combined)\n\nResiduals:\n     Min       1Q   Median       3Q      Max \n-0.77112 -0.21207  0.00658  0.20923  0.95514 \n\nCoefficients:\n                  Estimate Std. Error t value Pr(>|t|)    \n(Intercept)      0.3737159  0.0034250 109.115  < 2e-16 ***\npostsecondary    0.3246912  0.0037323  86.995  < 2e-16 ***\nseniorsecondary  0.1759524  0.0031217  56.364  < 2e-16 ***\njuniorsecondary  0.1366893  0.0025663  53.263  < 2e-16 ***\nprimary          0.0755914  0.0028356  26.658  < 2e-16 ***\ngender           0.0465633  0.0013053  35.671  < 2e-16 ***\nurban            0.0050757  0.0008875   5.719 1.07e-08 ***\ny10              0.0318290  0.0032156   9.898  < 2e-16 ***\ny12             -0.0526646  0.0032266 -16.322  < 2e-16 ***\ny14             -0.0283937  0.0077908  -3.645 0.000268 ***\n---\nSignif. codes:  0 '***' 0.001 '**' 0.01 '*' 0.05 '.' 0.1 ' ' 1\n\nResidual standard error: 0.2608 on 75874 degrees of freedom\nMultiple R-squared:  0.1414,\tAdjusted R-squared:  0.1413 \nF-statistic:  1388 on 9 and 75874 DF,  p-value: < 2.2e-16\n"
     },
     "metadata": {},
     "output_type": "display_data"
    },
    {
     "data": {
      "text/plain": "\nCall:\nlm(formula = pinc ~ postsecondary + seniorsecondary + juniorsecondary + \n    primary + gender + y10 + y12 + y14, data = urban_combined)\n\nResiduals:\n     Min       1Q   Median       3Q      Max \n-0.78212 -0.24837  0.05726  0.22830  0.94429 \n\nCoefficients:\n                 Estimate Std. Error t value Pr(>|t|)    \n(Intercept)      0.414640   0.005576  74.365  < 2e-16 ***\npostsecondary    0.306903   0.005366  57.191  < 2e-16 ***\nseniorsecondary  0.166726   0.004956  33.644  < 2e-16 ***\njuniorsecondary  0.126478   0.004523  27.964  < 2e-16 ***\nprimary          0.076421   0.005245  14.570  < 2e-16 ***\ngender           0.051959   0.002203  23.582  < 2e-16 ***\ny10              0.019381   0.004803   4.035 5.46e-05 ***\ny12             -0.034489   0.004848  -7.113 1.15e-12 ***\ny14             -0.113082   0.013534  -8.355  < 2e-16 ***\n---\nSignif. codes:  0 '***' 0.001 '**' 0.01 '*' 0.05 '.' 0.1 ' ' 1\n\nResidual standard error: 0.2761 on 34502 degrees of freedom\nMultiple R-squared:  0.1213,\tAdjusted R-squared:  0.1211 \nF-statistic: 595.3 on 8 and 34502 DF,  p-value: < 2.2e-16\n"
     },
     "metadata": {},
     "output_type": "display_data"
    },
    {
     "data": {
      "text/plain": "\nCall:\nlm(formula = pinc ~ postsecondary + seniorsecondary + juniorsecondary + \n    primary + gender + y10 + y12 + y14, data = rural_combined)\n\nResiduals:\n     Min       1Q   Median       3Q      Max \n-0.69766 -0.19495 -0.02802  0.16987  0.95811 \n\nCoefficients:\n                 Estimate Std. Error t value Pr(>|t|)    \n(Intercept)      0.355691   0.004258  83.529  < 2e-16 ***\npostsecondary    0.261606   0.006782  38.573  < 2e-16 ***\nseniorsecondary  0.133588   0.004336  30.812  < 2e-16 ***\njuniorsecondary  0.121965   0.003076  39.656  < 2e-16 ***\nprimary          0.067525   0.003210  21.035  < 2e-16 ***\ngender           0.047464   0.001582  30.007  < 2e-16 ***\ny10              0.043655   0.004199  10.397  < 2e-16 ***\ny12             -0.061921   0.004194 -14.764  < 2e-16 ***\ny14             -0.085759   0.011049  -7.761 8.59e-15 ***\n---\nSignif. codes:  0 '***' 0.001 '**' 0.01 '*' 0.05 '.' 0.1 ' ' 1\n\nResidual standard error: 0.2398 on 40329 degrees of freedom\nMultiple R-squared:  0.121,\tAdjusted R-squared:  0.1208 \nF-statistic:   694 on 8 and 40329 DF,  p-value: < 2.2e-16\n"
     },
     "metadata": {},
     "output_type": "display_data"
    },
    {
     "data": {
      "text/plain": "\nCall:\nlm(formula = lnpinc ~ postsecondary + seniorsecondary + juniorsecondary + \n    primary + gender + urban + y10 + y12 + y14, data = lnpincReg)\n\nResiduals:\n    Min      1Q  Median      3Q     Max \n-4.1687 -0.5175  0.2313  0.5502  1.9388 \n\nCoefficients:\n                 Estimate Std. Error  t value Pr(>|t|)    \n(Intercept)     -1.051729   0.010432 -100.816  < 2e-16 ***\npostsecondary    0.620287   0.011368   54.563  < 2e-16 ***\nseniorsecondary  0.231028   0.009508   24.297  < 2e-16 ***\njuniorsecondary  0.193919   0.007817   24.808  < 2e-16 ***\nprimary          0.120545   0.008637   13.957  < 2e-16 ***\ngender           0.101872   0.003976   25.622  < 2e-16 ***\nurban           -0.007539   0.002703   -2.789 0.005290 ** \ny10             -0.033663   0.009794   -3.437 0.000589 ***\ny12             -0.160249   0.009828  -16.305  < 2e-16 ***\ny14             -0.411285   0.023730  -17.332  < 2e-16 ***\n---\nSignif. codes:  0 '***' 0.001 '**' 0.01 '*' 0.05 '.' 0.1 ' ' 1\n\nResidual standard error: 0.7944 on 75874 degrees of freedom\nMultiple R-squared:  0.0584,\tAdjusted R-squared:  0.05829 \nF-statistic: 522.9 on 9 and 75874 DF,  p-value: < 2.2e-16\n"
     },
     "metadata": {},
     "output_type": "display_data"
    },
    {
     "data": {
      "text/plain": "\nCall:\nlm(formula = lnpinc ~ postsecondary + seniorsecondary + juniorsecondary + \n    primary + gender + y10 + y12 + y14, data = urban_reg)\n\nResiduals:\n    Min      1Q  Median      3Q     Max \n-4.1626 -0.6228  0.2951  0.5584  1.8153 \n\nCoefficients:\n                 Estimate Std. Error t value Pr(>|t|)    \n(Intercept)     -0.953394   0.016533 -57.667   <2e-16 ***\npostsecondary    0.568601   0.015912  35.735   <2e-16 ***\nseniorsecondary  0.216612   0.014694  14.742   <2e-16 ***\njuniorsecondary  0.162430   0.013411  12.112   <2e-16 ***\nprimary          0.131901   0.015552   8.481   <2e-16 ***\ngender           0.104086   0.006533  15.932   <2e-16 ***\ny10             -0.088588   0.014240  -6.221    5e-10 ***\ny12             -0.124937   0.014376  -8.691   <2e-16 ***\ny14             -0.661635   0.040131 -16.487   <2e-16 ***\n---\nSignif. codes:  0 '***' 0.001 '**' 0.01 '*' 0.05 '.' 0.1 ' ' 1\n\nResidual standard error: 0.8187 on 34502 degrees of freedom\nMultiple R-squared:  0.05743,\tAdjusted R-squared:  0.05722 \nF-statistic: 262.8 on 8 and 34502 DF,  p-value: < 2.2e-16\n"
     },
     "metadata": {},
     "output_type": "display_data"
    },
    {
     "data": {
      "text/plain": "\nCall:\nlm(formula = lnpinc ~ postsecondary + seniorsecondary + juniorsecondary + \n    primary + gender + y10 + y12 + y14, data = rural_reg)\n\nResiduals:\n    Min      1Q  Median      3Q     Max \n-4.0516 -0.4573  0.1741  0.5215  2.0244 \n\nCoefficients:\n                 Estimate Std. Error t value Pr(>|t|)    \n(Intercept)     -1.111976   0.013557 -82.022   <2e-16 ***\npostsecondary    0.502659   0.021592  23.280   <2e-16 ***\nseniorsecondary  0.114916   0.013803   8.325   <2e-16 ***\njuniorsecondary  0.162498   0.009792  16.595   <2e-16 ***\nprimary          0.095430   0.010220   9.337   <2e-16 ***\ngender           0.109670   0.005036  21.778   <2e-16 ***\ny10              0.019277   0.013368   1.442    0.149    \ny12             -0.168667   0.013353 -12.631   <2e-16 ***\ny14             -0.635042   0.035178 -18.052   <2e-16 ***\n---\nSignif. codes:  0 '***' 0.001 '**' 0.01 '*' 0.05 '.' 0.1 ' ' 1\n\nResidual standard error: 0.7636 on 40329 degrees of freedom\nMultiple R-squared:  0.04978,\tAdjusted R-squared:  0.04959 \nF-statistic: 264.1 on 8 and 40329 DF,  p-value: < 2.2e-16\n"
     },
     "metadata": {},
     "output_type": "display_data"
    }
   ],
   "source": [
    "summary(lm(pinc ~  postsecondary + seniorsecondary + juniorsecondary + primary + gender + urban + y10 + y12 + y14, data=combined))\n",
    "summary(lm(pinc ~  postsecondary + seniorsecondary + juniorsecondary + primary + gender + y10 + y12 + y14, data=urban_combined))\n",
    "summary(lm(pinc ~  postsecondary + seniorsecondary + juniorsecondary + primary + gender + y10 + y12 + y14, data=rural_combined))\n",
    "\n",
    "lnpincReg = filter(combined, !is.infinite(lnpinc))\n",
    "urban_reg = filter(lnpincReg, urban == 1)\n",
    "rural_reg = filter(lnpincReg, urban == 0)\n",
    "summary(lm(lnpinc ~  postsecondary + seniorsecondary + juniorsecondary + primary + gender + urban + y10 + y12 + y14, data=lnpincReg))\n",
    "summary(lm(lnpinc ~  postsecondary + seniorsecondary + juniorsecondary + primary + gender + y10 + y12 + y14, data=urban_reg))\n",
    "summary(lm(lnpinc ~  postsecondary + seniorsecondary + juniorsecondary + primary + gender + y10 + y12 + y14, data=rural_reg))"
   ]
  }
 ],
 "metadata": {
  "kernelspec": {
   "display_name": "R",
   "language": "R",
   "name": "ir"
  },
  "language_info": {
   "codemirror_mode": "r",
   "file_extension": ".r",
   "mimetype": "text/x-r-source",
   "name": "R",
   "pygments_lexer": "r",
   "version": "4.0.3"
  },
  "orig_nbformat": 2
 },
 "nbformat": 4,
 "nbformat_minor": 2
}