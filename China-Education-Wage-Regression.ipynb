{
 "cells": [
  {
   "cell_type": "markdown",
   "source": [
    "# Analysis for China wage vs. education data"
   ],
   "metadata": {}
  },
  {
   "cell_type": "markdown",
   "source": [
    "#### Since R cannot be ran on normal VS code, I had to install visual studio code insider for it!"
   ],
   "metadata": {}
  },
  {
   "cell_type": "markdown",
   "source": [
    "## Datasets used\n",
    "\n",
    "From Dropbox: China-Education-Wages -> Data -> CFPS Data 2010-2016\n",
    "\n",
    "Downloaded:\n",
    "- 2010 Egnlish -> ecfps2010adult_112014.dta     \n",
    "  - Renamed 2010adult.dta\n",
    "- 2012 Egnlish -> ecfps2012adultcombine…015.dta     \n",
    "  - Renamed 2012adult.dta\n",
    "- 2014 English -> ecfps2014adult_170630.dta     \n",
    "  - Renamed 2014adult.dta\n",
    "- Mincer16 -> Mincer16.csv \n",
    "\n",
    "All 4 datasets were put within one folder named $CFPSdata$ in the same layer as this jupyter notebook."
   ],
   "metadata": {}
  },
  {
   "cell_type": "code",
   "execution_count": 1,
   "source": [
    "library(knitr)\n",
    "library(xtable)\n",
    "library(broom)\n",
    "library(dplyr)\n",
    "library(tidyverse)\n",
    "library(ggplot2)\n",
    "library(stargazer)\n",
    "library(lubridate)\n",
    "library(haven)\n",
    "library(ineq)\n",
    "library(PerformanceAnalytics)\n",
    "library(gglorenz)"
   ],
   "outputs": [
    {
     "output_type": "stream",
     "name": "stderr",
     "text": [
      "\n",
      "Attaching package: 'dplyr'\n",
      "\n",
      "\n",
      "The following objects are masked from 'package:stats':\n",
      "\n",
      "    filter, lag\n",
      "\n",
      "\n",
      "The following objects are masked from 'package:base':\n",
      "\n",
      "    intersect, setdiff, setequal, union\n",
      "\n",
      "\n",
      "-- \u001b[1mAttaching packages\u001b[22m --------------------------------------- tidyverse 1.3.0 --\n",
      "\n",
      "\u001b[32mv\u001b[39m \u001b[34mggplot2\u001b[39m 3.3.2     \u001b[32mv\u001b[39m \u001b[34mpurrr  \u001b[39m 0.3.4\n",
      "\u001b[32mv\u001b[39m \u001b[34mtibble \u001b[39m 3.0.4     \u001b[32mv\u001b[39m \u001b[34mstringr\u001b[39m 1.4.0\n",
      "\u001b[32mv\u001b[39m \u001b[34mtidyr  \u001b[39m 1.1.2     \u001b[32mv\u001b[39m \u001b[34mforcats\u001b[39m 0.5.0\n",
      "\u001b[32mv\u001b[39m \u001b[34mreadr  \u001b[39m 1.4.0     \n",
      "\n",
      "-- \u001b[1mConflicts\u001b[22m ------------------------------------------ tidyverse_conflicts() --\n",
      "\u001b[31mx\u001b[39m \u001b[34mdplyr\u001b[39m::\u001b[32mfilter()\u001b[39m masks \u001b[34mstats\u001b[39m::filter()\n",
      "\u001b[31mx\u001b[39m \u001b[34mdplyr\u001b[39m::\u001b[32mlag()\u001b[39m    masks \u001b[34mstats\u001b[39m::lag()\n",
      "\n",
      "\n",
      "Please cite as: \n",
      "\n",
      "\n",
      " Hlavac, Marek (2018). stargazer: Well-Formatted Regression and Summary Statistics Tables.\n",
      "\n",
      " R package version 5.2.2. https://CRAN.R-project.org/package=stargazer \n",
      "\n",
      "\n",
      "\n",
      "Attaching package: 'lubridate'\n",
      "\n",
      "\n",
      "The following objects are masked from 'package:base':\n",
      "\n",
      "    date, intersect, setdiff, union\n",
      "\n",
      "\n",
      "Loading required package: xts\n",
      "\n",
      "Loading required package: zoo\n",
      "\n",
      "\n",
      "Attaching package: 'zoo'\n",
      "\n",
      "\n",
      "The following objects are masked from 'package:base':\n",
      "\n",
      "    as.Date, as.Date.numeric\n",
      "\n",
      "\n",
      "\n",
      "Attaching package: 'xts'\n",
      "\n",
      "\n",
      "The following objects are masked from 'package:dplyr':\n",
      "\n",
      "    first, last\n",
      "\n",
      "\n",
      "\n",
      "Attaching package: 'PerformanceAnalytics'\n",
      "\n",
      "\n",
      "The following object is masked from 'package:graphics':\n",
      "\n",
      "    legend\n",
      "\n",
      "\n"
     ]
    }
   ],
   "metadata": {}
  },
  {
   "cell_type": "markdown",
   "source": [
    "## Manipulating data"
   ],
   "metadata": {}
  },
  {
   "cell_type": "markdown",
   "source": [
    "### Read Data"
   ],
   "metadata": {}
  },
  {
   "cell_type": "code",
   "execution_count": 39,
   "source": [
    "data10 <- read_dta(\"./CFPSdata/2010adult.dta\")\n",
    "data10 <- filter(data10, !qc1 < 0)\n",
    "data12 <- read_dta(\"./CFPSdata/2012adult.dta\")\n",
    "data12 <- filter(data12, !sch2012 < 0)\n",
    "data14 <- read_dta(\"./CFPSdata/2014adult.dta\")\n",
    "data14 <- filter(data14, !pw1r < 0)\n",
    "data16 <- read.csv(\"./CFPSdata/Mincer16.csv\")"
   ],
   "outputs": [],
   "metadata": {}
  },
  {
   "cell_type": "markdown",
   "source": [
    "### Adding education and year dummies to the data, then combining them into one dataframe"
   ],
   "metadata": {}
  },
  {
   "cell_type": "code",
   "execution_count": 9,
   "source": [
    "pinc <- function(df) {\n",
    "    categorize <- \n",
    "        df %>%\n",
    "        group_by(rinc) %>%\n",
    "        tally()\n",
    "    categorize = categorize[order(categorize$rinc), ]\n",
    "    key <- categorize$rinc\n",
    "    pinc <- c()\n",
    "    sum_so_far <- 0\n",
    "    total <- nrow(df)\n",
    "    categorize$pinc <- 0\n",
    "    for (row in seq_len(nrow(categorize))) {\n",
    "      sum_so_far <- sum_so_far + categorize[row, 'n']\n",
    "      categorize[row, 'pinc'] <- (sum_so_far - (0.5 * categorize[row, 'n'])) / total\n",
    "    }\n",
    "    ordered_combined <- df[order(df$rinc), ]\n",
    "    ordered_combined$pinc <- 0\n",
    "    current_rinc <- 0\n",
    "    current_pinc <- 0\n",
    "    current_row <- 0\n",
    "    for (row in seq_len(nrow(ordered_combined))) {\n",
    "      rinc <- ordered_combined[row, 'rinc']\n",
    "      if (rinc != current_rinc) {\n",
    "        current_row <- current_row + 1\n",
    "        current_rinc <- rinc\n",
    "        current_pinc <- categorize[current_row, 'pinc']\n",
    "      }\n",
    "      ordered_combined[row, 'pinc'] <- current_pinc\n",
    "    }\n",
    "    ordered_combined$lnpinc <- log(ordered_combined$pinc)\n",
    "    return(ordered_combined)\n",
    "}"
   ],
   "outputs": [],
   "metadata": {}
  },
  {
   "cell_type": "code",
   "execution_count": 11,
   "source": [
    "mincer10 = data.frame(\n",
    "  income = data10$income, \n",
    "  age = data10$qa1age,\n",
    "  gender = data10$gender,\n",
    "  urban = data10$urban,\n",
    "  prov = data10$provcd,\n",
    "  ethnic = data10$qa5code,\n",
    "  married = 0,\n",
    "  party = 0,\n",
    "  postsecondary = 0,\n",
    "  seniorsecondary = 0, \n",
    "  juniorsecondary = 0,\n",
    "  primary = 0, \n",
    "  illiterate = 0,\n",
    "  y10 = 1,\n",
    "  y12 = 0,\n",
    "  y14 = 0,\n",
    "  y16 = 0,\n",
    "  Shanghai = 0,\n",
    "  Liaoning = 0,\n",
    "  Guangdong = 0,\n",
    "  Gansu = 0,\n",
    "  Others = 0)\n",
    "\n",
    "for (row in 1:nrow(data10)) {\n",
    "  marriage = data10[row, \"qe1\"]\n",
    "  if (marriage == 2) {\n",
    "    mincer10[row, \"married\"] <- 1\n",
    "  }\n",
    "  party = data10[row, \"qa7_s_1\"]\n",
    "  if (party == 1) {\n",
    "    mincer10[row, \"party\"] <- 1\n",
    "  }\n",
    "  edu = data10[row, \"qc1\"]\n",
    "  if (edu == 1) {\n",
    "    mincer10[row, \"illiterate\"] <- 1\n",
    "  } else if (edu == 2) {\n",
    "    mincer10[row, \"primary\"] <- 1\n",
    "  } else if (edu == 3) {\n",
    "    mincer10[row, \"juniorsecondary\"] <- 1\n",
    "  } else if (edu == 4) {\n",
    "    mincer10[row, \"seniorsecondary\"] <- 1\n",
    "  } else if (edu > 4) {\n",
    "    mincer10[row, \"postsecondary\"] <- 1\n",
    "  }\n",
    "  prov = mincer10[row, \"prov\"]\n",
    "  if (prov == 21) {\n",
    "    mincer10[row, \"Liaoning\"] <- 1\n",
    "  } else if (prov == 31) {\n",
    "    mincer10[row, \"Shanghai\"] <- 1\n",
    "  } else if (prov == 44) {\n",
    "    mincer10[row, \"Guangdong\"] <- 1\n",
    "  } else if (prov == 62) {\n",
    "    mincer10[row, \"Gansu\"] <- 1\n",
    "  } else {\n",
    "    mincer10[row, \"Others\"] <- 1\n",
    "  }\n",
    "}\n",
    "mincer10 = filter(mincer10, !is.na(income) & income >= 0)\n",
    "\n",
    "mincer10_urban = filter(mincer10, urban == 1)\n",
    "mincer10_rural = filter(mincer10, urban == 0)\n",
    "mincer10_female_urban = filter(mincer10_urban, gender == 1)\n",
    "mincer10_female_rural = filter(mincer10_rural, gender == 1)\n",
    "mincer10_male_urban = filter(mincer10_urban, gender == 0)\n",
    "mincer10_male_rural = filter(mincer10_rural, gender == 0)\n",
    "\n",
    "mincer10$rinc = mincer10$income / mean(mincer10$income)\n",
    "\n",
    "mincer10_urban$rinc = mincer10_urban$income / mean(mincer10_urban$income)\n",
    "mincer10_rural$rinc = mincer10_rural$income / mean(mincer10_rural$income)\n",
    "mincer10_female_urban$rinc = mincer10_female_urban$income / mean(mincer10_female_urban$income)\n",
    "mincer10_female_rural$rinc = mincer10_female_rural$income / mean(mincer10_female_rural$income)\n",
    "mincer10_male_urban$rinc = mincer10_male_urban$income / mean(mincer10_male_urban$income)\n",
    "mincer10_male_rural$rinc = mincer10_male_rural$income / mean(mincer10_male_rural$income)"
   ],
   "outputs": [],
   "metadata": {}
  },
  {
   "cell_type": "code",
   "execution_count": 12,
   "source": [
    "mincer10 <- pinc(mincer10)\n",
    "\n",
    "mincer10_urban <- pinc(mincer10_urban)\n",
    "\n",
    "mincer10_rural <- pinc(mincer10_rural)\n",
    "\n",
    "mincer10_female_urban <- pinc(mincer10_female_urban)\n",
    "\n",
    "mincer10_female_rural <- pinc(mincer10_female_rural)\n",
    "\n",
    "mincer10_male_urban <- pinc(mincer10_male_urban)\n",
    "\n",
    "mincer10_male_rural <- pinc(mincer10_male_rural)"
   ],
   "outputs": [],
   "metadata": {}
  },
  {
   "cell_type": "code",
   "execution_count": 16,
   "source": [
    "mincer12 <- data.frame(\n",
    "  income = data12$income,\n",
    "  age = data12$cfps2012_age,\n",
    "  gender = data12$cfps2012_gender,\n",
    "  urban = data12$urban12,\n",
    "  prov = data12$provcd,\n",
    "  ethnic = data12$qa701code,\n",
    "  married = 0,\n",
    "  party = data12$sn401,\n",
    "  postsecondary = 0,\n",
    "  seniorsecondary = 0,\n",
    "  juniorsecondary = 0,\n",
    "  primary = 0,\n",
    "  illiterate = 0,\n",
    "  y10 = 0,\n",
    "  y12 = 1,\n",
    "  y14 = 0,\n",
    "  y16 = 0,\n",
    "  Shanghai = 0,\n",
    "  Liaoning = 0,\n",
    "  Guangdong = 0,\n",
    "  Gansu = 0,\n",
    "  Others = 0)\n",
    "\n",
    "for (row in seq_len(nrow(data12))) {\n",
    "  marriage <- data12[row, \"qe104\"]\n",
    "  if (marriage == 2) {\n",
    "    mincer12[row, \"married\"] <- 1\n",
    "  }\n",
    "  edu <- data12[row, \"sch2012\"]\n",
    "  if (edu == 1) {\n",
    "    mincer12[row, \"illiterate\"] <- 1\n",
    "  } else if (edu == 2) {\n",
    "    mincer12[row, \"primary\"] <- 1\n",
    "  } else if (edu == 3) {\n",
    "    mincer12[row, \"juniorsecondary\"] <- 1\n",
    "  } else if (edu == 4) {\n",
    "    mincer12[row, \"seniorsecondary\"] <- 1\n",
    "  } else if (edu > 4) {\n",
    "    mincer12[row, \"postsecondary\"] <- 1\n",
    "  }\n",
    "  prov = mincer12[row, \"prov\"]\n",
    "  if (prov == 21) {\n",
    "    mincer12[row, \"Liaoning\"] <- 1\n",
    "  } else if (prov == 31) {\n",
    "    mincer12[row, \"Shanghai\"] <- 1\n",
    "  } else if (prov == 44) {\n",
    "    mincer12[row, \"Guangdong\"] <- 1\n",
    "  } else if (prov == 62) {\n",
    "    mincer12[row, \"Gansu\"] <- 1\n",
    "  } else {\n",
    "    mincer12[row, \"Others\"] <- 1\n",
    "  }\n",
    "}\n",
    "mincer12 <- filter(mincer12, !is.na(income))\n",
    "\n",
    "mincer12_urban <- filter(mincer12, urban == 1)\n",
    "mincer12_rural <- filter(mincer12, urban == 0)\n",
    "mincer12_female_urban <- filter(mincer12_urban, gender == 1)\n",
    "mincer12_female_rural <- filter(mincer12_rural, gender == 1)\n",
    "mincer12_male_urban <- filter(mincer12_urban, gender == 0)\n",
    "mincer12_male_rural <- filter(mincer12_rural, gender == 0)\n",
    "\n",
    "mincer12$rinc <- mincer12$income / mean(mincer12$income)\n",
    "\n",
    "mincer12_urban$rinc <- mincer12_urban$income / mean(mincer12_urban$income)\n",
    "mincer12_rural$rinc <- mincer12_rural$income / mean(mincer12_rural$income)\n",
    "mincer12_female_urban$rinc <- mincer12_female_urban$income / mean(mincer12_female_urban$income)\n",
    "mincer12_female_rural$rinc <- mincer12_female_rural$income / mean(mincer12_female_rural$income)\n",
    "mincer12_male_urban$rinc <- mincer12_male_urban$income / mean(mincer12_male_urban$income)\n",
    "mincer12_male_rural$rinc <- mincer12_male_rural$income / mean(mincer12_male_rural$income)"
   ],
   "outputs": [],
   "metadata": {}
  },
  {
   "cell_type": "code",
   "execution_count": 18,
   "source": [
    "mincer12 <- pinc(mincer12)\n",
    "\n",
    "mincer12_urban <- pinc(mincer12_urban)\n",
    "\n",
    "mincer12_rural <- pinc(mincer12_rural)\n",
    "\n",
    "mincer12_female_urban <- pinc(mincer12_female_urban)\n",
    "\n",
    "mincer12_female_rural <- pinc(mincer12_female_rural)\n",
    "\n",
    "mincer12_male_urban <- pinc(mincer12_male_urban)\n",
    "\n",
    "mincer12_male_rural <- pinc(mincer12_male_rural)"
   ],
   "outputs": [],
   "metadata": {}
  },
  {
   "cell_type": "code",
   "execution_count": 25,
   "source": [
    "mincer14 <- data.frame(\n",
    "  income = data14$p_income,\n",
    "  age = data14$cfps2014_age,\n",
    "  gender = data14$cfps_gender,\n",
    "  urban = data14$urban14,\n",
    "  prov = data14$provcd14,\n",
    "  ethnic = data14$cfps_minzu,\n",
    "  married = 0,\n",
    "  party = data14$pn401a,\n",
    "  postsecondary = 0,\n",
    "  seniorsecondary = 0,\n",
    "  juniorsecondary = 0,\n",
    "  primary = 0,\n",
    "  illiterate = 0,\n",
    "  y10 = 0,\n",
    "  y12 = 0,\n",
    "  y14 = 1,\n",
    "  y16 = 0,\n",
    "  Shanghai = 0,\n",
    "  Liaoning = 0,\n",
    "  Guangdong = 0,\n",
    "  Gansu = 0,\n",
    "  Others = 0)\n",
    "\n",
    "for (row in seq_len(nrow(data14))) {\n",
    "  marriage <- data14[row, \"qea0\"]\n",
    "  if (marriage == 2) {\n",
    "    mincer14[row, \"married\"] <- 1\n",
    "  }\n",
    "  edu <- data14[row, \"pw1r\"]\n",
    "  if (edu == 1) {\n",
    "    mincer14[row, \"illiterate\"] <- 1\n",
    "  } else if (edu == 2) {\n",
    "    mincer14[row, \"primary\"] <- 1\n",
    "  } else if (edu == 3) {\n",
    "    mincer14[row, \"juniorsecondary\"] <- 1\n",
    "  } else if (edu == 4) {\n",
    "    mincer14[row, \"seniorsecondary\"] <- 1\n",
    "  } else if (edu > 4) {\n",
    "    mincer14[row, \"postsecondary\"] <- 1\n",
    "  }\n",
    "  prov <- mincer14[row, \"prov\"]\n",
    "  if (prov == 21) {\n",
    "    mincer14[row, \"Liaoning\"] <- 1\n",
    "  } else if (prov == 31) {\n",
    "    mincer14[row, \"Shanghai\"] <- 1\n",
    "  } else if (prov == 44) {\n",
    "    mincer14[row, \"Guangdong\"] <- 1\n",
    "  } else if (prov == 62) {\n",
    "    mincer14[row, \"Gansu\"] <- 1\n",
    "  } else {\n",
    "    mincer14[row, \"Others\"] <- 1\n",
    "  }\n",
    "}\n",
    "mincer14 <- filter(mincer14, !is.na(income))\n",
    "\n",
    "mincer14_urban <- filter(mincer14, urban == 1)\n",
    "mincer14_rural <- filter(mincer14, urban == 0)\n",
    "mincer14_female_urban <- filter(mincer14_urban, gender == 1)\n",
    "mincer14_female_rural <- filter(mincer14_rural, gender == 1)\n",
    "mincer14_male_urban <- filter(mincer14_urban, gender == 0)\n",
    "mincer14_male_rural <- filter(mincer14_rural, gender == 0)\n",
    "\n",
    "mincer14$rinc <- mincer14$income / mean(mincer14$income)\n",
    "\n",
    "mincer14_urban$rinc <- mincer14_urban$income / mean(mincer14_urban$income)\n",
    "mincer14_rural$rinc <- mincer14_rural$income / mean(mincer14_rural$income)\n",
    "mincer14_female_urban$rinc <- mincer14_female_urban$income / mean(mincer14_female_urban$income)\n",
    "mincer14_female_rural$rinc <- mincer14_female_rural$income / mean(mincer14_female_rural$income)\n",
    "mincer14_male_urban$rinc <- mincer14_male_urban$income / mean(mincer14_male_urban$income)\n",
    "mincer14_male_rural$rinc <- mincer14_male_rural$income / mean(mincer14_male_rural$income)"
   ],
   "outputs": [],
   "metadata": {}
  },
  {
   "cell_type": "code",
   "execution_count": 31,
   "source": [
    "print(nrow(data14))"
   ],
   "outputs": [
    {
     "output_type": "stream",
     "name": "stdout",
     "text": [
      "[1] 1670\n"
     ]
    }
   ],
   "metadata": {}
  },
  {
   "cell_type": "code",
   "execution_count": 20,
   "source": [
    "mincer14 <- pinc(mincer14)\n",
    "\n",
    "mincer14_urban <- pinc(mincer14_urban)\n",
    "\n",
    "mincer14_rural <- pinc(mincer14_rural)\n",
    "\n",
    "mincer14_female_urban <- pinc(mincer14_female_urban)\n",
    "\n",
    "mincer14_female_rural <- pinc(mincer14_female_rural)\n",
    "\n",
    "mincer14_male_urban <- pinc(mincer14_male_urban)\n",
    "\n",
    "mincer14_male_rural <- pinc(mincer14_male_rural)"
   ],
   "outputs": [],
   "metadata": {}
  },
  {
   "cell_type": "code",
   "execution_count": 21,
   "source": [
    "mincer16 <- data.frame(\n",
    "  income = data16$income,\n",
    "  age = data16$age,\n",
    "  gender = data16$gender,\n",
    "  urban = data16$urban16,\n",
    "  prov = data16$provcd16,\n",
    "  ethnic = data16$ethnic,\n",
    "  married = data16$married,\n",
    "  party = data16$party,\n",
    "  postsecondary = data16$postsecondary,\n",
    "  seniorsecondary = data16$seniorsecondary,\n",
    "  juniorsecondary = data16$juniorsecondary,\n",
    "  primary = data16$primary,\n",
    "  illiterate = data16$illiterate,\n",
    "  y10 = 0,\n",
    "  y12 = 0,\n",
    "  y14 = 0,\n",
    "  y16 = 1)\n",
    "\n",
    "for (row in seq_len(nrow(data16))) {\n",
    "  prov <- mincer16[row, \"prov\"]\n",
    "  if (prov == 21) {\n",
    "    mincer16[row, \"Liaoning\"] <- 1\n",
    "  } else if (prov == 31) {\n",
    "    mincer16[row, \"Shanghai\"] <- 1\n",
    "  } else if (prov == 44) {\n",
    "    mincer16[row, \"Guangdong\"] <- 1\n",
    "  } else if (prov == 62) {\n",
    "    mincer16[row, \"Gansu\"] <- 1\n",
    "  } else {\n",
    "    mincer16[row, \"Others\"] <- 1\n",
    "  }\n",
    "}\n",
    "mincer16 <- filter(mincer16, !is.na(income))\n",
    "\n",
    "mincer16_urban <- filter(mincer16, urban == 1)\n",
    "mincer16_rural <- filter(mincer16, urban == 0)\n",
    "mincer16_female_urban <- filter(mincer16_urban, gender == 1)\n",
    "mincer16_female_rural <- filter(mincer16_rural, gender == 1)\n",
    "mincer16_male_urban <- filter(mincer16_urban, gender == 0)\n",
    "mincer16_male_rural <- filter(mincer16_rural, gender == 0)\n",
    "\n",
    "mincer16$rinc <- mincer16$income / mean(mincer16$income)\n",
    "\n",
    "mincer16_urban$rinc <- mincer16_urban$income / mean(mincer16_urban$income)\n",
    "mincer16_rural$rinc <- mincer16_rural$income / mean(mincer16_rural$income)\n",
    "mincer16_female_urban$rinc <- mincer16_female_urban$income / mean(mincer16_female_urban$income)\n",
    "mincer16_female_rural$rinc <- mincer16_female_rural$income / mean(mincer16_female_rural$income)\n",
    "mincer16_male_urban$rinc <- mincer16_male_urban$income / mean(mincer16_male_urban$income)\n",
    "mincer16_male_rural$rinc <- mincer16_male_rural$income / mean(mincer16_male_rural$income)"
   ],
   "outputs": [],
   "metadata": {}
  },
  {
   "cell_type": "code",
   "execution_count": 22,
   "source": [
    "mincer16 <- pinc(mincer16)\n",
    "\n",
    "mincer16_urban <- pinc(mincer16_urban)\n",
    "\n",
    "mincer16_rural <- pinc(mincer16_rural)\n",
    "\n",
    "mincer16_female_urban <- pinc(mincer16_female_urban)\n",
    "\n",
    "mincer16_female_rural <- pinc(mincer16_female_rural)\n",
    "\n",
    "mincer16_male_urban <- pinc(mincer16_male_urban)\n",
    "\n",
    "mincer16_male_rural <- pinc(mincer16_male_rural)"
   ],
   "outputs": [],
   "metadata": {}
  },
  {
   "cell_type": "code",
   "execution_count": null,
   "source": [],
   "outputs": [],
   "metadata": {}
  },
  {
   "cell_type": "code",
   "execution_count": 23,
   "source": [
    "combined <- full_join(mincer10, full_join(mincer12, full_join(mincer14, mincer16)))\n",
    "combined$lninc <- log(combined$income)\n",
    "combined$lnrinc <- log(combined$rinc)\n",
    "\n",
    "urban <- full_join(mincer10_urban, full_join(mincer12_urban, full_join(mincer14_urban, mincer16_urban)))\n",
    "urban$lninc <- log(urban$income)\n",
    "urban$lnrinc <- log(urban$rinc)\n",
    "\n",
    "\n",
    "rural <- full_join(mincer10_rural, full_join(mincer12_rural, full_join(mincer14_rural, mincer16_rural)))\n",
    "rural$lninc <- log(rural$income)\n",
    "rural$lnrinc <- log(rural$rinc)\n",
    "\n",
    "\n",
    "female_urban <- full_join(mincer10_female_urban, full_join(mincer12_female_urban, full_join(mincer14_female_urban, mincer16_female_urban)))\n",
    "female_urban$lninc <- log(female_urban$income)\n",
    "female_urban$lnrinc <- log(female_urban$rinc)\n",
    "\n",
    "\n",
    "female_rural <- full_join(mincer10_female_rural, full_join(mincer12_female_rural, full_join(mincer14_female_rural, mincer16_female_rural)))\n",
    "female_rural$lninc <- log(female_rural$income)\n",
    "female_rural$lnrinc <- log(female_rural$rinc)\n",
    "\n",
    "\n",
    "male_urban <- full_join(mincer10_male_urban, full_join(mincer12_male_urban, full_join(mincer14_male_urban, mincer16_male_urban)))\n",
    "male_urban$lninc <- log(male_urban$income)\n",
    "male_urban$lnrinc <- log(male_urban$rinc)\n",
    "\n",
    "male_rural <- full_join(mincer10_male_rural, full_join(mincer12_male_rural, full_join(mincer14_male_rural, mincer16_male_rural)))\n",
    "male_rural$lninc <- log(male_rural$income)\n",
    "male_rural$lnrinc <- log(male_rural$rinc)"
   ],
   "outputs": [
    {
     "output_type": "stream",
     "name": "stderr",
     "text": [
      "Joining, by = c(\"income\", \"age\", \"gender\", \"urban\", \"prov\", \"ethnic\", \"married\", \"party\", \"postsecondary\", \"seniorsecondary\", \"juniorsecondary\", \"primary\", \"illiterate\", \"y10\", \"y12\", \"y14\", \"y16\", \"Shanghai\", \"Liaoning\", \"Guangdong\", \"Gansu\", \"Others\", \"rinc\", \"pinc\", \"lnpinc\")\n",
      "\n",
      "Joining, by = c(\"income\", \"age\", \"gender\", \"urban\", \"prov\", \"ethnic\", \"married\", \"party\", \"postsecondary\", \"seniorsecondary\", \"juniorsecondary\", \"primary\", \"illiterate\", \"y10\", \"y12\", \"y14\", \"y16\", \"Shanghai\", \"Liaoning\", \"Guangdong\", \"Gansu\", \"Others\", \"rinc\", \"pinc\", \"lnpinc\")\n",
      "\n",
      "Joining, by = c(\"income\", \"age\", \"gender\", \"urban\", \"prov\", \"ethnic\", \"married\", \"party\", \"postsecondary\", \"seniorsecondary\", \"juniorsecondary\", \"primary\", \"illiterate\", \"y10\", \"y12\", \"y14\", \"y16\", \"Shanghai\", \"Liaoning\", \"Guangdong\", \"Gansu\", \"Others\", \"rinc\", \"pinc\", \"lnpinc\")\n",
      "\n",
      "Warning message in .fn(vec_data(.x), ...):\n",
      "\"NaNs produced\"\n",
      "Warning message in log(combined$rinc):\n",
      "\"NaNs produced\"\n",
      "Joining, by = c(\"income\", \"age\", \"gender\", \"urban\", \"prov\", \"ethnic\", \"married\", \"party\", \"postsecondary\", \"seniorsecondary\", \"juniorsecondary\", \"primary\", \"illiterate\", \"y10\", \"y12\", \"y14\", \"y16\", \"Shanghai\", \"Liaoning\", \"Guangdong\", \"Gansu\", \"Others\", \"rinc\", \"pinc\", \"lnpinc\")\n",
      "\n",
      "Joining, by = c(\"income\", \"age\", \"gender\", \"urban\", \"prov\", \"ethnic\", \"married\", \"party\", \"postsecondary\", \"seniorsecondary\", \"juniorsecondary\", \"primary\", \"illiterate\", \"y10\", \"y12\", \"y14\", \"y16\", \"Shanghai\", \"Liaoning\", \"Guangdong\", \"Gansu\", \"Others\", \"rinc\", \"pinc\", \"lnpinc\")\n",
      "\n",
      "Joining, by = c(\"income\", \"age\", \"gender\", \"urban\", \"prov\", \"ethnic\", \"married\", \"party\", \"postsecondary\", \"seniorsecondary\", \"juniorsecondary\", \"primary\", \"illiterate\", \"y10\", \"y12\", \"y14\", \"y16\", \"Shanghai\", \"Liaoning\", \"Guangdong\", \"Gansu\", \"Others\", \"rinc\", \"pinc\", \"lnpinc\")\n",
      "\n",
      "Warning message in .fn(vec_data(.x), ...):\n",
      "\"NaNs produced\"\n",
      "Warning message in log(urban$rinc):\n",
      "\"NaNs produced\"\n",
      "Joining, by = c(\"income\", \"age\", \"gender\", \"urban\", \"prov\", \"ethnic\", \"married\", \"party\", \"postsecondary\", \"seniorsecondary\", \"juniorsecondary\", \"primary\", \"illiterate\", \"y10\", \"y12\", \"y14\", \"y16\", \"Shanghai\", \"Liaoning\", \"Guangdong\", \"Gansu\", \"Others\", \"rinc\", \"pinc\", \"lnpinc\")\n",
      "\n",
      "Joining, by = c(\"income\", \"age\", \"gender\", \"urban\", \"prov\", \"ethnic\", \"married\", \"party\", \"postsecondary\", \"seniorsecondary\", \"juniorsecondary\", \"primary\", \"illiterate\", \"y10\", \"y12\", \"y14\", \"y16\", \"Shanghai\", \"Liaoning\", \"Guangdong\", \"Gansu\", \"Others\", \"rinc\", \"pinc\", \"lnpinc\")\n",
      "\n",
      "Joining, by = c(\"income\", \"age\", \"gender\", \"urban\", \"prov\", \"ethnic\", \"married\", \"party\", \"postsecondary\", \"seniorsecondary\", \"juniorsecondary\", \"primary\", \"illiterate\", \"y10\", \"y12\", \"y14\", \"y16\", \"Shanghai\", \"Liaoning\", \"Guangdong\", \"Gansu\", \"Others\", \"rinc\", \"pinc\", \"lnpinc\")\n",
      "\n",
      "Warning message in .fn(vec_data(.x), ...):\n",
      "\"NaNs produced\"\n",
      "Warning message in log(rural$rinc):\n",
      "\"NaNs produced\"\n",
      "Joining, by = c(\"income\", \"age\", \"gender\", \"urban\", \"prov\", \"ethnic\", \"married\", \"party\", \"postsecondary\", \"seniorsecondary\", \"juniorsecondary\", \"primary\", \"illiterate\", \"y10\", \"y12\", \"y14\", \"y16\", \"Shanghai\", \"Liaoning\", \"Guangdong\", \"Gansu\", \"Others\", \"rinc\", \"pinc\", \"lnpinc\")\n",
      "\n",
      "Joining, by = c(\"income\", \"age\", \"gender\", \"urban\", \"prov\", \"ethnic\", \"married\", \"party\", \"postsecondary\", \"seniorsecondary\", \"juniorsecondary\", \"primary\", \"illiterate\", \"y10\", \"y12\", \"y14\", \"y16\", \"Shanghai\", \"Liaoning\", \"Guangdong\", \"Gansu\", \"Others\", \"rinc\", \"pinc\", \"lnpinc\")\n",
      "\n",
      "Joining, by = c(\"income\", \"age\", \"gender\", \"urban\", \"prov\", \"ethnic\", \"married\", \"party\", \"postsecondary\", \"seniorsecondary\", \"juniorsecondary\", \"primary\", \"illiterate\", \"y10\", \"y12\", \"y14\", \"y16\", \"Shanghai\", \"Liaoning\", \"Guangdong\", \"Gansu\", \"Others\", \"rinc\", \"pinc\", \"lnpinc\")\n",
      "\n",
      "Warning message in .fn(vec_data(.x), ...):\n",
      "\"NaNs produced\"\n",
      "Warning message in log(female_urban$rinc):\n",
      "\"NaNs produced\"\n",
      "Joining, by = c(\"income\", \"age\", \"gender\", \"urban\", \"prov\", \"ethnic\", \"married\", \"party\", \"postsecondary\", \"seniorsecondary\", \"juniorsecondary\", \"primary\", \"illiterate\", \"y10\", \"y12\", \"y14\", \"y16\", \"Shanghai\", \"Liaoning\", \"Guangdong\", \"Gansu\", \"Others\", \"rinc\", \"pinc\", \"lnpinc\")\n",
      "\n",
      "Joining, by = c(\"income\", \"age\", \"gender\", \"urban\", \"prov\", \"ethnic\", \"married\", \"party\", \"postsecondary\", \"seniorsecondary\", \"juniorsecondary\", \"primary\", \"illiterate\", \"y10\", \"y12\", \"y14\", \"y16\", \"Shanghai\", \"Liaoning\", \"Guangdong\", \"Gansu\", \"Others\", \"rinc\", \"pinc\", \"lnpinc\")\n",
      "\n",
      "Joining, by = c(\"income\", \"age\", \"gender\", \"urban\", \"prov\", \"ethnic\", \"married\", \"party\", \"postsecondary\", \"seniorsecondary\", \"juniorsecondary\", \"primary\", \"illiterate\", \"y10\", \"y12\", \"y14\", \"y16\", \"Shanghai\", \"Liaoning\", \"Guangdong\", \"Gansu\", \"Others\", \"rinc\", \"pinc\", \"lnpinc\")\n",
      "\n",
      "Warning message in .fn(vec_data(.x), ...):\n",
      "\"NaNs produced\"\n",
      "Warning message in log(female_rural$rinc):\n",
      "\"NaNs produced\"\n",
      "Joining, by = c(\"income\", \"age\", \"gender\", \"urban\", \"prov\", \"ethnic\", \"married\", \"party\", \"postsecondary\", \"seniorsecondary\", \"juniorsecondary\", \"primary\", \"illiterate\", \"y10\", \"y12\", \"y14\", \"y16\", \"Shanghai\", \"Liaoning\", \"Guangdong\", \"Gansu\", \"Others\", \"rinc\", \"pinc\", \"lnpinc\")\n",
      "\n",
      "Joining, by = c(\"income\", \"age\", \"gender\", \"urban\", \"prov\", \"ethnic\", \"married\", \"party\", \"postsecondary\", \"seniorsecondary\", \"juniorsecondary\", \"primary\", \"illiterate\", \"y10\", \"y12\", \"y14\", \"y16\", \"Shanghai\", \"Liaoning\", \"Guangdong\", \"Gansu\", \"Others\", \"rinc\", \"pinc\", \"lnpinc\")\n",
      "\n",
      "Joining, by = c(\"income\", \"age\", \"gender\", \"urban\", \"prov\", \"ethnic\", \"married\", \"party\", \"postsecondary\", \"seniorsecondary\", \"juniorsecondary\", \"primary\", \"illiterate\", \"y10\", \"y12\", \"y14\", \"y16\", \"Shanghai\", \"Liaoning\", \"Guangdong\", \"Gansu\", \"Others\", \"rinc\", \"pinc\", \"lnpinc\")\n",
      "\n",
      "Warning message in .fn(vec_data(.x), ...):\n",
      "\"NaNs produced\"\n",
      "Warning message in log(male_urban$rinc):\n",
      "\"NaNs produced\"\n",
      "Joining, by = c(\"income\", \"age\", \"gender\", \"urban\", \"prov\", \"ethnic\", \"married\", \"party\", \"postsecondary\", \"seniorsecondary\", \"juniorsecondary\", \"primary\", \"illiterate\", \"y10\", \"y12\", \"y14\", \"y16\", \"Shanghai\", \"Liaoning\", \"Guangdong\", \"Gansu\", \"Others\", \"rinc\", \"pinc\", \"lnpinc\")\n",
      "\n",
      "Joining, by = c(\"income\", \"age\", \"gender\", \"urban\", \"prov\", \"ethnic\", \"married\", \"party\", \"postsecondary\", \"seniorsecondary\", \"juniorsecondary\", \"primary\", \"illiterate\", \"y10\", \"y12\", \"y14\", \"y16\", \"Shanghai\", \"Liaoning\", \"Guangdong\", \"Gansu\", \"Others\", \"rinc\", \"pinc\", \"lnpinc\")\n",
      "\n",
      "Joining, by = c(\"income\", \"age\", \"gender\", \"urban\", \"prov\", \"ethnic\", \"married\", \"party\", \"postsecondary\", \"seniorsecondary\", \"juniorsecondary\", \"primary\", \"illiterate\", \"y10\", \"y12\", \"y14\", \"y16\", \"Shanghai\", \"Liaoning\", \"Guangdong\", \"Gansu\", \"Others\", \"rinc\", \"pinc\", \"lnpinc\")\n",
      "\n",
      "Warning message in .fn(vec_data(.x), ...):\n",
      "\"NaNs produced\"\n",
      "Warning message in log(male_rural$rinc):\n",
      "\"NaNs produced\"\n"
     ]
    }
   ],
   "metadata": {
    "scrolled": true
   }
  },
  {
   "cell_type": "markdown",
   "source": [
    "### Computing Lorenz curves for combined, male, and female for each year"
   ],
   "metadata": {}
  },
  {
   "cell_type": "code",
   "execution_count": null,
   "source": [
    "lorenz_combined <- filter(combined, income >= 0)\n",
    "\n",
    "lorenz_combined$year_str[lorenz_combined$y10 == 1] <- \"Year 2010\"\n",
    "lorenz_combined$year_str[lorenz_combined$y12 == 1] <- \"Year 2012\"\n",
    "lorenz_combined$year_str[lorenz_combined$y14 == 1] <- \"Year 2014\"\n",
    "lorenz_combined$year_str[lorenz_combined$y16 == 1] <- \"Year 2016\"\n",
    "\n",
    "lorenz_male <- filter(lorenz_combined, gender == 0)\n",
    "lorenz_female <- filter(lorenz_combined, gender == 1)\n",
    "\n",
    "ggplot(lorenz_combined, aes(x = income, colour = year_str)) +\n",
    "  stat_lorenz() +\n",
    "  geom_abline(color = \"grey\") +\n",
    "  labs(x = \"Cumulative percentages of all income\",\n",
    "       y = \"Cumulative percentage of percentage of people with that income\",\n",
    "       title = \"Lorenz curves for combined data\")\n",
    "\n",
    "ggsave(\"LorenzCurves/Lorenz_curve_combined.png\")\n",
    "\n",
    "ggplot(lorenz_male, aes(x = income, colour = year_str)) +\n",
    "  stat_lorenz() +\n",
    "  geom_abline(color = \"grey\") +\n",
    "  labs(x = \"Cumulative percentages of all income\",\n",
    "       y = \"Cumulative percentage of percentage of people with that income\",\n",
    "       title = \"Lorenz curves for male data\")\n",
    "\n",
    "ggsave(\"LorenzCurves/Lorenz_curve_male.png\")\n",
    "\n",
    "ggplot(lorenz_female, aes(x = income, colour = year_str)) +\n",
    "  stat_lorenz() +\n",
    "  geom_abline(color = \"grey\") +\n",
    "  labs(x = \"Cumulative percentages of all income\",\n",
    "       y = \"Cumulative percentage of percentage of people with that income\",\n",
    "       title = \"Lorenz curves for female data\")\n",
    "\n",
    "ggsave(\"LorenzCurves/Lorenz_curve_female.png\")"
   ],
   "outputs": [],
   "metadata": {}
  },
  {
   "cell_type": "code",
   "execution_count": 27,
   "source": [
    "sprintf(\"Combined: %f, %f, %f, %f\", Gini(mincer10$inc), Gini(mincer12$inc), Gini(mincer14$inc), Gini(mincer16$inc))\n",
    "sprintf(\"Urban: %f, %f, %f, %f\", Gini(mincer10_urban$inc), Gini(mincer12_urban$inc), Gini(mincer14_urban$inc), Gini(mincer16_urban$inc))\n",
    "sprintf(\"Rural: %f, %f, %f, %f\", Gini(mincer10_rural$inc), Gini(mincer12_rural$inc), Gini(mincer14_rural$inc), Gini(mincer16_rural$inc))\n",
    "sprintf(\"Female Urban: %f, %f, %f, %f\", Gini(mincer10_female_urban$inc), Gini(mincer12_female_urban$inc), Gini(mincer14_female_urban$inc), Gini(mincer16_female_urban$inc))\n",
    "sprintf(\"Female Rural: %f, %f, %f, %f\", Gini(mincer10_female_rural$inc), Gini(mincer12_female_rural$inc), Gini(mincer14_female_rural$inc), Gini(mincer16_female_rural$inc))\n",
    "sprintf(\"Male Urban: %f, %f, %f, %f\", Gini(mincer10_male_urban$inc), Gini(mincer12_male_urban$inc), Gini(mincer14_male_urban$inc), Gini(mincer16_male_urban$inc))\n",
    "sprintf(\"male Rural: %f, %f, %f, %f\", Gini(mincer10_male_rural$inc), Gini(mincer12_male_rural$inc), Gini(mincer14_male_rural$inc), Gini(mincer16_male_rural$inc))"
   ],
   "outputs": [
    {
     "output_type": "display_data",
     "data": {
      "text/plain": [
       "[1] \"Combined: 0.672533, 0.760226, 0.727774, 0.668838\""
      ],
      "text/markdown": [
       "'Combined: 0.672533, 0.760226, 0.727774, 0.668838'"
      ],
      "text/latex": [
       "'Combined: 0.672533, 0.760226, 0.727774, 0.668838'"
      ],
      "text/html": [
       "'Combined: 0.672533, 0.760226, 0.727774, 0.668838'"
      ]
     },
     "metadata": {}
    },
    {
     "output_type": "display_data",
     "data": {
      "text/plain": [
       "[1] \"Urban: 0.623614, 0.689707, 0.782423, 0.601765\""
      ],
      "text/markdown": [
       "'Urban: 0.623614, 0.689707, 0.782423, 0.601765'"
      ],
      "text/latex": [
       "'Urban: 0.623614, 0.689707, 0.782423, 0.601765'"
      ],
      "text/html": [
       "'Urban: 0.623614, 0.689707, 0.782423, 0.601765'"
      ]
     },
     "metadata": {}
    },
    {
     "output_type": "display_data",
     "data": {
      "text/plain": [
       "[1] \"Rural: 0.685016, 0.814318, 0.845863, 0.736257\""
      ],
      "text/markdown": [
       "'Rural: 0.685016, 0.814318, 0.845863, 0.736257'"
      ],
      "text/latex": [
       "'Rural: 0.685016, 0.814318, 0.845863, 0.736257'"
      ],
      "text/html": [
       "'Rural: 0.685016, 0.814318, 0.845863, 0.736257'"
      ]
     },
     "metadata": {}
    },
    {
     "output_type": "display_data",
     "data": {
      "text/plain": [
       "[1] \"Female Urban: 0.562609, 0.648615, 0.702627, 0.579804\""
      ],
      "text/markdown": [
       "'Female Urban: 0.562609, 0.648615, 0.702627, 0.579804'"
      ],
      "text/latex": [
       "'Female Urban: 0.562609, 0.648615, 0.702627, 0.579804'"
      ],
      "text/html": [
       "'Female Urban: 0.562609, 0.648615, 0.702627, 0.579804'"
      ]
     },
     "metadata": {}
    },
    {
     "output_type": "display_data",
     "data": {
      "text/plain": [
       "[1] \"Female Rural: 0.605905, 0.741049, 0.784623, 0.724712\""
      ],
      "text/markdown": [
       "'Female Rural: 0.605905, 0.741049, 0.784623, 0.724712'"
      ],
      "text/latex": [
       "'Female Rural: 0.605905, 0.741049, 0.784623, 0.724712'"
      ],
      "text/html": [
       "'Female Rural: 0.605905, 0.741049, 0.784623, 0.724712'"
      ]
     },
     "metadata": {}
    },
    {
     "output_type": "display_data",
     "data": {
      "text/plain": [
       "[1] \"Male Urban: 0.668056, 0.717524, 0.862371, 0.612263\""
      ],
      "text/markdown": [
       "'Male Urban: 0.668056, 0.717524, 0.862371, 0.612263'"
      ],
      "text/latex": [
       "'Male Urban: 0.668056, 0.717524, 0.862371, 0.612263'"
      ],
      "text/html": [
       "'Male Urban: 0.668056, 0.717524, 0.862371, 0.612263'"
      ]
     },
     "metadata": {}
    },
    {
     "output_type": "display_data",
     "data": {
      "text/plain": [
       "[1] \"male Rural: 0.744830, 0.879955, 0.896217, 0.719399\""
      ],
      "text/markdown": [
       "'male Rural: 0.744830, 0.879955, 0.896217, 0.719399'"
      ],
      "text/latex": [
       "'male Rural: 0.744830, 0.879955, 0.896217, 0.719399'"
      ],
      "text/html": [
       "'male Rural: 0.744830, 0.879955, 0.896217, 0.719399'"
      ]
     },
     "metadata": {}
    }
   ],
   "metadata": {}
  },
  {
   "cell_type": "markdown",
   "source": [
    "## Running the descriptive analysis for the all of the sub populations"
   ],
   "metadata": {}
  },
  {
   "cell_type": "markdown",
   "source": [
    "### For combined data"
   ],
   "metadata": {}
  },
  {
   "cell_type": "code",
   "execution_count": null,
   "source": [
    "hist(combined$lninc)\n",
    "hist(urban$lninc)\n",
    "hist(rural$lninc)\n",
    "hist(female_urban$lninc)\n",
    "hist(female_rural$lninc)\n",
    "hist(male_urban$lninc)\n",
    "hist(male_rural$lninc)\n"
   ],
   "outputs": [],
   "metadata": {}
  },
  {
   "cell_type": "code",
   "execution_count": null,
   "source": [
    "hist(combined$lnrinc)\n",
    "hist(urban$lnrinc)\n",
    "hist(rural$lnrinc)\n",
    "hist(female_urban$lnrinc)\n",
    "hist(female_rural$lnrinc)\n",
    "hist(male_urban$lnrinc)\n",
    "hist(male_rural$lnrinc)"
   ],
   "outputs": [],
   "metadata": {}
  },
  {
   "cell_type": "code",
   "execution_count": null,
   "source": [
    "hist(combined$lnpinc)\n",
    "hist(urban$lnpinc)\n",
    "hist(rural$lnpinc)\n",
    "hist(female_urban$lnpinc)\n",
    "hist(female_rural$lnpinc)\n",
    "hist(male_urban$lnpinc)\n",
    "hist(male_rural$lnpinc)"
   ],
   "outputs": [],
   "metadata": {}
  },
  {
   "cell_type": "markdown",
   "source": [
    "## Running the regressions for lninc, rinc, lnrinc, pinc, and lnpinc on combined data, and urban and rural subsamples. Does not contain married or party variables"
   ],
   "metadata": {}
  },
  {
   "cell_type": "markdown",
   "source": [
    "### Regression for lninc, without province dummies"
   ],
   "metadata": {}
  },
  {
   "cell_type": "code",
   "execution_count": null,
   "source": [
    "lnincReg <- filter(combined, !is.infinite(lninc) & !is.na(lninc))\n",
    "summary(lm(lninc ~  postsecondary + seniorsecondary + juniorsecondary + primary + gender + urban + y10 + y12 + y14, data=lnincReg))\n",
    "\n",
    "urban_reg <- filter(urban, !is.infinite(lninc) & !is.na(lninc))\n",
    "summary(lm(lninc ~  postsecondary + seniorsecondary + juniorsecondary + primary + gender + y10 + y12 + y14, data=urban_reg))\n",
    "\n",
    "rural_reg <- filter(rural, !is.infinite(lninc) & !is.na(lninc))\n",
    "summary(lm(lninc ~  postsecondary + seniorsecondary + juniorsecondary + primary + gender + y10 + y12 + y14, data=rural_reg))\n",
    "\n",
    "female_urban_reg <- filter(female_urban, !is.infinite(lninc) & !is.na(lninc))\n",
    "female_rural_reg <- filter(female_rural, !is.infinite(lninc) & !is.na(lninc))\n",
    "male_urban_reg <- filter(male_urban, !is.infinite(lninc) & !is.na(lninc))\n",
    "male_rural_reg <- filter(male_rural, !is.infinite(lninc) & !is.na(lninc))\n",
    "summary(lm(lninc ~  postsecondary + seniorsecondary + juniorsecondary + primary + y10 + y12 + y14, data=female_urban_reg))\n",
    "summary(lm(lninc ~  postsecondary + seniorsecondary + juniorsecondary + primary + y10 + y12 + y14, data=female_rural_reg))\n",
    "summary(lm(lninc ~  postsecondary + seniorsecondary + juniorsecondary + primary + y10 + y12 + y14, data=male_urban_reg))\n",
    "summary(lm(lninc ~  postsecondary + seniorsecondary + juniorsecondary + primary + y10 + y12 + y14, data=male_rural_reg))"
   ],
   "outputs": [],
   "metadata": {}
  },
  {
   "cell_type": "markdown",
   "source": [
    "### Regression for lninc, with province dummies"
   ],
   "metadata": {}
  },
  {
   "cell_type": "code",
   "execution_count": 44,
   "source": [
    "lnincReg <- filter(combined, !is.infinite(lninc) & !is.na(lninc))\n",
    "summary(lm(lninc ~  postsecondary + seniorsecondary + juniorsecondary + primary + gender + urban + y10 + y12 + y14 + Liaoning + Guangdong + Gansu + Others, data=lnincReg))\n",
    "\n",
    "urban_reg <- filter(urban, !is.infinite(lninc) & !is.na(lninc))\n",
    "summary(lm(lninc ~  postsecondary + seniorsecondary + juniorsecondary + primary + gender + y10 + y12 + y14 + Liaoning + Guangdong + Gansu + Others, data=urban_reg))\n",
    "\n",
    "rural_reg <- filter(rural, !is.infinite(lninc) & !is.na(lninc))\n",
    "summary(lm(lninc ~  postsecondary + seniorsecondary + juniorsecondary + primary + gender + y10 + y12 + y14 + Liaoning + Guangdong + Gansu + Others, data=rural_reg))\n",
    "\n",
    "female_urban_reg <- filter(female_urban, !is.infinite(lninc) & !is.na(lninc))\n",
    "female_rural_reg <- filter(female_rural, !is.infinite(lninc) & !is.na(lninc))\n",
    "male_urban_reg <- filter(male_urban, !is.infinite(lninc) & !is.na(lninc))\n",
    "male_rural_reg <- filter(male_rural, !is.infinite(lninc) & !is.na(lninc))\n",
    "summary(lm(lninc ~  postsecondary + seniorsecondary + juniorsecondary + primary + y10 + y12 + y14 + Liaoning + Guangdong + Gansu + Others, data=female_urban_reg))\n",
    "summary(lm(lninc ~  postsecondary + seniorsecondary + juniorsecondary + primary + y10 + y12 + y14 + Liaoning + Guangdong + Gansu + Others, data=female_rural_reg))\n",
    "summary(lm(lninc ~  postsecondary + seniorsecondary + juniorsecondary + primary + y10 + y12 + y14 + Liaoning + Guangdong + Gansu + Others, data=male_urban_reg))\n",
    "summary(lm(lninc ~  postsecondary + seniorsecondary + juniorsecondary + primary + y10 + y12 + y14 + Liaoning + Guangdong + Gansu + Others, data=male_rural_reg))"
   ],
   "outputs": [
    {
     "output_type": "display_data",
     "data": {
      "text/plain": [
       "\n",
       "Call:\n",
       "lm(formula = lninc ~ postsecondary + seniorsecondary + juniorsecondary + \n",
       "    primary + gender + urban + y10 + y12 + y14 + Liaoning + Guangdong + \n",
       "    Gansu + Others, data = lnincReg)\n",
       "\n",
       "Residuals:\n",
       "     Min       1Q   Median       3Q      Max \n",
       "-10.4413  -0.5365   0.2398   0.8335   4.8801 \n",
       "\n",
       "Coefficients: (1 not defined because of singularities)\n",
       "                 Estimate Std. Error t value Pr(>|t|)    \n",
       "(Intercept)      8.145087   0.056810 143.375  < 2e-16 ***\n",
       "postsecondary    1.694561   0.026138  64.830  < 2e-16 ***\n",
       "seniorsecondary  1.242750   0.023394  53.124  < 2e-16 ***\n",
       "juniorsecondary  1.050356   0.019855  52.900  < 2e-16 ***\n",
       "primary          0.606428   0.021845  27.760  < 2e-16 ***\n",
       "gender           0.291400   0.009835  29.629  < 2e-16 ***\n",
       "urban           -0.009248   0.006084  -1.520    0.129    \n",
       "y10              0.319483   0.052349   6.103 1.05e-09 ***\n",
       "y12              0.949174   0.052463  18.092  < 2e-16 ***\n",
       "y14                    NA         NA      NA       NA    \n",
       "Liaoning        -0.735804   0.031674 -23.231  < 2e-16 ***\n",
       "Guangdong       -0.581397   0.031356 -18.542  < 2e-16 ***\n",
       "Gansu           -1.103651   0.031025 -35.573  < 2e-16 ***\n",
       "Others          -0.817011   0.023712 -34.455  < 2e-16 ***\n",
       "---\n",
       "Signif. codes:  0 '***' 0.001 '**' 0.01 '*' 0.05 '.' 0.1 ' ' 1\n",
       "\n",
       "Residual standard error: 1.392 on 40916 degrees of freedom\n",
       "  (5225 observations deleted due to missingness)\n",
       "Multiple R-squared:  0.2441,\tAdjusted R-squared:  0.2439 \n",
       "F-statistic:  1101 on 12 and 40916 DF,  p-value: < 2.2e-16\n"
      ]
     },
     "metadata": {}
    },
    {
     "output_type": "display_data",
     "data": {
      "text/plain": [
       "\n",
       "Call:\n",
       "lm(formula = lninc ~ postsecondary + seniorsecondary + juniorsecondary + \n",
       "    primary + gender + y10 + y12 + y14 + Liaoning + Guangdong + \n",
       "    Gansu + Others, data = urban_reg)\n",
       "\n",
       "Residuals:\n",
       "     Min       1Q   Median       3Q      Max \n",
       "-10.4171  -0.3944   0.1902   0.6844   4.2934 \n",
       "\n",
       "Coefficients: (1 not defined because of singularities)\n",
       "                Estimate Std. Error t value Pr(>|t|)    \n",
       "(Intercept)      7.83100    0.08182   95.71   <2e-16 ***\n",
       "postsecondary    1.49788    0.03193   46.91   <2e-16 ***\n",
       "seniorsecondary  1.05889    0.03071   34.48   <2e-16 ***\n",
       "juniorsecondary  0.91739    0.02861   32.06   <2e-16 ***\n",
       "primary          0.56727    0.03317   17.10   <2e-16 ***\n",
       "gender           0.25354    0.01279   19.83   <2e-16 ***\n",
       "y10              0.83469    0.07687   10.86   <2e-16 ***\n",
       "y12              1.36968    0.07736   17.70   <2e-16 ***\n",
       "y14                   NA         NA      NA       NA    \n",
       "Liaoning        -0.47441    0.03460  -13.71   <2e-16 ***\n",
       "Guangdong       -0.39571    0.03382  -11.70   <2e-16 ***\n",
       "Gansu           -0.62523    0.04960  -12.61   <2e-16 ***\n",
       "Others          -0.65166    0.02441  -26.69   <2e-16 ***\n",
       "---\n",
       "Signif. codes:  0 '***' 0.001 '**' 0.01 '*' 0.05 '.' 0.1 ' ' 1\n",
       "\n",
       "Residual standard error: 1.242 on 20093 degrees of freedom\n",
       "  (3054 observations deleted due to missingness)\n",
       "Multiple R-squared:  0.2147,\tAdjusted R-squared:  0.2142 \n",
       "F-statistic: 499.3 on 11 and 20093 DF,  p-value: < 2.2e-16\n"
      ]
     },
     "metadata": {}
    },
    {
     "output_type": "display_data",
     "data": {
      "text/plain": [
       "\n",
       "Call:\n",
       "lm(formula = lninc ~ postsecondary + seniorsecondary + juniorsecondary + \n",
       "    primary + gender + y10 + y12 + y14 + Liaoning + Guangdong + \n",
       "    Gansu + Others, data = rural_reg)\n",
       "\n",
       "Residuals:\n",
       "    Min      1Q  Median      3Q     Max \n",
       "-9.6190 -0.6693  0.2609  0.9180  5.6169 \n",
       "\n",
       "Coefficients: (1 not defined because of singularities)\n",
       "                Estimate Std. Error t value Pr(>|t|)    \n",
       "(Intercept)      7.12998    0.10744   66.36   <2e-16 ***\n",
       "postsecondary    1.34657    0.05539   24.31   <2e-16 ***\n",
       "seniorsecondary  1.07236    0.03835   27.96   <2e-16 ***\n",
       "juniorsecondary  0.97200    0.02786   34.89   <2e-16 ***\n",
       "primary          0.57485    0.02891   19.88   <2e-16 ***\n",
       "gender           0.36897    0.01504   24.54   <2e-16 ***\n",
       "y10              1.23016    0.09126   13.48   <2e-16 ***\n",
       "y12              1.95853    0.09224   21.23   <2e-16 ***\n",
       "y14                   NA         NA      NA       NA    \n",
       "Liaoning        -1.00822    0.06684  -15.08   <2e-16 ***\n",
       "Guangdong       -0.81053    0.06718  -12.06   <2e-16 ***\n",
       "Gansu           -1.13574    0.06109  -18.59   <2e-16 ***\n",
       "Others          -0.90180    0.05691  -15.85   <2e-16 ***\n",
       "---\n",
       "Signif. codes:  0 '***' 0.001 '**' 0.01 '*' 0.05 '.' 0.1 ' ' 1\n",
       "\n",
       "Residual standard error: 1.475 on 20110 degrees of freedom\n",
       "  (2171 observations deleted due to missingness)\n",
       "Multiple R-squared:  0.2116,\tAdjusted R-squared:  0.2111 \n",
       "F-statistic: 490.6 on 11 and 20110 DF,  p-value: < 2.2e-16\n"
      ]
     },
     "metadata": {}
    },
    {
     "output_type": "display_data",
     "data": {
      "text/plain": [
       "\n",
       "Call:\n",
       "lm(formula = lninc ~ postsecondary + seniorsecondary + juniorsecondary + \n",
       "    primary + y10 + y12 + y14 + Liaoning + Guangdong + Gansu + \n",
       "    Others, data = female_urban_reg)\n",
       "\n",
       "Residuals:\n",
       "     Min       1Q   Median       3Q      Max \n",
       "-10.4059  -0.3756   0.1628   0.6242   4.0815 \n",
       "\n",
       "Coefficients: (1 not defined because of singularities)\n",
       "                Estimate Std. Error t value Pr(>|t|)    \n",
       "(Intercept)      8.63406    0.10115  85.358  < 2e-16 ***\n",
       "postsecondary    1.23359    0.04293  28.737  < 2e-16 ***\n",
       "seniorsecondary  0.79798    0.04146  19.248  < 2e-16 ***\n",
       "juniorsecondary  0.75727    0.03905  19.390  < 2e-16 ***\n",
       "primary          0.37326    0.04415   8.454  < 2e-16 ***\n",
       "y10              0.53824    0.09204   5.848 5.12e-09 ***\n",
       "y12              0.97696    0.09247  10.565  < 2e-16 ***\n",
       "y14                   NA         NA      NA       NA    \n",
       "Liaoning        -0.43334    0.04340  -9.985  < 2e-16 ***\n",
       "Guangdong       -0.37074    0.04243  -8.738  < 2e-16 ***\n",
       "Gansu           -0.44016    0.06100  -7.216 5.72e-13 ***\n",
       "Others          -0.55391    0.03061 -18.093  < 2e-16 ***\n",
       "---\n",
       "Signif. codes:  0 '***' 0.001 '**' 0.01 '*' 0.05 '.' 0.1 ' ' 1\n",
       "\n",
       "Residual standard error: 1.122 on 10695 degrees of freedom\n",
       "  (1689 observations deleted due to missingness)\n",
       "Multiple R-squared:  0.1615,\tAdjusted R-squared:  0.1607 \n",
       "F-statistic:   206 on 10 and 10695 DF,  p-value: < 2.2e-16\n"
      ]
     },
     "metadata": {}
    },
    {
     "output_type": "display_data",
     "data": {
      "text/plain": [
       "\n",
       "Call:\n",
       "lm(formula = lninc ~ postsecondary + seniorsecondary + juniorsecondary + \n",
       "    primary + y10 + y12 + y14 + Liaoning + Guangdong + Gansu + \n",
       "    Others, data = female_rural_reg)\n",
       "\n",
       "Residuals:\n",
       "    Min      1Q  Median      3Q     Max \n",
       "-9.6181 -0.5310  0.2357  0.8558  4.6663 \n",
       "\n",
       "Coefficients: (1 not defined because of singularities)\n",
       "                Estimate Std. Error t value Pr(>|t|)    \n",
       "(Intercept)      7.83398    0.13522  57.935   <2e-16 ***\n",
       "postsecondary    1.15510    0.06571  17.580   <2e-16 ***\n",
       "seniorsecondary  0.96420    0.04488  21.484   <2e-16 ***\n",
       "juniorsecondary  0.86766    0.03454  25.120   <2e-16 ***\n",
       "primary          0.47848    0.03634  13.165   <2e-16 ***\n",
       "y10              0.96213    0.11504   8.363   <2e-16 ***\n",
       "y12              1.65433    0.11577  14.290   <2e-16 ***\n",
       "y14                   NA         NA      NA       NA    \n",
       "Liaoning        -0.77162    0.08131  -9.490   <2e-16 ***\n",
       "Guangdong       -0.73784    0.08229  -8.967   <2e-16 ***\n",
       "Gansu           -0.96989    0.07490 -12.949   <2e-16 ***\n",
       "Others          -0.73772    0.07007 -10.529   <2e-16 ***\n",
       "---\n",
       "Signif. codes:  0 '***' 0.001 '**' 0.01 '*' 0.05 '.' 0.1 ' ' 1\n",
       "\n",
       "Residual standard error: 1.327 on 11613 degrees of freedom\n",
       "  (1293 observations deleted due to missingness)\n",
       "Multiple R-squared:  0.1702,\tAdjusted R-squared:  0.1695 \n",
       "F-statistic: 238.2 on 10 and 11613 DF,  p-value: < 2.2e-16\n"
      ]
     },
     "metadata": {}
    },
    {
     "output_type": "display_data",
     "data": {
      "text/plain": [
       "\n",
       "Call:\n",
       "lm(formula = lninc ~ postsecondary + seniorsecondary + juniorsecondary + \n",
       "    primary + y10 + y12 + y14 + Liaoning + Guangdong + Gansu + \n",
       "    Others, data = male_urban_reg)\n",
       "\n",
       "Residuals:\n",
       "     Min       1Q   Median       3Q      Max \n",
       "-10.1624  -0.3962   0.2283   0.7312   4.0713 \n",
       "\n",
       "Coefficients: (1 not defined because of singularities)\n",
       "                Estimate Std. Error t value Pr(>|t|)    \n",
       "(Intercept)      7.27520    0.13120  55.451   <2e-16 ***\n",
       "postsecondary    1.65049    0.04742  34.804   <2e-16 ***\n",
       "seniorsecondary  1.20218    0.04556  26.390   <2e-16 ***\n",
       "juniorsecondary  0.91600    0.04207  21.771   <2e-16 ***\n",
       "primary          0.62451    0.04986  12.525   <2e-16 ***\n",
       "y10              1.23667    0.12656   9.772   <2e-16 ***\n",
       "y12              1.83793    0.12764  14.399   <2e-16 ***\n",
       "y14                   NA         NA      NA       NA    \n",
       "Liaoning        -0.47487    0.05395  -8.803   <2e-16 ***\n",
       "Guangdong       -0.43902    0.05322  -8.250   <2e-16 ***\n",
       "Gansu           -0.81752    0.07895 -10.355   <2e-16 ***\n",
       "Others          -0.73376    0.03815 -19.232   <2e-16 ***\n",
       "---\n",
       "Signif. codes:  0 '***' 0.001 '**' 0.01 '*' 0.05 '.' 0.1 ' ' 1\n",
       "\n",
       "Residual standard error: 1.339 on 9325 degrees of freedom\n",
       "  (1365 observations deleted due to missingness)\n",
       "Multiple R-squared:  0.2342,\tAdjusted R-squared:  0.2334 \n",
       "F-statistic: 285.2 on 10 and 9325 DF,  p-value: < 2.2e-16\n"
      ]
     },
     "metadata": {}
    },
    {
     "output_type": "display_data",
     "data": {
      "text/plain": [
       "\n",
       "Call:\n",
       "lm(formula = lninc ~ postsecondary + seniorsecondary + juniorsecondary + \n",
       "    primary + y10 + y12 + y14 + Liaoning + Guangdong + Gansu + \n",
       "    Others, data = male_rural_reg)\n",
       "\n",
       "Residuals:\n",
       "    Min      1Q  Median      3Q     Max \n",
       "-8.9969 -0.7690  0.2868  1.0269  5.2679 \n",
       "\n",
       "Coefficients: (1 not defined because of singularities)\n",
       "                Estimate Std. Error t value Pr(>|t|)    \n",
       "(Intercept)      7.00045    0.16854  41.536   <2e-16 ***\n",
       "postsecondary    1.48642    0.09477  15.684   <2e-16 ***\n",
       "seniorsecondary  1.01037    0.06979  14.478   <2e-16 ***\n",
       "juniorsecondary  0.89643    0.04651  19.273   <2e-16 ***\n",
       "primary          0.52805    0.04683  11.277   <2e-16 ***\n",
       "y10              1.45121    0.14275  10.166   <2e-16 ***\n",
       "y12              2.12357    0.14555  14.590   <2e-16 ***\n",
       "y14                   NA         NA      NA       NA    \n",
       "Liaoning        -1.32110    0.10912 -12.106   <2e-16 ***\n",
       "Guangdong       -0.97815    0.10910  -8.966   <2e-16 ***\n",
       "Gansu           -1.49325    0.09913 -15.063   <2e-16 ***\n",
       "Others          -1.13751    0.09145 -12.438   <2e-16 ***\n",
       "---\n",
       "Signif. codes:  0 '***' 0.001 '**' 0.01 '*' 0.05 '.' 0.1 ' ' 1\n",
       "\n",
       "Residual standard error: 1.615 on 8419 degrees of freedom\n",
       "  (878 observations deleted due to missingness)\n",
       "Multiple R-squared:  0.1679,\tAdjusted R-squared:  0.167 \n",
       "F-statistic: 169.9 on 10 and 8419 DF,  p-value: < 2.2e-16\n"
      ]
     },
     "metadata": {}
    }
   ],
   "metadata": {}
  },
  {
   "cell_type": "code",
   "execution_count": 83,
   "source": [
    "index <- c(\"combined\", \"urban\", \"rural\", \"female_urban\", \"female_rural\", \"male_urban\", \"male_rural\")\n",
    "mean_lninc <- c(mean(lnincReg$lninc), mean(urban_reg$lninc), mean(rural_reg$lninc), mean(female_urban_reg$lninc), mean(female_rural_reg$lninc), mean(male_urban_reg$lninc), mean(male_rural_reg$lninc))\n",
    "median_lninc <- c(median(lnincReg$lninc), median(urban_reg$lninc), median(rural_reg$lninc), median(female_urban_reg$lninc), median(female_rural_reg$lninc), median(male_urban_reg$lninc), median(male_rural_reg$lninc))\n",
    "var_lninc <- c(var(lnincReg$lninc), var(urban_reg$lninc), var(rural_reg$lninc), var(female_urban_reg$lninc), var(female_rural_reg$lninc), var(male_urban_reg$lninc), var(male_rural_reg$lninc))\n",
    "kurtosis_lninc <- c(kurtosis(lnincReg$lninc), kurtosis(urban_reg$lninc), kurtosis(rural_reg$lninc), kurtosis(female_urban_reg$lninc), kurtosis(female_rural_reg$lninc), kurtosis(male_urban_reg$lninc), kurtosis(male_rural_reg$lninc))\n",
    "skew_lninc <- c(skewness(lnincReg$lninc), skewness(urban_reg$lninc), skewness(rural_reg$lninc), skewness(female_urban_reg$lninc), skewness(female_rural_reg$lninc), skewness(male_urban_reg$lninc), skewness(male_rural_reg$lninc))\n",
    "\n",
    "lninc <- data.frame(\"subsamples\"=index, \"mean\" = mean_lninc, \"median\" = median_lninc, \"var\" = var_lninc, \"kurtosis\" = kurtosis_lninc, \"skew\" = skew_lninc)\n",
    "lninc$stdev <- sqrt(lninc$var)"
   ],
   "outputs": [],
   "metadata": {}
  },
  {
   "cell_type": "code",
   "execution_count": 84,
   "source": [
    "print(\"Lninc descriptive statistics\")\n",
    "print(lninc)"
   ],
   "outputs": [
    {
     "output_type": "stream",
     "name": "stdout",
     "text": [
      "[1] \"Lninc descriptive statistics\"\n",
      "    subsamples     mean   median      var kurtosis      skew    stdev\n",
      "1     combined 9.061718 9.392662 2.511959 5.009130 -1.613858 1.584916\n",
      "2        urban 9.468470 9.784704 1.923729 8.769189 -2.052226 1.386986\n",
      "3        rural 8.621783 8.922658 2.748698 3.659157 -1.353109 1.657920\n",
      "4 female_urban 9.714591 9.903488 1.506458 8.792632 -1.866556 1.227378\n",
      "5 female_rural 9.000477 9.210340 2.116679 4.794995 -1.445970 1.454881\n",
      "6   male_urban 9.180661 9.510445 2.259995 8.187224 -2.114384 1.503328\n",
      "7   male_rural 8.096532 8.294050 3.157891 2.919475 -1.226031 1.777046\n"
     ]
    }
   ],
   "metadata": {
    "scrolled": true
   }
  },
  {
   "cell_type": "markdown",
   "source": [
    "### Regression for rinc and lnrinc, without province dummies"
   ],
   "metadata": {}
  },
  {
   "cell_type": "code",
   "execution_count": null,
   "source": [
    "summary(lm(rinc ~  postsecondary + seniorsecondary + juniorsecondary + primary + gender + urban + y10 + y12 + y14, data=combined))\n",
    "summary(lm(rinc ~  postsecondary + seniorsecondary + juniorsecondary + primary + gender + y10 + y12 + y14, data=urban))\n",
    "summary(lm(rinc ~  postsecondary + seniorsecondary + juniorsecondary + primary + gender + y10 + y12 + y14, data=rural))\n",
    "\n",
    "lnrincReg <- filter(combined, !is.infinite(lnrinc) & !is.na(lnrinc))\n",
    "urban_reg <- filter(urban, !is.infinite(lnrinc) & !is.na(lnrinc))\n",
    "rural_reg <- filter(rural, !is.infinite(lnrinc) & !is.na(lnrinc))\n",
    "summary(lm(lnrinc ~  postsecondary + seniorsecondary + juniorsecondary + primary + gender + urban + y10 + y12 + y14, data=lnrincReg))\n",
    "summary(lm(lnrinc ~  postsecondary + seniorsecondary + juniorsecondary + primary + gender + y10 + y12 + y14, data=urban_reg))\n",
    "summary(lm(lnrinc ~  postsecondary + seniorsecondary + juniorsecondary + primary + gender + y10 + y12 + y14, data=rural_reg))\n",
    "\n",
    "\n",
    "female_urban_reg <- filter(female_urban, !is.infinite(lnrinc) & !is.na(lnrinc))\n",
    "female_rural_reg <- filter(female_rural, !is.infinite(lnrinc) & !is.na(lnrinc))\n",
    "male_urban_reg <- filter(male_urban, !is.infinite(lnrinc) & !is.na(lnrinc))\n",
    "male_rural_reg <- filter(male_rural, !is.infinite(lnrinc) & !is.na(lnrinc))\n",
    "summary(lm(lnrinc ~  postsecondary + seniorsecondary + juniorsecondary + primary + y10 + y12 + y14, data=female_urban_reg))\n",
    "summary(lm(lnrinc ~  postsecondary + seniorsecondary + juniorsecondary + primary + y10 + y12 + y14, data=female_rural_reg))\n",
    "summary(lm(lnrinc ~  postsecondary + seniorsecondary + juniorsecondary + primary + y10 + y12 + y14, data=male_urban_reg))\n",
    "summary(lm(lnrinc ~  postsecondary + seniorsecondary + juniorsecondary + primary + y10 + y12 + y14, data=male_rural_reg))"
   ],
   "outputs": [],
   "metadata": {}
  },
  {
   "cell_type": "code",
   "execution_count": 86,
   "source": [
    "index <- c(\"combined\", \"urban\", \"rural\", \"female_urban\", \"female_rural\", \"male_urban\", \"male_rural\")\n",
    "mean_lnrinc <- c(mean(lnrincReg$lnrinc), mean(urban_reg$lnrinc), mean(rural_reg$lnrinc), mean(female_urban_reg$lnrinc), mean(female_rural_reg$lnrinc), mean(male_urban_reg$lnrinc), mean(male_rural_reg$lnrinc))\n",
    "median_lnrinc <- c(median(lnrincReg$lnrinc), median(urban_reg$lnrinc), median(rural_reg$lnrinc), median(female_urban_reg$lnrinc), median(female_rural_reg$lnrinc), median(male_urban_reg$lnrinc), median(male_rural_reg$lnrinc))\n",
    "var_lnrinc <- c(var(lnincReg$lnrinc), var(urban_reg$lnrinc), var(rural_reg$lnrinc), var(female_urban_reg$lnrinc), var(female_rural_reg$lnrinc), var(male_urban_reg$lnrinc), var(male_rural_reg$lnrinc))\n",
    "kurtosis_lnrinc <- c(kurtosis(lnrincReg$lnrinc), kurtosis(urban_reg$lnrinc), kurtosis(rural_reg$lnrinc), kurtosis(female_urban_reg$lnrinc), kurtosis(female_rural_reg$lnrinc), kurtosis(male_urban_reg$lnrinc), kurtosis(male_rural_reg$lnrinc))\n",
    "skew_lnrinc <- c(skewness(lnrincReg$lnrinc), skewness(urban_reg$lnrinc), skewness(rural_reg$lnrinc), skewness(female_urban_reg$lnrinc), skewness(female_rural_reg$lnrinc), skewness(male_urban_reg$lnrinc), skewness(male_rural_reg$lnrinc))\n",
    "\n",
    "lnrinc <- data.frame(\"subsamples\"=index, \"mean\" = mean_lnrinc, \"median\" = median_lnrinc, \"var\" = var_lnrinc, \"kurtosis\" = kurtosis_lnrinc, \"skew\" = skew_lnrinc)\n",
    "lnrinc$stdev <- sqrt(lnrinc$var)"
   ],
   "outputs": [],
   "metadata": {}
  },
  {
   "cell_type": "code",
   "execution_count": null,
   "source": [
    "print(\"Lnrinc descriptive statistics\")\n",
    "print(lnrinc)"
   ],
   "outputs": [],
   "metadata": {}
  },
  {
   "cell_type": "markdown",
   "source": [
    "### Regression for rinc and lnrinc, with province dummies"
   ],
   "metadata": {}
  },
  {
   "cell_type": "code",
   "execution_count": 47,
   "source": [
    "summary(lm(rinc ~  postsecondary + seniorsecondary + juniorsecondary + primary + gender + urban + y10 + y12 + y14 + Liaoning + Guangdong + Gansu + Others, data=combined))\n",
    "summary(lm(rinc ~  postsecondary + seniorsecondary + juniorsecondary + primary + gender + y10 + y12 + y14 + Liaoning + Guangdong + Gansu + Others, data=urban))\n",
    "summary(lm(rinc ~  postsecondary + seniorsecondary + juniorsecondary + primary + gender + y10 + y12 + y14 + Liaoning + Guangdong + Gansu + Others, data=rural))\n",
    "\n",
    "summary(lm(lnrinc ~  postsecondary + seniorsecondary + juniorsecondary + primary + gender + urban + y10 + y12 + y14 + Liaoning + Guangdong + Gansu + Others, data=lnrincReg))\n",
    "summary(lm(lnrinc ~  postsecondary + seniorsecondary + juniorsecondary + primary + gender + y10 + y12 + y14 + Liaoning + Guangdong + Gansu + Others, data=urban_reg))\n",
    "summary(lm(lnrinc ~  postsecondary + seniorsecondary + juniorsecondary + primary + gender + y10 + y12 + y14 + Liaoning + Guangdong + Gansu + Others, data=rural_reg))\n",
    "\n",
    "summary(lm(lnrinc ~  postsecondary + seniorsecondary + juniorsecondary + primary + y10 + y12 + y14 + Liaoning + Guangdong + Gansu + Others, data=female_urban_reg))\n",
    "summary(lm(lnrinc ~  postsecondary + seniorsecondary + juniorsecondary + primary + y10 + y12 + y14 + Liaoning + Guangdong + Gansu + Others, data=female_rural_reg))\n",
    "summary(lm(lnrinc ~  postsecondary + seniorsecondary + juniorsecondary + primary + y10 + y12 + y14 + Liaoning + Guangdong + Gansu + Others, data=male_urban_reg))\n",
    "summary(lm(lnrinc ~  postsecondary + seniorsecondary + juniorsecondary + primary + y10 + y12 + y14 + Liaoning + Guangdong + Gansu + Others, data=male_rural_reg))"
   ],
   "outputs": [
    {
     "output_type": "display_data",
     "data": {
      "text/plain": [
       "\n",
       "Call:\n",
       "lm(formula = rinc ~ postsecondary + seniorsecondary + juniorsecondary + \n",
       "    primary + gender + urban + y10 + y12 + y14 + Liaoning + Guangdong + \n",
       "    Gansu + Others, data = combined)\n",
       "\n",
       "Residuals:\n",
       "    Min      1Q  Median      3Q     Max \n",
       " -4.018  -0.770  -0.241   0.295 271.661 \n",
       "\n",
       "Coefficients: (1 not defined because of singularities)\n",
       "                 Estimate Std. Error t value Pr(>|t|)    \n",
       "(Intercept)      1.458174   0.071350  20.437   <2e-16 ***\n",
       "postsecondary    2.271554   0.035448  64.081   <2e-16 ***\n",
       "seniorsecondary  0.933518   0.029724  31.406   <2e-16 ***\n",
       "juniorsecondary  0.640470   0.024226  26.437   <2e-16 ***\n",
       "primary          0.271922   0.026576  10.232   <2e-16 ***\n",
       "gender           0.260747   0.011882  21.944   <2e-16 ***\n",
       "urban            0.015897   0.007971   1.994   0.0461 *  \n",
       "y10              0.011316   0.065094   0.174   0.8620    \n",
       "y12             -0.055383   0.064594  -0.857   0.3912    \n",
       "y14                    NA         NA      NA       NA    \n",
       "Liaoning        -1.227985   0.043222 -28.411   <2e-16 ***\n",
       "Guangdong       -1.066147   0.043310 -24.617   <2e-16 ***\n",
       "Gansu           -1.359784   0.041568 -32.713   <2e-16 ***\n",
       "Others          -1.244287   0.033677 -36.948   <2e-16 ***\n",
       "---\n",
       "Signif. codes:  0 '***' 0.001 '**' 0.01 '*' 0.05 '.' 0.1 ' ' 1\n",
       "\n",
       "Residual standard error: 2.294 on 65998 degrees of freedom\n",
       "  (8240 observations deleted due to missingness)\n",
       "Multiple R-squared:  0.104,\tAdjusted R-squared:  0.1039 \n",
       "F-statistic: 638.5 on 12 and 65998 DF,  p-value: < 2.2e-16\n"
      ]
     },
     "metadata": {}
    },
    {
     "output_type": "display_data",
     "data": {
      "text/plain": [
       "\n",
       "Call:\n",
       "lm(formula = rinc ~ postsecondary + seniorsecondary + juniorsecondary + \n",
       "    primary + gender + y10 + y12 + y14 + Liaoning + Guangdong + \n",
       "    Gansu + Others, data = urban)\n",
       "\n",
       "Residuals:\n",
       "    Min      1Q  Median      3Q     Max \n",
       " -3.045  -0.657  -0.205   0.351 188.186 \n",
       "\n",
       "Coefficients: (1 not defined because of singularities)\n",
       "                Estimate Std. Error t value Pr(>|t|)    \n",
       "(Intercept)      1.16526    0.10523  11.073  < 2e-16 ***\n",
       "postsecondary    1.74654    0.04373  39.941  < 2e-16 ***\n",
       "seniorsecondary  0.68910    0.04036  17.074  < 2e-16 ***\n",
       "juniorsecondary  0.47674    0.03671  12.988  < 2e-16 ***\n",
       "primary          0.21492    0.04258   5.047 4.51e-07 ***\n",
       "gender           0.27961    0.01748  16.001  < 2e-16 ***\n",
       "y10             -0.14661    0.09913  -1.479    0.139    \n",
       "y12             -0.15236    0.09926  -1.535    0.125    \n",
       "y14                   NA         NA      NA       NA    \n",
       "Liaoning        -0.82109    0.04966 -16.533  < 2e-16 ***\n",
       "Guangdong       -0.66446    0.04854 -13.689  < 2e-16 ***\n",
       "Gansu           -0.91544    0.06746 -13.569  < 2e-16 ***\n",
       "Others          -0.88600    0.03581 -24.744  < 2e-16 ***\n",
       "---\n",
       "Signif. codes:  0 '***' 0.001 '**' 0.01 '*' 0.05 '.' 0.1 ' ' 1\n",
       "\n",
       "Residual standard error: 2.098 on 29507 degrees of freedom\n",
       "  (4216 observations deleted due to missingness)\n",
       "Multiple R-squared:  0.09354,\tAdjusted R-squared:  0.0932 \n",
       "F-statistic: 276.8 on 11 and 29507 DF,  p-value: < 2.2e-16\n"
      ]
     },
     "metadata": {}
    },
    {
     "output_type": "display_data",
     "data": {
      "text/plain": [
       "\n",
       "Call:\n",
       "lm(formula = rinc ~ postsecondary + seniorsecondary + juniorsecondary + \n",
       "    primary + gender + y10 + y12 + y14 + Liaoning + Guangdong + \n",
       "    Gansu + Others, data = rural)\n",
       "\n",
       "Residuals:\n",
       "    Min      1Q  Median      3Q     Max \n",
       " -3.926  -0.945  -0.391   0.196 121.305 \n",
       "\n",
       "Coefficients: (1 not defined because of singularities)\n",
       "                Estimate Std. Error t value Pr(>|t|)    \n",
       "(Intercept)      1.73235    0.11942  14.507   <2e-16 ***\n",
       "postsecondary    2.07652    0.06760  30.720   <2e-16 ***\n",
       "seniorsecondary  1.18822    0.04358  27.266   <2e-16 ***\n",
       "juniorsecondary  0.92804    0.03042  30.509   <2e-16 ***\n",
       "primary          0.39643    0.03151  12.582   <2e-16 ***\n",
       "gender           0.29334    0.01504  19.502   <2e-16 ***\n",
       "y10             -0.03269    0.09718  -0.336   0.7366    \n",
       "y12             -0.17578    0.09721  -1.808   0.0706 .  \n",
       "y14                   NA         NA      NA       NA    \n",
       "Liaoning        -1.43364    0.08124 -17.648   <2e-16 ***\n",
       "Guangdong       -1.31791    0.08262 -15.951   <2e-16 ***\n",
       "Gansu           -1.43529    0.07557 -18.992   <2e-16 ***\n",
       "Others          -1.30148    0.07161 -18.176   <2e-16 ***\n",
       "---\n",
       "Signif. codes:  0 '***' 0.001 '**' 0.01 '*' 0.05 '.' 0.1 ' ' 1\n",
       "\n",
       "Residual standard error: 2.212 on 35445 degrees of freedom\n",
       "  (4024 observations deleted due to missingness)\n",
       "Multiple R-squared:  0.07788,\tAdjusted R-squared:  0.07759 \n",
       "F-statistic: 272.1 on 11 and 35445 DF,  p-value: < 2.2e-16\n"
      ]
     },
     "metadata": {}
    },
    {
     "output_type": "display_data",
     "data": {
      "text/plain": [
       "\n",
       "Call:\n",
       "lm(formula = lnrinc ~ postsecondary + seniorsecondary + juniorsecondary + \n",
       "    primary + gender + urban + y10 + y12 + y14 + Liaoning + Guangdong + \n",
       "    Gansu + Others, data = lnrincReg)\n",
       "\n",
       "Residuals:\n",
       "     Min       1Q   Median       3Q      Max \n",
       "-10.4413  -0.5365   0.2398   0.8335   4.8801 \n",
       "\n",
       "Coefficients: (1 not defined because of singularities)\n",
       "                 Estimate Std. Error t value Pr(>|t|)    \n",
       "(Intercept)     -1.198323   0.056810 -21.094   <2e-16 ***\n",
       "postsecondary    1.694561   0.026138  64.830   <2e-16 ***\n",
       "seniorsecondary  1.242750   0.023394  53.124   <2e-16 ***\n",
       "juniorsecondary  1.050356   0.019855  52.900   <2e-16 ***\n",
       "primary          0.606428   0.021845  27.760   <2e-16 ***\n",
       "gender           0.291400   0.009835  29.629   <2e-16 ***\n",
       "urban           -0.009248   0.006084  -1.520    0.129    \n",
       "y10              0.440028   0.052349   8.406   <2e-16 ***\n",
       "y12              0.985513   0.052463  18.785   <2e-16 ***\n",
       "y14                    NA         NA      NA       NA    \n",
       "Liaoning        -0.735804   0.031674 -23.231   <2e-16 ***\n",
       "Guangdong       -0.581397   0.031356 -18.542   <2e-16 ***\n",
       "Gansu           -1.103651   0.031025 -35.573   <2e-16 ***\n",
       "Others          -0.817011   0.023712 -34.455   <2e-16 ***\n",
       "---\n",
       "Signif. codes:  0 '***' 0.001 '**' 0.01 '*' 0.05 '.' 0.1 ' ' 1\n",
       "\n",
       "Residual standard error: 1.392 on 40916 degrees of freedom\n",
       "  (5225 observations deleted due to missingness)\n",
       "Multiple R-squared:  0.2349,\tAdjusted R-squared:  0.2347 \n",
       "F-statistic:  1047 on 12 and 40916 DF,  p-value: < 2.2e-16\n"
      ]
     },
     "metadata": {}
    },
    {
     "output_type": "display_data",
     "data": {
      "text/plain": [
       "\n",
       "Call:\n",
       "lm(formula = lnrinc ~ postsecondary + seniorsecondary + juniorsecondary + \n",
       "    primary + gender + y10 + y12 + y14 + Liaoning + Guangdong + \n",
       "    Gansu + Others, data = urban_reg)\n",
       "\n",
       "Residuals:\n",
       "     Min       1Q   Median       3Q      Max \n",
       "-10.4171  -0.3944   0.1902   0.6844   4.2934 \n",
       "\n",
       "Coefficients: (1 not defined because of singularities)\n",
       "                Estimate Std. Error t value Pr(>|t|)    \n",
       "(Intercept)     -1.48278    0.08182 -18.122  < 2e-16 ***\n",
       "postsecondary    1.49788    0.03193  46.909  < 2e-16 ***\n",
       "seniorsecondary  1.05889    0.03071  34.483  < 2e-16 ***\n",
       "juniorsecondary  0.91739    0.02861  32.061  < 2e-16 ***\n",
       "primary          0.56727    0.03317  17.101  < 2e-16 ***\n",
       "gender           0.25354    0.01279  19.829  < 2e-16 ***\n",
       "y10              0.57900    0.07687   7.533 5.18e-14 ***\n",
       "y12              1.01085    0.07736  13.067  < 2e-16 ***\n",
       "y14                   NA         NA      NA       NA    \n",
       "Liaoning        -0.47441    0.03460 -13.711  < 2e-16 ***\n",
       "Guangdong       -0.39571    0.03382 -11.699  < 2e-16 ***\n",
       "Gansu           -0.62523    0.04960 -12.606  < 2e-16 ***\n",
       "Others          -0.65166    0.02441 -26.693  < 2e-16 ***\n",
       "---\n",
       "Signif. codes:  0 '***' 0.001 '**' 0.01 '*' 0.05 '.' 0.1 ' ' 1\n",
       "\n",
       "Residual standard error: 1.242 on 20093 degrees of freedom\n",
       "  (3054 observations deleted due to missingness)\n",
       "Multiple R-squared:  0.1991,\tAdjusted R-squared:  0.1987 \n",
       "F-statistic: 454.1 on 11 and 20093 DF,  p-value: < 2.2e-16\n"
      ]
     },
     "metadata": {}
    },
    {
     "output_type": "display_data",
     "data": {
      "text/plain": [
       "\n",
       "Call:\n",
       "lm(formula = lnrinc ~ postsecondary + seniorsecondary + juniorsecondary + \n",
       "    primary + gender + y10 + y12 + y14 + Liaoning + Guangdong + \n",
       "    Gansu + Others, data = rural_reg)\n",
       "\n",
       "Residuals:\n",
       "    Min      1Q  Median      3Q     Max \n",
       "-9.6190 -0.6693  0.2609  0.9180  5.6169 \n",
       "\n",
       "Coefficients: (1 not defined because of singularities)\n",
       "                Estimate Std. Error t value Pr(>|t|)    \n",
       "(Intercept)     -1.51446    0.10744  -14.10   <2e-16 ***\n",
       "postsecondary    1.34657    0.05539   24.31   <2e-16 ***\n",
       "seniorsecondary  1.07236    0.03835   27.96   <2e-16 ***\n",
       "juniorsecondary  0.97200    0.02786   34.89   <2e-16 ***\n",
       "primary          0.57485    0.02891   19.88   <2e-16 ***\n",
       "gender           0.36897    0.01504   24.54   <2e-16 ***\n",
       "y10              1.09353    0.09126   11.98   <2e-16 ***\n",
       "y12              1.76236    0.09224   19.11   <2e-16 ***\n",
       "y14                   NA         NA      NA       NA    \n",
       "Liaoning        -1.00822    0.06684  -15.08   <2e-16 ***\n",
       "Guangdong       -0.81053    0.06718  -12.06   <2e-16 ***\n",
       "Gansu           -1.13574    0.06109  -18.59   <2e-16 ***\n",
       "Others          -0.90180    0.05691  -15.85   <2e-16 ***\n",
       "---\n",
       "Signif. codes:  0 '***' 0.001 '**' 0.01 '*' 0.05 '.' 0.1 ' ' 1\n",
       "\n",
       "Residual standard error: 1.475 on 20110 degrees of freedom\n",
       "  (2171 observations deleted due to missingness)\n",
       "Multiple R-squared:  0.2024,\tAdjusted R-squared:  0.202 \n",
       "F-statistic: 463.9 on 11 and 20110 DF,  p-value: < 2.2e-16\n"
      ]
     },
     "metadata": {}
    },
    {
     "output_type": "display_data",
     "data": {
      "text/plain": [
       "\n",
       "Call:\n",
       "lm(formula = lnrinc ~ postsecondary + seniorsecondary + juniorsecondary + \n",
       "    primary + y10 + y12 + y14 + Liaoning + Guangdong + Gansu + \n",
       "    Others, data = female_urban_reg)\n",
       "\n",
       "Residuals:\n",
       "     Min       1Q   Median       3Q      Max \n",
       "-10.4059  -0.3756   0.1628   0.6242   4.0815 \n",
       "\n",
       "Coefficients: (1 not defined because of singularities)\n",
       "                Estimate Std. Error t value Pr(>|t|)    \n",
       "(Intercept)     -1.03674    0.10115 -10.249  < 2e-16 ***\n",
       "postsecondary    1.23359    0.04293  28.737  < 2e-16 ***\n",
       "seniorsecondary  0.79798    0.04146  19.248  < 2e-16 ***\n",
       "juniorsecondary  0.75727    0.03905  19.390  < 2e-16 ***\n",
       "primary          0.37326    0.04415   8.454  < 2e-16 ***\n",
       "y10              0.35573    0.09204   3.865 0.000112 ***\n",
       "y12              0.69337    0.09247   7.498 6.99e-14 ***\n",
       "y14                   NA         NA      NA       NA    \n",
       "Liaoning        -0.43334    0.04340  -9.985  < 2e-16 ***\n",
       "Guangdong       -0.37074    0.04243  -8.738  < 2e-16 ***\n",
       "Gansu           -0.44016    0.06100  -7.216 5.72e-13 ***\n",
       "Others          -0.55391    0.03061 -18.093  < 2e-16 ***\n",
       "---\n",
       "Signif. codes:  0 '***' 0.001 '**' 0.01 '*' 0.05 '.' 0.1 ' ' 1\n",
       "\n",
       "Residual standard error: 1.122 on 10695 degrees of freedom\n",
       "  (1689 observations deleted due to missingness)\n",
       "Multiple R-squared:  0.1464,\tAdjusted R-squared:  0.1456 \n",
       "F-statistic: 183.4 on 10 and 10695 DF,  p-value: < 2.2e-16\n"
      ]
     },
     "metadata": {}
    },
    {
     "output_type": "display_data",
     "data": {
      "text/plain": [
       "\n",
       "Call:\n",
       "lm(formula = lnrinc ~ postsecondary + seniorsecondary + juniorsecondary + \n",
       "    primary + y10 + y12 + y14 + Liaoning + Guangdong + Gansu + \n",
       "    Others, data = female_rural_reg)\n",
       "\n",
       "Residuals:\n",
       "    Min      1Q  Median      3Q     Max \n",
       "-9.6181 -0.5310  0.2357  0.8558  4.6663 \n",
       "\n",
       "Coefficients: (1 not defined because of singularities)\n",
       "                Estimate Std. Error t value Pr(>|t|)    \n",
       "(Intercept)     -1.18521    0.13522  -8.765  < 2e-16 ***\n",
       "postsecondary    1.15510    0.06571  17.580  < 2e-16 ***\n",
       "seniorsecondary  0.96420    0.04488  21.484  < 2e-16 ***\n",
       "juniorsecondary  0.86766    0.03454  25.120  < 2e-16 ***\n",
       "primary          0.47848    0.03634  13.165  < 2e-16 ***\n",
       "y10              0.85114    0.11504   7.398 1.47e-13 ***\n",
       "y12              1.41806    0.11577  12.249  < 2e-16 ***\n",
       "y14                   NA         NA      NA       NA    \n",
       "Liaoning        -0.77162    0.08131  -9.490  < 2e-16 ***\n",
       "Guangdong       -0.73784    0.08229  -8.967  < 2e-16 ***\n",
       "Gansu           -0.96989    0.07490 -12.949  < 2e-16 ***\n",
       "Others          -0.73772    0.07007 -10.529  < 2e-16 ***\n",
       "---\n",
       "Signif. codes:  0 '***' 0.001 '**' 0.01 '*' 0.05 '.' 0.1 ' ' 1\n",
       "\n",
       "Residual standard error: 1.327 on 11613 degrees of freedom\n",
       "  (1293 observations deleted due to missingness)\n",
       "Multiple R-squared:  0.1493,\tAdjusted R-squared:  0.1486 \n",
       "F-statistic: 203.9 on 10 and 11613 DF,  p-value: < 2.2e-16\n"
      ]
     },
     "metadata": {}
    },
    {
     "output_type": "display_data",
     "data": {
      "text/plain": [
       "\n",
       "Call:\n",
       "lm(formula = lnrinc ~ postsecondary + seniorsecondary + juniorsecondary + \n",
       "    primary + y10 + y12 + y14 + Liaoning + Guangdong + Gansu + \n",
       "    Others, data = male_urban_reg)\n",
       "\n",
       "Residuals:\n",
       "     Min       1Q   Median       3Q      Max \n",
       "-10.1624  -0.3962   0.2283   0.7312   4.0713 \n",
       "\n",
       "Coefficients: (1 not defined because of singularities)\n",
       "                Estimate Std. Error t value Pr(>|t|)    \n",
       "(Intercept)     -1.43022    0.13120 -10.901  < 2e-16 ***\n",
       "postsecondary    1.65049    0.04742  34.804  < 2e-16 ***\n",
       "seniorsecondary  1.20218    0.04556  26.390  < 2e-16 ***\n",
       "juniorsecondary  0.91600    0.04207  21.771  < 2e-16 ***\n",
       "primary          0.62451    0.04986  12.525  < 2e-16 ***\n",
       "y10              0.72861    0.12656   5.757 8.82e-09 ***\n",
       "y12              1.22899    0.12764   9.628  < 2e-16 ***\n",
       "y14                   NA         NA      NA       NA    \n",
       "Liaoning        -0.47487    0.05395  -8.803  < 2e-16 ***\n",
       "Guangdong       -0.43902    0.05322  -8.250  < 2e-16 ***\n",
       "Gansu           -0.81752    0.07895 -10.355  < 2e-16 ***\n",
       "Others          -0.73376    0.03815 -19.232  < 2e-16 ***\n",
       "---\n",
       "Signif. codes:  0 '***' 0.001 '**' 0.01 '*' 0.05 '.' 0.1 ' ' 1\n",
       "\n",
       "Residual standard error: 1.339 on 9325 degrees of freedom\n",
       "  (1365 observations deleted due to missingness)\n",
       "Multiple R-squared:  0.2152,\tAdjusted R-squared:  0.2144 \n",
       "F-statistic: 255.7 on 10 and 9325 DF,  p-value: < 2.2e-16\n"
      ]
     },
     "metadata": {}
    },
    {
     "output_type": "display_data",
     "data": {
      "text/plain": [
       "\n",
       "Call:\n",
       "lm(formula = lnrinc ~ postsecondary + seniorsecondary + juniorsecondary + \n",
       "    primary + y10 + y12 + y14 + Liaoning + Guangdong + Gansu + \n",
       "    Others, data = male_rural_reg)\n",
       "\n",
       "Residuals:\n",
       "    Min      1Q  Median      3Q     Max \n",
       "-8.9969 -0.7690  0.2868  1.0269  5.2679 \n",
       "\n",
       "Coefficients: (1 not defined because of singularities)\n",
       "                Estimate Std. Error t value Pr(>|t|)    \n",
       "(Intercept)     -1.16401    0.16854  -6.906 5.33e-12 ***\n",
       "postsecondary    1.48642    0.09477  15.684  < 2e-16 ***\n",
       "seniorsecondary  1.01037    0.06979  14.478  < 2e-16 ***\n",
       "juniorsecondary  0.89643    0.04651  19.273  < 2e-16 ***\n",
       "primary          0.52805    0.04683  11.277  < 2e-16 ***\n",
       "y10              1.34478    0.14275   9.420  < 2e-16 ***\n",
       "y12              2.13629    0.14555  14.677  < 2e-16 ***\n",
       "y14                   NA         NA      NA       NA    \n",
       "Liaoning        -1.32110    0.10912 -12.106  < 2e-16 ***\n",
       "Guangdong       -0.97815    0.10910  -8.966  < 2e-16 ***\n",
       "Gansu           -1.49325    0.09913 -15.063  < 2e-16 ***\n",
       "Others          -1.13751    0.09145 -12.438  < 2e-16 ***\n",
       "---\n",
       "Signif. codes:  0 '***' 0.001 '**' 0.01 '*' 0.05 '.' 0.1 ' ' 1\n",
       "\n",
       "Residual standard error: 1.615 on 8419 degrees of freedom\n",
       "  (878 observations deleted due to missingness)\n",
       "Multiple R-squared:  0.1805,\tAdjusted R-squared:  0.1795 \n",
       "F-statistic: 185.4 on 10 and 8419 DF,  p-value: < 2.2e-16\n"
      ]
     },
     "metadata": {}
    }
   ],
   "metadata": {}
  },
  {
   "cell_type": "markdown",
   "source": [
    "### Regression for pinc and lnpinc, without province dummies"
   ],
   "metadata": {}
  },
  {
   "cell_type": "code",
   "execution_count": null,
   "source": [
    "summary(lm(pinc ~  postsecondary + seniorsecondary + juniorsecondary + primary + gender + urban + y10 + y12 + y14, data=combined))\n",
    "summary(lm(pinc ~  postsecondary + seniorsecondary + juniorsecondary + primary + gender + y10 + y12 + y14, data=urban))\n",
    "summary(lm(pinc ~  postsecondary + seniorsecondary + juniorsecondary + primary + gender + y10 + y12 + y14, data=rural))\n",
    "\n",
    "lnpincReg <- filter(combined, !is.infinite(lnpinc) & !is.na(lnpinc))\n",
    "urban_reg <- filter(urban, !is.infinite(lnpinc) & !is.na(lnpinc))\n",
    "rural_reg <- filter(rural, !is.infinite(lnpinc) & !is.na(lnpinc))\n",
    "summary(lm(lnpinc ~  postsecondary + seniorsecondary + juniorsecondary + primary + gender + urban + y10 + y12 + y14, data=lnpincReg))\n",
    "summary(lm(lnpinc ~  postsecondary + seniorsecondary + juniorsecondary + primary + gender + y10 + y12 + y14, data=urban_reg))\n",
    "summary(lm(lnpinc ~  postsecondary + seniorsecondary + juniorsecondary + primary + gender + y10 + y12 + y14, data=rural_reg))\n",
    "\n",
    "\n",
    "female_urban_reg <- filter(female_urban, !is.infinite(lnpinc) & !is.na(lnpinc))\n",
    "female_rural_reg <- filter(female_rural, !is.infinite(lnpinc) & !is.na(lnpinc))\n",
    "male_urban_reg <- filter(male_urban, !is.infinite(lnpinc) & !is.na(lnpinc))\n",
    "male_rural_reg <- filter(male_rural, !is.infinite(lnpinc) & !is.na(lnpinc))\n",
    "summary(lm(lnpinc ~  postsecondary + seniorsecondary + juniorsecondary + primary + y10 + y12 + y14, data=female_urban_reg))\n",
    "summary(lm(lnpinc ~  postsecondary + seniorsecondary + juniorsecondary + primary + y10 + y12 + y14, data=female_rural_reg))\n",
    "summary(lm(lnpinc ~  postsecondary + seniorsecondary + juniorsecondary + primary + y10 + y12 + y14, data=male_urban_reg))\n",
    "summary(lm(lnpinc ~  postsecondary + seniorsecondary + juniorsecondary + primary + y10 + y12 + y14, data=male_rural_reg))"
   ],
   "outputs": [],
   "metadata": {}
  },
  {
   "cell_type": "code",
   "execution_count": 34,
   "source": [
    "index <- c(\"combined\", \"urban\", \"rural\", \"female_urban\", \"female_rural\", \"male_urban\", \"male_rural\")\n",
    "mean_lnpinc <- c(mean(lnpincReg$lnpinc), mean(urban_reg$lnpinc), mean(rural_reg$lnpinc), mean(female_urban_reg$lnpinc), mean(female_rural_reg$lnpinc), mean(male_urban_reg$lnpinc), mean(male_rural_reg$lnpinc))\n",
    "median_lnpinc <- c(median(lnpincReg$lnpinc), median(urban_reg$lnpinc), median(rural_reg$lnpinc), median(female_urban_reg$lnpinc), median(female_rural_reg$lnpinc), median(male_urban_reg$lnpinc), median(male_rural_reg$lnpinc))\n",
    "var_lnpinc <- c(var(lnpincReg$lnpinc), var(urban_reg$lnpinc), var(rural_reg$lnpinc), var(female_urban_reg$lnpinc), var(female_rural_reg$lnpinc), var(male_urban_reg$lnpinc), var(male_rural_reg$lnpinc))\n",
    "kurtosis_lnpinc <- c(kurtosis(lnpincReg$lnpinc), kurtosis(urban_reg$lnpinc), kurtosis(rural_reg$lnpinc), kurtosis(female_urban_reg$lnpinc), kurtosis(female_rural_reg$lnpinc), kurtosis(male_urban_reg$lnpinc), kurtosis(male_rural_reg$lnpinc))\n",
    "skew_lnpinc <- c(skewness(lnpincReg$lnpinc), skewness(urban_reg$lnpinc), skewness(rural_reg$lnpinc), skewness(female_urban_reg$lnpinc), skewness(female_rural_reg$lnpinc), skewness(male_urban_reg$lnpinc), skewness(male_rural_reg$lnpinc))\n",
    "\n",
    "lnpinc <- data.frame(\"subsamples\"=index, \"mean\" = mean_lnpinc, \"median\" = median_lnpinc, \"var\" = var_lnpinc, \"kurtosis\" = kurtosis_lnpinc, \"skew\" = skew_lnpinc)\n",
    "lnpinc$stdev <- sqrt(lnpinc$var)"
   ],
   "outputs": [],
   "metadata": {}
  },
  {
   "cell_type": "code",
   "execution_count": 35,
   "source": [
    "print(\"Lnpinc descriptive statistics\")\n",
    "print(lnpinc)"
   ],
   "outputs": [
    {
     "output_type": "stream",
     "name": "stdout",
     "text": [
      "[1] \"Lnpinc descriptive statistics\"\n",
      "    subsamples       mean     median       var kurtosis      skew     stdev\n",
      "1     combined -0.4929644 -0.4137467 0.1729911 3.460895 -1.504673 0.4159220\n",
      "2        urban -0.5239991 -0.4371708 0.1657071 1.414272 -1.098564 0.4070714\n",
      "3        rural -0.4672305 -0.3412846 0.1631424 1.812138 -1.317396 0.4039089\n",
      "4 female_urban -0.6097785 -0.4938689 0.2372013 1.098065 -1.111018 0.4870332\n",
      "5 female_rural -0.5606974 -0.4242731 0.2443960 1.507585 -1.342581 0.4943642\n",
      "6   male_urban -0.4587463 -0.3767322 0.1266873 2.115663 -1.204974 0.3559316\n",
      "7   male_rural -0.4020730 -0.2807868 0.1244622 2.958936 -1.463058 0.3527921\n"
     ]
    }
   ],
   "metadata": {}
  },
  {
   "cell_type": "markdown",
   "source": [
    "### Regression for pinc and lnpinc, with province dummies"
   ],
   "metadata": {}
  },
  {
   "cell_type": "code",
   "execution_count": 49,
   "source": [
    "summary(lm(pinc ~  postsecondary + seniorsecondary + juniorsecondary + primary + gender + urban + y10 + y12 + y14 + Liaoning + Guangdong + Gansu + Others, data=combined))\n",
    "summary(lm(pinc ~  postsecondary + seniorsecondary + juniorsecondary + primary + gender + y10 + y12 + y14 + Liaoning + Guangdong + Gansu + Others, data=urban))\n",
    "summary(lm(pinc ~  postsecondary + seniorsecondary + juniorsecondary + primary + gender + y10 + y12 + y14 + Liaoning + Guangdong + Gansu + Others, data=rural))\n",
    "\n",
    "summary(lm(lnpinc ~  postsecondary + seniorsecondary + juniorsecondary + primary + gender + urban + y10 + y12 + y14 + Liaoning + Guangdong + Gansu + Others, data=lnpincReg))\n",
    "summary(lm(lnpinc ~  postsecondary + seniorsecondary + juniorsecondary + primary + gender + y10 + y12 + y14 + Liaoning + Guangdong + Gansu + Others, data=urban_reg))\n",
    "summary(lm(lnpinc ~  postsecondary + seniorsecondary + juniorsecondary + primary + gender + y10 + y12 + y14 + Liaoning + Guangdong + Gansu + Others, data=rural_reg))\n",
    "\n",
    "summary(lm(lnpinc ~  postsecondary + seniorsecondary + juniorsecondary + primary + y10 + y12 + y14 + Liaoning + Guangdong + Gansu + Others, data=female_urban_reg))\n",
    "summary(lm(lnpinc ~  postsecondary + seniorsecondary + juniorsecondary + primary + y10 + y12 + y14 + Liaoning + Guangdong + Gansu + Others, data=female_rural_reg))\n",
    "summary(lm(lnpinc ~  postsecondary + seniorsecondary + juniorsecondary + primary + y10 + y12 + y14 + Liaoning + Guangdong + Gansu + Others, data=male_urban_reg))\n",
    "summary(lm(lnpinc ~  postsecondary + seniorsecondary + juniorsecondary + primary + y10 + y12 + y14 + Liaoning + Guangdong + Gansu + Others, data=male_rural_reg))"
   ],
   "outputs": [
    {
     "output_type": "display_data",
     "data": {
      "text/plain": [
       "\n",
       "Call:\n",
       "lm(formula = pinc ~ postsecondary + seniorsecondary + juniorsecondary + \n",
       "    primary + gender + urban + y10 + y12 + y14 + Liaoning + Guangdong + \n",
       "    Gansu + Others, data = combined)\n",
       "\n",
       "Residuals:\n",
       "     Min       1Q   Median       3Q      Max \n",
       "-0.90849 -0.28018  0.01455  0.27072  1.17398 \n",
       "\n",
       "Coefficients: (1 not defined because of singularities)\n",
       "                 Estimate Std. Error t value Pr(>|t|)    \n",
       "(Intercept)      0.473133   0.010103  46.831  < 2e-16 ***\n",
       "postsecondary    0.403835   0.005019  80.455  < 2e-16 ***\n",
       "seniorsecondary  0.258196   0.004209  61.346  < 2e-16 ***\n",
       "juniorsecondary  0.201110   0.003430  58.626  < 2e-16 ***\n",
       "primary          0.109040   0.003763  28.977  < 2e-16 ***\n",
       "gender           0.059591   0.001683  35.418  < 2e-16 ***\n",
       "urban            0.003772   0.001129   3.342 0.000833 ***\n",
       "y10             -0.031842   0.009217  -3.455 0.000551 ***\n",
       "y12             -0.164484   0.009146 -17.984  < 2e-16 ***\n",
       "y14                    NA         NA      NA       NA    \n",
       "Liaoning        -0.164693   0.006120 -26.910  < 2e-16 ***\n",
       "Guangdong       -0.120510   0.006133 -19.651  < 2e-16 ***\n",
       "Gansu           -0.189673   0.005886 -32.225  < 2e-16 ***\n",
       "Others          -0.161107   0.004769 -33.785  < 2e-16 ***\n",
       "---\n",
       "Signif. codes:  0 '***' 0.001 '**' 0.01 '*' 0.05 '.' 0.1 ' ' 1\n",
       "\n",
       "Residual standard error: 0.3248 on 65998 degrees of freedom\n",
       "  (8240 observations deleted due to missingness)\n",
       "Multiple R-squared:  0.1892,\tAdjusted R-squared:  0.1891 \n",
       "F-statistic:  1283 on 12 and 65998 DF,  p-value: < 2.2e-16\n"
      ]
     },
     "metadata": {}
    },
    {
     "output_type": "display_data",
     "data": {
      "text/plain": [
       "\n",
       "Call:\n",
       "lm(formula = pinc ~ postsecondary + seniorsecondary + juniorsecondary + \n",
       "    primary + gender + y10 + y12 + y14 + Liaoning + Guangdong + \n",
       "    Gansu + Others, data = urban)\n",
       "\n",
       "Residuals:\n",
       "     Min       1Q   Median       3Q      Max \n",
       "-0.83406 -0.26185  0.04785  0.24975  1.11912 \n",
       "\n",
       "Coefficients: (1 not defined because of singularities)\n",
       "                 Estimate Std. Error t value Pr(>|t|)    \n",
       "(Intercept)      0.456531   0.015775  28.940  < 2e-16 ***\n",
       "postsecondary    0.381754   0.006555  58.236  < 2e-16 ***\n",
       "seniorsecondary  0.231332   0.006050  38.235  < 2e-16 ***\n",
       "juniorsecondary  0.173988   0.005503  31.619  < 2e-16 ***\n",
       "primary          0.093672   0.006384  14.674  < 2e-16 ***\n",
       "gender           0.066484   0.002620  25.378  < 2e-16 ***\n",
       "y10             -0.070708   0.014860  -4.758 1.96e-06 ***\n",
       "y12             -0.143116   0.014880  -9.618  < 2e-16 ***\n",
       "y14                    NA         NA      NA       NA    \n",
       "Liaoning        -0.120572   0.007445 -16.195  < 2e-16 ***\n",
       "Guangdong       -0.098633   0.007277 -13.555  < 2e-16 ***\n",
       "Gansu           -0.160647   0.010114 -15.884  < 2e-16 ***\n",
       "Others          -0.145234   0.005368 -27.057  < 2e-16 ***\n",
       "---\n",
       "Signif. codes:  0 '***' 0.001 '**' 0.01 '*' 0.05 '.' 0.1 ' ' 1\n",
       "\n",
       "Residual standard error: 0.3145 on 29507 degrees of freedom\n",
       "  (4216 observations deleted due to missingness)\n",
       "Multiple R-squared:  0.1739,\tAdjusted R-squared:  0.1736 \n",
       "F-statistic: 564.9 on 11 and 29507 DF,  p-value: < 2.2e-16\n"
      ]
     },
     "metadata": {}
    },
    {
     "output_type": "display_data",
     "data": {
      "text/plain": [
       "\n",
       "Call:\n",
       "lm(formula = pinc ~ postsecondary + seniorsecondary + juniorsecondary + \n",
       "    primary + gender + y10 + y12 + y14 + Liaoning + Guangdong + \n",
       "    Gansu + Others, data = rural)\n",
       "\n",
       "Residuals:\n",
       "     Min       1Q   Median       3Q      Max \n",
       "-0.80944 -0.30993 -0.05808  0.29733  1.21931 \n",
       "\n",
       "Coefficients: (1 not defined because of singularities)\n",
       "                 Estimate Std. Error t value Pr(>|t|)    \n",
       "(Intercept)      0.543362   0.018222  29.818  < 2e-16 ***\n",
       "postsecondary    0.375960   0.010315  36.449  < 2e-16 ***\n",
       "seniorsecondary  0.246103   0.006650  37.008  < 2e-16 ***\n",
       "juniorsecondary  0.212295   0.004642  45.736  < 2e-16 ***\n",
       "primary          0.121855   0.004808  25.345  < 2e-16 ***\n",
       "gender           0.063398   0.002295  27.621  < 2e-16 ***\n",
       "y10             -0.043428   0.014829  -2.929  0.00341 ** \n",
       "y12             -0.233790   0.014833 -15.761  < 2e-16 ***\n",
       "y14                    NA         NA      NA       NA    \n",
       "Liaoning        -0.218081   0.012396 -17.593  < 2e-16 ***\n",
       "Guangdong       -0.154730   0.012608 -12.273  < 2e-16 ***\n",
       "Gansu           -0.190009   0.011532 -16.477  < 2e-16 ***\n",
       "Others          -0.177045   0.010927 -16.203  < 2e-16 ***\n",
       "---\n",
       "Signif. codes:  0 '***' 0.001 '**' 0.01 '*' 0.05 '.' 0.1 ' ' 1\n",
       "\n",
       "Residual standard error: 0.3375 on 35445 degrees of freedom\n",
       "  (4024 observations deleted due to missingness)\n",
       "Multiple R-squared:  0.1667,\tAdjusted R-squared:  0.1665 \n",
       "F-statistic: 644.8 on 11 and 35445 DF,  p-value: < 2.2e-16\n"
      ]
     },
     "metadata": {}
    },
    {
     "output_type": "display_data",
     "data": {
      "text/plain": [
       "\n",
       "Call:\n",
       "lm(formula = lnpinc ~ postsecondary + seniorsecondary + juniorsecondary + \n",
       "    primary + gender + urban + y10 + y12 + y14 + Liaoning + Guangdong + \n",
       "    Gansu + Others, data = lnpincReg)\n",
       "\n",
       "Residuals:\n",
       "     Min       1Q   Median       3Q      Max \n",
       "-2.07991 -0.18090  0.03977  0.22536  1.09862 \n",
       "\n",
       "Coefficients: (1 not defined because of singularities)\n",
       "                 Estimate Std. Error t value Pr(>|t|)    \n",
       "(Intercept)     -1.053580   0.011545 -91.259  < 2e-16 ***\n",
       "postsecondary    0.471706   0.006460  73.016  < 2e-16 ***\n",
       "seniorsecondary  0.362452   0.005791  62.586  < 2e-16 ***\n",
       "juniorsecondary  0.296784   0.004907  60.483  < 2e-16 ***\n",
       "primary          0.183668   0.005398  34.028  < 2e-16 ***\n",
       "gender           0.069202   0.002449  28.253  < 2e-16 ***\n",
       "urban           -0.010123   0.001357  -7.462 8.67e-14 ***\n",
       "y10              0.378317   0.010199  37.095  < 2e-16 ***\n",
       "y12              0.623118   0.010325  60.353  < 2e-16 ***\n",
       "y14                    NA         NA      NA       NA    \n",
       "Liaoning        -0.175001   0.007882 -22.204  < 2e-16 ***\n",
       "Guangdong       -0.134222   0.007796 -17.216  < 2e-16 ***\n",
       "Gansu           -0.262193   0.007689 -34.100  < 2e-16 ***\n",
       "Others          -0.191344   0.005906 -32.401  < 2e-16 ***\n",
       "---\n",
       "Signif. codes:  0 '***' 0.001 '**' 0.01 '*' 0.05 '.' 0.1 ' ' 1\n",
       "\n",
       "Residual standard error: 0.3481 on 41579 degrees of freedom\n",
       "  (5225 observations deleted due to missingness)\n",
       "Multiple R-squared:  0.3408,\tAdjusted R-squared:  0.3406 \n",
       "F-statistic:  1792 on 12 and 41579 DF,  p-value: < 2.2e-16\n"
      ]
     },
     "metadata": {}
    },
    {
     "output_type": "display_data",
     "data": {
      "text/plain": [
       "\n",
       "Call:\n",
       "lm(formula = lnpinc ~ postsecondary + seniorsecondary + juniorsecondary + \n",
       "    primary + gender + y10 + y12 + y14 + Liaoning + Guangdong + \n",
       "    Gansu + Others, data = urban_reg)\n",
       "\n",
       "Residuals:\n",
       "    Min      1Q  Median      3Q     Max \n",
       "-2.0862 -0.1895  0.0467  0.2424  1.0930 \n",
       "\n",
       "Coefficients: (1 not defined because of singularities)\n",
       "                 Estimate Std. Error t value Pr(>|t|)    \n",
       "(Intercept)     -1.010056   0.017963  -56.23   <2e-16 ***\n",
       "postsecondary    0.493427   0.008859   55.70   <2e-16 ***\n",
       "seniorsecondary  0.350724   0.008520   41.16   <2e-16 ***\n",
       "juniorsecondary  0.282232   0.007923   35.62   <2e-16 ***\n",
       "primary          0.170295   0.009171   18.57   <2e-16 ***\n",
       "gender           0.078529   0.003567   22.02   <2e-16 ***\n",
       "y10              0.236962   0.016508   14.35   <2e-16 ***\n",
       "y12              0.448045   0.016725   26.79   <2e-16 ***\n",
       "y14                    NA         NA      NA       NA    \n",
       "Liaoning        -0.147914   0.009638  -15.35   <2e-16 ***\n",
       "Guangdong       -0.123338   0.009423  -13.09   <2e-16 ***\n",
       "Gansu           -0.181289   0.013760  -13.18   <2e-16 ***\n",
       "Others          -0.194007   0.006805  -28.51   <2e-16 ***\n",
       "---\n",
       "Signif. codes:  0 '***' 0.001 '**' 0.01 '*' 0.05 '.' 0.1 ' ' 1\n",
       "\n",
       "Residual standard error: 0.3474 on 20289 degrees of freedom\n",
       "  (3054 observations deleted due to missingness)\n",
       "Multiple R-squared:  0.2941,\tAdjusted R-squared:  0.2937 \n",
       "F-statistic: 768.5 on 11 and 20289 DF,  p-value: < 2.2e-16\n"
      ]
     },
     "metadata": {}
    },
    {
     "output_type": "display_data",
     "data": {
      "text/plain": [
       "\n",
       "Call:\n",
       "lm(formula = lnpinc ~ postsecondary + seniorsecondary + juniorsecondary + \n",
       "    primary + gender + y10 + y12 + y14 + Liaoning + Guangdong + \n",
       "    Gansu + Others, data = rural_reg)\n",
       "\n",
       "Residuals:\n",
       "     Min       1Q   Median       3Q      Max \n",
       "-1.76170 -0.17346  0.03326  0.22645  0.96157 \n",
       "\n",
       "Coefficients: (1 not defined because of singularities)\n",
       "                 Estimate Std. Error t value Pr(>|t|)    \n",
       "(Intercept)     -0.867996   0.020031  -43.33   <2e-16 ***\n",
       "postsecondary    0.332380   0.012893   25.78   <2e-16 ***\n",
       "seniorsecondary  0.284251   0.008926   31.85   <2e-16 ***\n",
       "juniorsecondary  0.249788   0.006471   38.60   <2e-16 ***\n",
       "primary          0.170082   0.006701   25.38   <2e-16 ***\n",
       "gender           0.076985   0.003506   21.96   <2e-16 ***\n",
       "y10              0.298826   0.015232   19.62   <2e-16 ***\n",
       "y12              0.600862   0.015633   38.44   <2e-16 ***\n",
       "y14                    NA         NA      NA       NA    \n",
       "Liaoning        -0.229685   0.015568  -14.75   <2e-16 ***\n",
       "Guangdong       -0.189590   0.015636  -12.12   <2e-16 ***\n",
       "Gansu           -0.256646   0.014223  -18.05   <2e-16 ***\n",
       "Others          -0.203482   0.013262  -15.34   <2e-16 ***\n",
       "---\n",
       "Signif. codes:  0 '***' 0.001 '**' 0.01 '*' 0.05 '.' 0.1 ' ' 1\n",
       "\n",
       "Residual standard error: 0.3449 on 20378 degrees of freedom\n",
       "  (2171 observations deleted due to missingness)\n",
       "Multiple R-squared:  0.315,\tAdjusted R-squared:  0.3147 \n",
       "F-statistic: 852.1 on 11 and 20378 DF,  p-value: < 2.2e-16\n"
      ]
     },
     "metadata": {}
    },
    {
     "output_type": "display_data",
     "data": {
      "text/plain": [
       "\n",
       "Call:\n",
       "lm(formula = lnpinc ~ postsecondary + seniorsecondary + juniorsecondary + \n",
       "    primary + y10 + y12 + y14 + Liaoning + Guangdong + Gansu + \n",
       "    Others, data = female_urban_reg)\n",
       "\n",
       "Residuals:\n",
       "     Min       1Q   Median       3Q      Max \n",
       "-2.48398 -0.24291  0.07019  0.30691  1.07589 \n",
       "\n",
       "Coefficients: (1 not defined because of singularities)\n",
       "                Estimate Std. Error t value Pr(>|t|)    \n",
       "(Intercept)     -1.06062    0.03250 -32.632  < 2e-16 ***\n",
       "postsecondary    0.58720    0.01655  35.487  < 2e-16 ***\n",
       "seniorsecondary  0.39885    0.01598  24.959  < 2e-16 ***\n",
       "juniorsecondary  0.34687    0.01503  23.079  < 2e-16 ***\n",
       "primary          0.18354    0.01699  10.803  < 2e-16 ***\n",
       "y10              0.16419    0.02885   5.692 1.29e-08 ***\n",
       "y12              0.42792    0.02912  14.697  < 2e-16 ***\n",
       "y14                   NA         NA      NA       NA    \n",
       "Liaoning        -0.17175    0.01682 -10.212  < 2e-16 ***\n",
       "Guangdong       -0.14248    0.01646  -8.657  < 2e-16 ***\n",
       "Gansu           -0.16794    0.02360  -7.116 1.18e-12 ***\n",
       "Others          -0.21664    0.01189 -18.223  < 2e-16 ***\n",
       "---\n",
       "Signif. codes:  0 '***' 0.001 '**' 0.01 '*' 0.05 '.' 0.1 ' ' 1\n",
       "\n",
       "Residual standard error: 0.4366 on 10781 degrees of freedom\n",
       "  (1689 observations deleted due to missingness)\n",
       "Multiple R-squared:  0.2383,\tAdjusted R-squared:  0.2376 \n",
       "F-statistic: 337.2 on 10 and 10781 DF,  p-value: < 2.2e-16\n"
      ]
     },
     "metadata": {}
    },
    {
     "output_type": "display_data",
     "data": {
      "text/plain": [
       "\n",
       "Call:\n",
       "lm(formula = lnpinc ~ postsecondary + seniorsecondary + juniorsecondary + \n",
       "    primary + y10 + y12 + y14 + Liaoning + Guangdong + Gansu + \n",
       "    Others, data = female_rural_reg)\n",
       "\n",
       "Residuals:\n",
       "     Min       1Q   Median       3Q      Max \n",
       "-2.17548 -0.22610  0.05625  0.30136  1.06539 \n",
       "\n",
       "Coefficients: (1 not defined because of singularities)\n",
       "                Estimate Std. Error t value Pr(>|t|)    \n",
       "(Intercept)     -0.89795    0.03686 -24.358  < 2e-16 ***\n",
       "postsecondary    0.42316    0.02173  19.477  < 2e-16 ***\n",
       "seniorsecondary  0.37208    0.01485  25.062  < 2e-16 ***\n",
       "juniorsecondary  0.32612    0.01140  28.603  < 2e-16 ***\n",
       "primary          0.20651    0.01199  17.231  < 2e-16 ***\n",
       "y10              0.19813    0.02873   6.897 5.59e-12 ***\n",
       "y12              0.55602    0.02915  19.073  < 2e-16 ***\n",
       "y14                   NA         NA      NA       NA    \n",
       "Liaoning        -0.24868    0.02689  -9.247  < 2e-16 ***\n",
       "Guangdong       -0.23625    0.02724  -8.673  < 2e-16 ***\n",
       "Gansu           -0.30683    0.02478 -12.380  < 2e-16 ***\n",
       "Others          -0.23307    0.02319 -10.050  < 2e-16 ***\n",
       "---\n",
       "Signif. codes:  0 '***' 0.001 '**' 0.01 '*' 0.05 '.' 0.1 ' ' 1\n",
       "\n",
       "Residual standard error: 0.4409 on 11721 degrees of freedom\n",
       "  (1293 observations deleted due to missingness)\n",
       "Multiple R-squared:  0.2547,\tAdjusted R-squared:  0.254 \n",
       "F-statistic: 400.5 on 10 and 11721 DF,  p-value: < 2.2e-16\n"
      ]
     },
     "metadata": {}
    },
    {
     "output_type": "display_data",
     "data": {
      "text/plain": [
       "\n",
       "Call:\n",
       "lm(formula = lnpinc ~ postsecondary + seniorsecondary + juniorsecondary + \n",
       "    primary + y10 + y12 + y14 + Liaoning + Guangdong + Gansu + \n",
       "    Others, data = male_urban_reg)\n",
       "\n",
       "Residuals:\n",
       "    Min      1Q  Median      3Q     Max \n",
       "-1.7995 -0.1558  0.0354  0.1928  0.9621 \n",
       "\n",
       "Coefficients: (1 not defined because of singularities)\n",
       "                 Estimate Std. Error t value Pr(>|t|)    \n",
       "(Intercept)     -0.887099   0.021620 -41.031   <2e-16 ***\n",
       "postsecondary    0.421810   0.010489  40.216   <2e-16 ***\n",
       "seniorsecondary  0.307508   0.010078  30.514   <2e-16 ***\n",
       "juniorsecondary  0.216790   0.009286  23.347   <2e-16 ***\n",
       "primary          0.140590   0.010968  12.818   <2e-16 ***\n",
       "y10              0.286572   0.020428  14.028   <2e-16 ***\n",
       "y12              0.459539   0.020797  22.097   <2e-16 ***\n",
       "y14                    NA         NA      NA       NA    \n",
       "Liaoning        -0.121500   0.011962 -10.157   <2e-16 ***\n",
       "Guangdong       -0.115989   0.011790  -9.838   <2e-16 ***\n",
       "Gansu           -0.187864   0.017384 -10.807   <2e-16 ***\n",
       "Others          -0.177856   0.008453 -21.040   <2e-16 ***\n",
       "---\n",
       "Signif. codes:  0 '***' 0.001 '**' 0.01 '*' 0.05 '.' 0.1 ' ' 1\n",
       "\n",
       "Residual standard error: 0.298 on 9435 degrees of freedom\n",
       "  (1365 observations deleted due to missingness)\n",
       "Multiple R-squared:   0.31,\tAdjusted R-squared:  0.3093 \n",
       "F-statistic:   424 on 10 and 9435 DF,  p-value: < 2.2e-16\n"
      ]
     },
     "metadata": {}
    },
    {
     "output_type": "display_data",
     "data": {
      "text/plain": [
       "\n",
       "Call:\n",
       "lm(formula = lnpinc ~ postsecondary + seniorsecondary + juniorsecondary + \n",
       "    primary + y10 + y12 + y14 + Liaoning + Guangdong + Gansu + \n",
       "    Others, data = male_rural_reg)\n",
       "\n",
       "Residuals:\n",
       "     Min       1Q   Median       3Q      Max \n",
       "-1.45388 -0.16688  0.02253  0.20410  0.92736 \n",
       "\n",
       "Coefficients: (1 not defined because of singularities)\n",
       "                 Estimate Std. Error t value Pr(>|t|)    \n",
       "(Intercept)     -0.765908   0.024613 -31.118   <2e-16 ***\n",
       "postsecondary    0.252455   0.017680  14.279   <2e-16 ***\n",
       "seniorsecondary  0.194298   0.013003  14.942   <2e-16 ***\n",
       "juniorsecondary  0.174013   0.008654  20.107   <2e-16 ***\n",
       "primary          0.123057   0.008682  14.173   <2e-16 ***\n",
       "y10              0.392415   0.018202  21.560   <2e-16 ***\n",
       "y12              0.670530   0.019075  35.152   <2e-16 ***\n",
       "y14                    NA         NA      NA       NA    \n",
       "Liaoning        -0.221425   0.020377 -10.866   <2e-16 ***\n",
       "Guangdong       -0.174868   0.020311  -8.609   <2e-16 ***\n",
       "Gansu           -0.260720   0.018474 -14.113   <2e-16 ***\n",
       "Others          -0.191972   0.017079 -11.240   <2e-16 ***\n",
       "---\n",
       "Signif. codes:  0 '***' 0.001 '**' 0.01 '*' 0.05 '.' 0.1 ' ' 1\n",
       "\n",
       "Residual standard error: 0.3025 on 8579 degrees of freedom\n",
       "  (878 observations deleted due to missingness)\n",
       "Multiple R-squared:  0.3088,\tAdjusted R-squared:  0.308 \n",
       "F-statistic: 383.4 on 10 and 8579 DF,  p-value: < 2.2e-16\n"
      ]
     },
     "metadata": {}
    }
   ],
   "metadata": {}
  }
 ],
 "metadata": {
  "kernelspec": {
   "display_name": "R",
   "language": "R",
   "name": "ir"
  },
  "language_info": {
   "name": "R",
   "codemirror_mode": "r",
   "pygments_lexer": "r",
   "mimetype": "text/x-r-source",
   "file_extension": ".r",
   "version": "4.0.3"
  }
 },
 "nbformat": 4,
 "nbformat_minor": 2
}