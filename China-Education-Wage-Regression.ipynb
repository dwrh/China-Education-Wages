{
 "cells": [
  {
   "cell_type": "markdown",
   "metadata": {},
   "source": [
    "# Analysis for China wage vs. education data"
   ]
  },
  {
   "cell_type": "markdown",
   "metadata": {},
   "source": [
    "#### Since R cannot be ran on normal VS code, I had to install visual studio code insider for it!"
   ]
  },
  {
   "cell_type": "markdown",
   "metadata": {},
   "source": [
    "## Datasets used\n",
    "\n",
    "From Dropbox: China-Education-Wages -> Data -> CFPS Data 2010-2016\n",
    "\n",
    "Downloaded:\n",
    "- 2010 Egnlish -> ecfps2010adult_112014.dta     \n",
    "  - Renamed 2010adult.dta\n",
    "- 2012 Egnlish -> ecfps2012adultcombine…015.dta     \n",
    "  - Renamed 2012adult.dta\n",
    "- 2014 English -> ecfps2014adult_170630.dta     \n",
    "  - Renamed 2014adult.dta\n",
    "- Mincer16 -> Mincer16.csv \n",
    "\n",
    "All 4 datasets were put within one folder named $CFPSdata$ in the same layer as this jupyter notebook."
   ]
  },
  {
   "cell_type": "code",
   "execution_count": 1,
   "metadata": {},
   "outputs": [
    {
     "output_type": "stream",
     "name": "stderr",
     "text": [
      "\n",
      "Attaching package: 'dplyr'\n",
      "\n",
      "\n",
      "The following objects are masked from 'package:stats':\n",
      "\n",
      "    filter, lag\n",
      "\n",
      "\n",
      "The following objects are masked from 'package:base':\n",
      "\n",
      "    intersect, setdiff, setequal, union\n",
      "\n",
      "\n",
      "-- \u001b[1mAttaching packages\u001b[22m --------------------------------------- tidyverse 1.3.0 --\n",
      "\n",
      "\u001b[32mv\u001b[39m \u001b[34mggplot2\u001b[39m 3.3.2     \u001b[32mv\u001b[39m \u001b[34mpurrr  \u001b[39m 0.3.4\n",
      "\u001b[32mv\u001b[39m \u001b[34mtibble \u001b[39m 3.0.4     \u001b[32mv\u001b[39m \u001b[34mstringr\u001b[39m 1.4.0\n",
      "\u001b[32mv\u001b[39m \u001b[34mtidyr  \u001b[39m 1.1.2     \u001b[32mv\u001b[39m \u001b[34mforcats\u001b[39m 0.5.0\n",
      "\u001b[32mv\u001b[39m \u001b[34mreadr  \u001b[39m 1.4.0     \n",
      "\n",
      "-- \u001b[1mConflicts\u001b[22m ------------------------------------------ tidyverse_conflicts() --\n",
      "\u001b[31mx\u001b[39m \u001b[34mdplyr\u001b[39m::\u001b[32mfilter()\u001b[39m masks \u001b[34mstats\u001b[39m::filter()\n",
      "\u001b[31mx\u001b[39m \u001b[34mdplyr\u001b[39m::\u001b[32mlag()\u001b[39m    masks \u001b[34mstats\u001b[39m::lag()\n",
      "\n",
      "\n",
      "Please cite as: \n",
      "\n",
      "\n",
      " Hlavac, Marek (2018). stargazer: Well-Formatted Regression and Summary Statistics Tables.\n",
      "\n",
      " R package version 5.2.2. https://CRAN.R-project.org/package=stargazer \n",
      "\n",
      "\n",
      "\n",
      "Attaching package: 'lubridate'\n",
      "\n",
      "\n",
      "The following objects are masked from 'package:base':\n",
      "\n",
      "    date, intersect, setdiff, union\n",
      "\n",
      "\n"
     ]
    }
   ],
   "source": [
    "library(knitr)\n",
    "library(xtable)\n",
    "library(broom)\n",
    "library(dplyr)\n",
    "library(tidyverse)\n",
    "library(ggplot2)\n",
    "library(stargazer)\n",
    "library(lubridate)\n",
    "library(haven)"
   ]
  },
  {
   "cell_type": "markdown",
   "metadata": {},
   "source": [
    "## Manipulating data"
   ]
  },
  {
   "cell_type": "markdown",
   "metadata": {},
   "source": [
    "### Read Data"
   ]
  },
  {
   "cell_type": "code",
   "execution_count": 2,
   "metadata": {},
   "outputs": [],
   "source": [
    "data10 = read_dta(\"./CFPSdata/2010adult.dta\")\n",
    "data10 = filter(data10, !qc1 < 0)\n",
    "data12 = read_dta(\"./CFPSdata/2012adult.dta\")\n",
    "data12 = filter(data12, !sch2012 < 0)\n",
    "data14 = read_dta(\"./CFPSdata/2014adult.dta\")\n",
    "data14 = filter(data14, !pw1r < 0)\n",
    "data16 = read.csv(\"./CFPSdata/Mincer16.csv\")"
   ]
  },
  {
   "cell_type": "markdown",
   "metadata": {},
   "source": [
    "### Adding education and year dummies to the data, then combining them into one dataframe"
   ]
  },
  {
   "cell_type": "code",
   "execution_count": 4,
   "metadata": {},
   "outputs": [],
   "source": [
    "mincer10 = data.frame(\n",
    "  income = data10$income, \n",
    "  age = data10$qa1age,\n",
    "  gender = data10$gender,\n",
    "  urban = data10$urban,\n",
    "  prov = data10$provcd,\n",
    "  ethnic = data10$qa5code,\n",
    "  married = 0,\n",
    "  party = 0,\n",
    "  postsecondary = 0,\n",
    "  seniorsecondary = 0, \n",
    "  juniorsecondary = 0,\n",
    "  primary = 0, \n",
    "  illiterate = 0,\n",
    "  y10 = 1,\n",
    "  y12 = 0,\n",
    "  y14 = 0,\n",
    "  y16 = 0)\n",
    "\n",
    "for (row in 1:nrow(data10)) {\n",
    "  marriage = data10[row, \"qe1\"]\n",
    "  if (marriage == 2) {\n",
    "    mincer10[row, \"married\"] = 1\n",
    "  }\n",
    "  party = data10[row, \"qa7_s_1\"]\n",
    "  if (party == 1) {\n",
    "    mincer10[row, \"party\"] = 1\n",
    "  }\n",
    "  edu = data10[row, \"qc1\"]\n",
    "  if (edu == 1) {\n",
    "    mincer10[row, \"illiterate\"] = 1\n",
    "  } else if (edu == 2) {\n",
    "    mincer10[row, \"primary\"] = 1\n",
    "  } else if (edu == 3) {\n",
    "    mincer10[row, \"juniorsecondary\"] = 1\n",
    "  } else if (edu == 4) {\n",
    "    mincer10[row, \"seniorsecondary\"] = 1\n",
    "  } else if (edu > 4) {\n",
    "    mincer10[row, \"postsecondary\"] = 1\n",
    "  }\n",
    "}\n",
    "mincer10 = filter(mincer10, !is.na(income))\n",
    "\n",
    "mincer10_urban = filter(mincer10, urban == 1)\n",
    "mincer10_rural = filter(mincer10, urban == 0)\n",
    "mincer10_female_urban = filter(mincer10_urban, gender == 1)\n",
    "mincer10_female_rural = filter(mincer10_rural, gender == 1)\n",
    "mincer10_male_urban = filter(mincer10_urban, gender == 0)\n",
    "mincer10_male_rural = filter(mincer10_rural, gender == 0)\n",
    "\n",
    "mincer10$rinc = mincer10$income / mean(mincer10$income)\n",
    "\n",
    "mincer10_urban$rinc = mincer10_urban$income / mean(mincer10_urban$income)\n",
    "mincer10_rural$rinc = mincer10_rural$income / mean(mincer10_rural$income)\n",
    "mincer10_female_urban$rinc = mincer10_female_urban$income / mean(mincer10_female_urban$income)\n",
    "mincer10_female_rural$rinc = mincer10_female_rural$income / mean(mincer10_female_rural$income)\n",
    "mincer10_male_urban$rinc = mincer10_male_urban$income / mean(mincer10_male_urban$income)\n",
    "mincer10_male_rural$rinc = mincer10_male_rural$income / mean(mincer10_male_rural$income)"
   ]
  },
  {
   "cell_type": "code",
   "execution_count": 5,
   "metadata": {},
   "outputs": [],
   "source": [
    "mincer12 = data.frame(\n",
    "  income = data12$income, \n",
    "  age = data12$cfps2012_age,\n",
    "  gender = data12$cfps2012_gender,\n",
    "  urban = data12$urban12,\n",
    "  prov = data12$provcd,\n",
    "  ethnic = data12$qa701code,\n",
    "  married = 0,\n",
    "  party = data12$sn401,\n",
    "  postsecondary = 0,\n",
    "  seniorsecondary = 0, \n",
    "  juniorsecondary = 0,\n",
    "  primary = 0, \n",
    "  illiterate = 0,\n",
    "  y10 = 0,\n",
    "  y12 = 1,\n",
    "  y14 = 0,\n",
    "  y16 = 0)\n",
    "\n",
    "for (row in 1:nrow(data12)) {\n",
    "  marriage = data12[row, \"qe104\"]\n",
    "  if (marriage == 2) {\n",
    "    mincer12[row, \"married\"] = 1\n",
    "  }\n",
    "  edu = data12[row, \"sch2012\"]\n",
    "  if (edu == 1) {\n",
    "    mincer12[row, \"illiterate\"] = 1\n",
    "  } else if (edu == 2) {\n",
    "    mincer12[row, \"primary\"] = 1\n",
    "  } else if (edu == 3) {\n",
    "    mincer12[row, \"juniorsecondary\"] = 1\n",
    "  } else if (edu == 4) {\n",
    "    mincer12[row, \"seniorsecondary\"] = 1\n",
    "  } else if (edu > 4) {\n",
    "    mincer12[row, \"postsecondary\"] = 1\n",
    "  }\n",
    "}\n",
    "mincer12 = filter(mincer12, !is.na(income))\n",
    "\n",
    "mincer12_urban = filter(mincer12, urban == 1)\n",
    "mincer12_rural = filter(mincer12, urban == 0)\n",
    "mincer12_female_urban = filter(mincer12_urban, gender == 1)\n",
    "mincer12_female_rural = filter(mincer12_rural, gender == 1)\n",
    "mincer12_male_urban = filter(mincer12_urban, gender == 0)\n",
    "mincer12_male_rural = filter(mincer12_rural, gender == 0)\n",
    "\n",
    "mincer12$rinc = mincer12$income / mean(mincer12$income)\n",
    "\n",
    "mincer12_urban$rinc = mincer12_urban$income / mean(mincer12_urban$income)\n",
    "mincer12_rural$rinc = mincer12_rural$income / mean(mincer12_rural$income)\n",
    "mincer12_female_urban$rinc = mincer12_female_urban$income / mean(mincer12_female_urban$income)\n",
    "mincer12_female_rural$rinc = mincer12_female_rural$income / mean(mincer12_female_rural$income)\n",
    "mincer12_male_urban$rinc = mincer12_male_urban$income / mean(mincer12_male_urban$income)\n",
    "mincer12_male_rural$rinc = mincer12_male_rural$income / mean(mincer12_male_rural$income)"
   ]
  },
  {
   "cell_type": "code",
   "execution_count": 6,
   "metadata": {},
   "outputs": [],
   "source": [
    "mincer14 = data.frame(\n",
    "  income = data14$p_income, \n",
    "  age = data14$cfps2014_age,\n",
    "  gender = data14$cfps_gender,\n",
    "  urban = data14$urban14,\n",
    "  prov = data14$provcd14,\n",
    "  ethnic = data14$cfps_minzu,\n",
    "  married = 0,\n",
    "  party = data14$pn401a,\n",
    "  postsecondary = 0,\n",
    "  seniorsecondary = 0, \n",
    "  juniorsecondary = 0,\n",
    "  primary = 0, \n",
    "  illiterate = 0,\n",
    "  y10 = 0,\n",
    "  y12 = 0,\n",
    "  y14 = 1,\n",
    "  y16 = 0)\n",
    "\n",
    "for (row in 1:nrow(data14)) {\n",
    "  marriage = data14[row, \"qea0\"]\n",
    "  if (marriage == 2) {\n",
    "    mincer14[row, \"married\"] = 1\n",
    "  }\n",
    "  edu = data14[row, \"pw1r\"]\n",
    "  if (edu == 1) {\n",
    "    mincer14[row, \"illiterate\"] = 1\n",
    "  } else if (edu == 2) {\n",
    "    mincer14[row, \"primary\"] = 1\n",
    "  } else if (edu == 3) {\n",
    "    mincer14[row, \"juniorsecondary\"] = 1\n",
    "  } else if (edu == 4) {\n",
    "    mincer14[row, \"seniorsecondary\"] = 1\n",
    "  } else if (edu > 4) {\n",
    "    mincer14[row, \"postsecondary\"] = 1\n",
    "  }\n",
    "}\n",
    "mincer14 = filter(mincer14, !is.na(income))\n",
    "\n",
    "mincer14_urban = filter(mincer14, urban == 1)\n",
    "mincer14_rural = filter(mincer14, urban == 0)\n",
    "mincer14_female_urban = filter(mincer14_urban, gender == 1)\n",
    "mincer14_female_rural = filter(mincer14_rural, gender == 1)\n",
    "mincer14_male_urban = filter(mincer14_urban, gender == 0)\n",
    "mincer14_male_rural = filter(mincer14_rural, gender == 0)\n",
    "\n",
    "mincer14$rinc = mincer14$income / mean(mincer14$income)\n",
    "\n",
    "mincer14_urban$rinc = mincer14_urban$income / mean(mincer14_urban$income)\n",
    "mincer14_rural$rinc = mincer14_rural$income / mean(mincer14_rural$income)\n",
    "mincer14_female_urban$rinc = mincer14_female_urban$income / mean(mincer14_female_urban$income)\n",
    "mincer14_female_rural$rinc = mincer14_female_rural$income / mean(mincer14_female_rural$income)\n",
    "mincer14_male_urban$rinc = mincer14_male_urban$income / mean(mincer14_male_urban$income)\n",
    "mincer14_male_rural$rinc = mincer14_male_rural$income / mean(mincer14_male_rural$income)"
   ]
  },
  {
   "cell_type": "code",
   "execution_count": 7,
   "metadata": {},
   "outputs": [],
   "source": [
    "mincer16 = data.frame(\n",
    "  income = data16$income, \n",
    "  age = data16$age,\n",
    "  gender = data16$gender,\n",
    "  urban = data16$urban16,\n",
    "  prov = data16$provcd16,\n",
    "  ethnic = data16$ethnic,\n",
    "  married = data16$married,\n",
    "  party = data16$party,\n",
    "  postsecondary = data16$postsecondary,\n",
    "  seniorsecondary = data16$seniorsecondary, \n",
    "  juniorsecondary = data16$juniorsecondary, \n",
    "  primary = data16$primary, \n",
    "  illiterate = data16$illiterate,\n",
    "  y10 = 0,\n",
    "  y12 = 0,\n",
    "  y14 = 0,\n",
    "  y16 = 1)\n",
    "mincer16 = filter(mincer16, !is.na(income))\n",
    "\n",
    "mincer16_urban = filter(mincer16, urban == 1)\n",
    "mincer16_rural = filter(mincer16, urban == 0)\n",
    "mincer16_female_urban = filter(mincer16_urban, gender == 1)\n",
    "mincer16_female_rural = filter(mincer16_rural, gender == 1)\n",
    "mincer16_male_urban = filter(mincer16_urban, gender == 0)\n",
    "mincer16_male_rural = filter(mincer16_rural, gender == 0)\n",
    "\n",
    "mincer16$rinc = mincer16$income / mean(mincer16$income)\n",
    "\n",
    "mincer16_urban$rinc = mincer16_urban$income / mean(mincer16_urban$income)\n",
    "mincer16_rural$rinc = mincer16_rural$income / mean(mincer16_rural$income)\n",
    "mincer16_female_urban$rinc = mincer16_female_urban$income / mean(mincer16_female_urban$income)\n",
    "mincer16_female_rural$rinc = mincer16_female_rural$income / mean(mincer16_female_rural$income)\n",
    "mincer16_male_urban$rinc = mincer16_male_urban$income / mean(mincer16_male_urban$income)\n",
    "mincer16_male_rural$rinc = mincer16_male_rural$income / mean(mincer16_male_rural$income)"
   ]
  },
  {
   "cell_type": "code",
   "execution_count": 8,
   "metadata": {},
   "outputs": [
    {
     "output_type": "stream",
     "name": "stderr",
     "text": [
      "Joining, by = c(\"income\", \"age\", \"gender\", \"urban\", \"prov\", \"ethnic\", \"married\", \"party\", \"postsecondary\", \"seniorsecondary\", \"juniorsecondary\", \"primary\", \"illiterate\", \"y10\", \"y12\", \"y14\", \"y16\", \"rinc\")\n",
      "\n",
      "Joining, by = c(\"income\", \"age\", \"gender\", \"urban\", \"prov\", \"ethnic\", \"married\", \"party\", \"postsecondary\", \"seniorsecondary\", \"juniorsecondary\", \"primary\", \"illiterate\", \"y10\", \"y12\", \"y14\", \"y16\", \"rinc\")\n",
      "\n",
      "Joining, by = c(\"income\", \"age\", \"gender\", \"urban\", \"prov\", \"ethnic\", \"married\", \"party\", \"postsecondary\", \"seniorsecondary\", \"juniorsecondary\", \"primary\", \"illiterate\", \"y10\", \"y12\", \"y14\", \"y16\", \"rinc\")\n",
      "\n",
      "Warning message in .fn(vec_data(.x), ...):\n",
      "\"NaNs produced\"\n",
      "Warning message in log(combined$rinc):\n",
      "\"NaNs produced\"\n",
      "Joining, by = c(\"income\", \"age\", \"gender\", \"urban\", \"prov\", \"ethnic\", \"married\", \"party\", \"postsecondary\", \"seniorsecondary\", \"juniorsecondary\", \"primary\", \"illiterate\", \"y10\", \"y12\", \"y14\", \"y16\", \"rinc\")\n",
      "\n",
      "Joining, by = c(\"income\", \"age\", \"gender\", \"urban\", \"prov\", \"ethnic\", \"married\", \"party\", \"postsecondary\", \"seniorsecondary\", \"juniorsecondary\", \"primary\", \"illiterate\", \"y10\", \"y12\", \"y14\", \"y16\", \"rinc\")\n",
      "\n",
      "Joining, by = c(\"income\", \"age\", \"gender\", \"urban\", \"prov\", \"ethnic\", \"married\", \"party\", \"postsecondary\", \"seniorsecondary\", \"juniorsecondary\", \"primary\", \"illiterate\", \"y10\", \"y12\", \"y14\", \"y16\", \"rinc\")\n",
      "\n",
      "Warning message in .fn(vec_data(.x), ...):\n",
      "\"NaNs produced\"\n",
      "Warning message in log(urban$rinc):\n",
      "\"NaNs produced\"\n",
      "Joining, by = c(\"income\", \"age\", \"gender\", \"urban\", \"prov\", \"ethnic\", \"married\", \"party\", \"postsecondary\", \"seniorsecondary\", \"juniorsecondary\", \"primary\", \"illiterate\", \"y10\", \"y12\", \"y14\", \"y16\", \"rinc\")\n",
      "\n",
      "Joining, by = c(\"income\", \"age\", \"gender\", \"urban\", \"prov\", \"ethnic\", \"married\", \"party\", \"postsecondary\", \"seniorsecondary\", \"juniorsecondary\", \"primary\", \"illiterate\", \"y10\", \"y12\", \"y14\", \"y16\", \"rinc\")\n",
      "\n",
      "Joining, by = c(\"income\", \"age\", \"gender\", \"urban\", \"prov\", \"ethnic\", \"married\", \"party\", \"postsecondary\", \"seniorsecondary\", \"juniorsecondary\", \"primary\", \"illiterate\", \"y10\", \"y12\", \"y14\", \"y16\", \"rinc\")\n",
      "\n",
      "Warning message in .fn(vec_data(.x), ...):\n",
      "\"NaNs produced\"\n",
      "Warning message in log(rural$rinc):\n",
      "\"NaNs produced\"\n",
      "Joining, by = c(\"income\", \"age\", \"gender\", \"urban\", \"prov\", \"ethnic\", \"married\", \"party\", \"postsecondary\", \"seniorsecondary\", \"juniorsecondary\", \"primary\", \"illiterate\", \"y10\", \"y12\", \"y14\", \"y16\", \"rinc\")\n",
      "\n",
      "Joining, by = c(\"income\", \"age\", \"gender\", \"urban\", \"prov\", \"ethnic\", \"married\", \"party\", \"postsecondary\", \"seniorsecondary\", \"juniorsecondary\", \"primary\", \"illiterate\", \"y10\", \"y12\", \"y14\", \"y16\", \"rinc\")\n",
      "\n",
      "Joining, by = c(\"income\", \"age\", \"gender\", \"urban\", \"prov\", \"ethnic\", \"married\", \"party\", \"postsecondary\", \"seniorsecondary\", \"juniorsecondary\", \"primary\", \"illiterate\", \"y10\", \"y12\", \"y14\", \"y16\", \"rinc\")\n",
      "\n",
      "Warning message in .fn(vec_data(.x), ...):\n",
      "\"NaNs produced\"\n",
      "Warning message in log(female_urban$rinc):\n",
      "\"NaNs produced\"\n",
      "Joining, by = c(\"income\", \"age\", \"gender\", \"urban\", \"prov\", \"ethnic\", \"married\", \"party\", \"postsecondary\", \"seniorsecondary\", \"juniorsecondary\", \"primary\", \"illiterate\", \"y10\", \"y12\", \"y14\", \"y16\", \"rinc\")\n",
      "\n",
      "Joining, by = c(\"income\", \"age\", \"gender\", \"urban\", \"prov\", \"ethnic\", \"married\", \"party\", \"postsecondary\", \"seniorsecondary\", \"juniorsecondary\", \"primary\", \"illiterate\", \"y10\", \"y12\", \"y14\", \"y16\", \"rinc\")\n",
      "\n",
      "Joining, by = c(\"income\", \"age\", \"gender\", \"urban\", \"prov\", \"ethnic\", \"married\", \"party\", \"postsecondary\", \"seniorsecondary\", \"juniorsecondary\", \"primary\", \"illiterate\", \"y10\", \"y12\", \"y14\", \"y16\", \"rinc\")\n",
      "\n",
      "Warning message in .fn(vec_data(.x), ...):\n",
      "\"NaNs produced\"\n",
      "Warning message in log(female_rural$rinc):\n",
      "\"NaNs produced\"\n",
      "Joining, by = c(\"income\", \"age\", \"gender\", \"urban\", \"prov\", \"ethnic\", \"married\", \"party\", \"postsecondary\", \"seniorsecondary\", \"juniorsecondary\", \"primary\", \"illiterate\", \"y10\", \"y12\", \"y14\", \"y16\", \"rinc\")\n",
      "\n",
      "Joining, by = c(\"income\", \"age\", \"gender\", \"urban\", \"prov\", \"ethnic\", \"married\", \"party\", \"postsecondary\", \"seniorsecondary\", \"juniorsecondary\", \"primary\", \"illiterate\", \"y10\", \"y12\", \"y14\", \"y16\", \"rinc\")\n",
      "\n",
      "Joining, by = c(\"income\", \"age\", \"gender\", \"urban\", \"prov\", \"ethnic\", \"married\", \"party\", \"postsecondary\", \"seniorsecondary\", \"juniorsecondary\", \"primary\", \"illiterate\", \"y10\", \"y12\", \"y14\", \"y16\", \"rinc\")\n",
      "\n",
      "Warning message in .fn(vec_data(.x), ...):\n",
      "\"NaNs produced\"\n",
      "Warning message in log(male_urban$rinc):\n",
      "\"NaNs produced\"\n",
      "Joining, by = c(\"income\", \"age\", \"gender\", \"urban\", \"prov\", \"ethnic\", \"married\", \"party\", \"postsecondary\", \"seniorsecondary\", \"juniorsecondary\", \"primary\", \"illiterate\", \"y10\", \"y12\", \"y14\", \"y16\", \"rinc\")\n",
      "\n",
      "Joining, by = c(\"income\", \"age\", \"gender\", \"urban\", \"prov\", \"ethnic\", \"married\", \"party\", \"postsecondary\", \"seniorsecondary\", \"juniorsecondary\", \"primary\", \"illiterate\", \"y10\", \"y12\", \"y14\", \"y16\", \"rinc\")\n",
      "\n",
      "Joining, by = c(\"income\", \"age\", \"gender\", \"urban\", \"prov\", \"ethnic\", \"married\", \"party\", \"postsecondary\", \"seniorsecondary\", \"juniorsecondary\", \"primary\", \"illiterate\", \"y10\", \"y12\", \"y14\", \"y16\", \"rinc\")\n",
      "\n",
      "Warning message in .fn(vec_data(.x), ...):\n",
      "\"NaNs produced\"\n",
      "Warning message in log(male_rural$rinc):\n",
      "\"NaNs produced\"\n"
     ]
    }
   ],
   "source": [
    "combined = full_join(mincer10, full_join(mincer12, full_join(mincer14, mincer16)))\n",
    "combined$lninc = log(combined$income)\n",
    "combined$lnrinc = log(combined$rinc)\n",
    "\n",
    "urban = full_join(mincer10_urban, full_join(mincer12_urban, full_join(mincer14_urban, mincer16_urban)))\n",
    "urban$lninc = log(urban$income)\n",
    "urban$lnrinc = log(urban$rinc)\n",
    "\n",
    "\n",
    "rural = full_join(mincer10_rural, full_join(mincer12_rural, full_join(mincer14_rural, mincer16_rural)))\n",
    "rural$lninc = log(rural$income)\n",
    "rural$lnrinc = log(rural$rinc)\n",
    "\n",
    "\n",
    "female_urban = full_join(mincer10_female_urban, full_join(mincer12_female_urban, full_join(mincer14_female_urban, mincer16_female_urban)))\n",
    "female_urban$lninc = log(female_urban$income)\n",
    "female_urban$lnrinc = log(female_urban$rinc)\n",
    "\n",
    "\n",
    "female_rural = full_join(mincer10_female_rural, full_join(mincer12_female_rural, full_join(mincer14_female_rural, mincer16_female_rural)))\n",
    "female_rural$lninc = log(female_rural$income)\n",
    "female_rural$lnrinc = log(female_rural$rinc)\n",
    "\n",
    "\n",
    "male_urban = full_join(mincer10_male_urban, full_join(mincer12_male_urban, full_join(mincer14_male_urban, mincer16_male_urban)))\n",
    "male_urban$lninc = log(male_urban$income)\n",
    "male_urban$lnrinc = log(male_urban$rinc)\n",
    "\n",
    "male_rural = full_join(mincer10_male_rural, full_join(mincer12_male_rural, full_join(mincer14_male_rural, mincer16_male_rural)))\n",
    "male_rural$lninc = log(male_rural$income)\n",
    "male_rural$lnrinc = log(male_rural$rinc)"
   ]
  },
  {
   "cell_type": "markdown",
   "metadata": {},
   "source": [
    "Calculating pinc for combined"
   ]
  },
  {
   "cell_type": "code",
   "execution_count": 9,
   "metadata": {},
   "outputs": [],
   "source": [
    "categorize <- \n",
    "  combined %>%\n",
    "  group_by(rinc) %>%\n",
    "  tally()\n",
    "categorize = categorize[order(categorize$rinc), ]\n",
    "key = categorize$rinc\n",
    "pinc = c()\n",
    "sum_so_far = 0\n",
    "total = nrow(combined)\n",
    "categorize$pinc = 0\n",
    "for (row in 1:nrow(categorize)) {\n",
    "  sum_so_far = sum_so_far + categorize[row, 'n']\n",
    "  categorize[row, 'pinc'] = (sum_so_far - (0.5 * categorize[row, 'n'])) / total\n",
    "}\n",
    "ordered_combined = combined[order(combined$rinc), ]\n",
    "ordered_combined$pinc = 0\n",
    "current_rinc = 0\n",
    "current_pinc = 0\n",
    "current_row = 0\n",
    "for (row in 1:nrow(ordered_combined)) {\n",
    "  rinc = ordered_combined[row, 'rinc']\n",
    "  if (rinc != current_rinc) {\n",
    "    current_row = current_row + 1\n",
    "    current_rinc = rinc\n",
    "    current_pinc = categorize[current_row, 'pinc']\n",
    "  }\n",
    "  ordered_combined[row, 'pinc'] = current_pinc\n",
    "}\n",
    "combined = ordered_combined\n",
    "combined$lnpinc = log(combined$pinc)"
   ]
  },
  {
   "cell_type": "markdown",
   "metadata": {},
   "source": [
    "Calculating pinc for urban and rural subsamples"
   ]
  },
  {
   "cell_type": "code",
   "execution_count": 10,
   "metadata": {},
   "outputs": [],
   "source": [
    "categorize <- \n",
    "  urban %>%\n",
    "  group_by(rinc) %>%\n",
    "  tally()\n",
    "categorize = categorize[order(categorize$rinc), ]\n",
    "key = categorize$rinc\n",
    "pinc = c()\n",
    "sum_so_far = 0\n",
    "total = nrow(urban)\n",
    "categorize$pinc = 0\n",
    "for (row in 1:nrow(categorize)) {\n",
    "  sum_so_far = sum_so_far + categorize[row, 'n']\n",
    "  categorize[row, 'pinc'] = (sum_so_far - (0.5 * categorize[row, 'n'])) / total\n",
    "}\n",
    "ordered_urban = urban[order(urban$rinc), ]\n",
    "ordered_urban$pinc = 0\n",
    "current_rinc = 0\n",
    "current_pinc = 0\n",
    "current_row = 0\n",
    "for (row in 1:nrow(ordered_urban)) {\n",
    "  rinc = ordered_urban[row, 'rinc']\n",
    "  if (rinc != current_rinc) {\n",
    "    current_row = current_row + 1\n",
    "    current_rinc = rinc\n",
    "    current_pinc = categorize[current_row, 'pinc']\n",
    "  }\n",
    "  ordered_urban[row, 'pinc'] = current_pinc\n",
    "}\n",
    "urban = ordered_urban\n",
    "urban$lnpinc = log(urban$pinc)\n",
    "\n",
    "\n",
    "\n",
    "categorize <- \n",
    "  rural %>%\n",
    "  group_by(rinc) %>%\n",
    "  tally()\n",
    "categorize = categorize[order(categorize$rinc), ]\n",
    "key = categorize$rinc\n",
    "pinc = c()\n",
    "sum_so_far = 0\n",
    "total = nrow(rural)\n",
    "categorize$pinc = 0\n",
    "for (row in 1:nrow(categorize)) {\n",
    "  sum_so_far = sum_so_far + categorize[row, 'n']\n",
    "  categorize[row, 'pinc'] = (sum_so_far - (0.5 * categorize[row, 'n'])) / total\n",
    "}\n",
    "ordered_rural = rural[order(rural$rinc), ]\n",
    "ordered_rural$pinc = 0\n",
    "current_rinc = 0\n",
    "current_pinc = 0\n",
    "current_row = 0\n",
    "for (row in 1:nrow(ordered_rural)) {\n",
    "  rinc = ordered_rural[row, 'rinc']\n",
    "  if (rinc != current_rinc) {\n",
    "    current_row = current_row + 1\n",
    "    current_rinc = rinc\n",
    "    current_pinc = categorize[current_row, 'pinc']\n",
    "  }\n",
    "  ordered_rural[row, 'pinc'] = current_pinc\n",
    "}\n",
    "rural = ordered_rural\n",
    "rural$lnpinc = log(rural$pinc)"
   ]
  },
  {
   "cell_type": "markdown",
   "metadata": {},
   "source": [
    "Calculating pinc for female urban and rural subsamples"
   ]
  },
  {
   "cell_type": "code",
   "execution_count": 11,
   "metadata": {},
   "outputs": [],
   "source": [
    "categorize <- \n",
    "  female_urban %>%\n",
    "  group_by(rinc) %>%\n",
    "  tally()\n",
    "categorize = categorize[order(categorize$rinc), ]\n",
    "key = categorize$rinc\n",
    "pinc = c()\n",
    "sum_so_far = 0\n",
    "total = nrow(female_urban)\n",
    "categorize$pinc = 0\n",
    "for (row in 1:nrow(categorize)) {\n",
    "  sum_so_far = sum_so_far + categorize[row, 'n']\n",
    "  categorize[row, 'pinc'] = (sum_so_far - (0.5 * categorize[row, 'n'])) / total\n",
    "}\n",
    "ordered_female_urban = female_urban[order(female_urban$rinc), ]\n",
    "ordered_female_urban$pinc = 0\n",
    "current_rinc = 0\n",
    "current_pinc = 0\n",
    "current_row = 0\n",
    "for (row in 1:nrow(ordered_female_urban)) {\n",
    "  rinc = ordered_female_urban[row, 'rinc']\n",
    "  if (rinc != current_rinc) {\n",
    "    current_row = current_row + 1\n",
    "    current_rinc = rinc\n",
    "    current_pinc = categorize[current_row, 'pinc']\n",
    "  }\n",
    "  ordered_female_urban[row, 'pinc'] = current_pinc\n",
    "}\n",
    "female_urban = ordered_female_urban\n",
    "female_urban$lnpinc = log(female_urban$pinc)\n",
    "\n",
    "\n",
    "\n",
    "categorize <- \n",
    "  female_rural %>%\n",
    "  group_by(rinc) %>%\n",
    "  tally()\n",
    "categorize = categorize[order(categorize$rinc), ]\n",
    "key = categorize$rinc\n",
    "pinc = c()\n",
    "sum_so_far = 0\n",
    "total = nrow(female_rural)\n",
    "categorize$pinc = 0\n",
    "for (row in 1:nrow(categorize)) {\n",
    "  sum_so_far = sum_so_far + categorize[row, 'n']\n",
    "  categorize[row, 'pinc'] = (sum_so_far - (0.5 * categorize[row, 'n'])) / total\n",
    "}\n",
    "ordered_female_rural = female_rural[order(female_rural$rinc), ]\n",
    "ordered_rural$pinc = 0\n",
    "current_rinc = 0\n",
    "current_pinc = 0\n",
    "current_row = 0\n",
    "for (row in 1:nrow(ordered_female_rural)) {\n",
    "  rinc = ordered_female_rural[row, 'rinc']\n",
    "  if (rinc != current_rinc) {\n",
    "    current_row = current_row + 1\n",
    "    current_rinc = rinc\n",
    "    current_pinc = categorize[current_row, 'pinc']\n",
    "  }\n",
    "  ordered_female_rural[row, 'pinc'] = current_pinc\n",
    "}\n",
    "female_rural = ordered_female_rural\n",
    "female_rural$lnpinc = log(female_rural$pinc)"
   ]
  },
  {
   "cell_type": "markdown",
   "metadata": {},
   "source": [
    "Calculating pinc for male urban and rural subsamples"
   ]
  },
  {
   "cell_type": "code",
   "execution_count": 12,
   "metadata": {},
   "outputs": [],
   "source": [
    "categorize <- \n",
    "  male_urban %>%\n",
    "  group_by(rinc) %>%\n",
    "  tally()\n",
    "categorize = categorize[order(categorize$rinc), ]\n",
    "key = categorize$rinc\n",
    "pinc = c()\n",
    "sum_so_far = 0\n",
    "total = nrow(male_urban)\n",
    "categorize$pinc = 0\n",
    "for (row in 1:nrow(categorize)) {\n",
    "  sum_so_far = sum_so_far + categorize[row, 'n']\n",
    "  categorize[row, 'pinc'] = (sum_so_far - (0.5 * categorize[row, 'n'])) / total\n",
    "}\n",
    "ordered_male_urban = male_urban[order(male_urban$rinc), ]\n",
    "ordered_male_urban$pinc = 0\n",
    "current_rinc = 0\n",
    "current_pinc = 0\n",
    "current_row = 0\n",
    "for (row in 1:nrow(ordered_male_urban)) {\n",
    "  rinc = ordered_male_urban[row, 'rinc']\n",
    "  if (rinc != current_rinc) {\n",
    "    current_row = current_row + 1\n",
    "    current_rinc = rinc\n",
    "    current_pinc = categorize[current_row, 'pinc']\n",
    "  }\n",
    "  ordered_male_urban[row, 'pinc'] = current_pinc\n",
    "}\n",
    "male_urban = ordered_male_urban\n",
    "male_urban$lnpinc = log(male_urban$pinc)\n",
    "\n",
    "\n",
    "\n",
    "categorize <- \n",
    "  male_rural %>%\n",
    "  group_by(rinc) %>%\n",
    "  tally()\n",
    "categorize = categorize[order(categorize$rinc), ]\n",
    "key = categorize$rinc\n",
    "pinc = c()\n",
    "sum_so_far = 0\n",
    "total = nrow(male_rural)\n",
    "categorize$pinc = 0\n",
    "for (row in 1:nrow(categorize)) {\n",
    "  sum_so_far = sum_so_far + categorize[row, 'n']\n",
    "  categorize[row, 'pinc'] = (sum_so_far - (0.5 * categorize[row, 'n'])) / total\n",
    "}\n",
    "ordered_male_rural = male_rural[order(male_rural$rinc), ]\n",
    "ordered_male_rural$pinc = 0\n",
    "current_rinc = 0\n",
    "current_pinc = 0\n",
    "current_row = 0\n",
    "for (row in 1:nrow(ordered_male_rural)) {\n",
    "  rinc = ordered_male_rural[row, 'rinc']\n",
    "  if (rinc != current_rinc) {\n",
    "    current_row = current_row + 1\n",
    "    current_rinc = rinc\n",
    "    current_pinc = categorize[current_row, 'pinc']\n",
    "  }\n",
    "  ordered_male_rural[row, 'pinc'] = current_pinc\n",
    "}\n",
    "male_rural = ordered_male_rural\n",
    "male_rural$lnpinc = log(male_rural$pinc)\n"
   ]
  },
  {
   "cell_type": "code",
   "execution_count": 10,
   "metadata": {},
   "outputs": [],
   "source": []
  },
  {
   "cell_type": "markdown",
   "metadata": {},
   "source": [
    "## Running the regressions for lninc, rinc, lnrinc, pinc, and lnpinc on combined data, and urban and rural subsamples. Does not contain married or party variables"
   ]
  },
  {
   "cell_type": "markdown",
   "metadata": {},
   "source": [
    "### Regression for lninc"
   ]
  },
  {
   "cell_type": "code",
   "execution_count": 13,
   "metadata": {},
   "outputs": [
    {
     "output_type": "display_data",
     "data": {
      "text/plain": "\nCall:\nlm(formula = lninc ~ postsecondary + seniorsecondary + juniorsecondary + \n    primary + gender + urban + y10 + y12 + y14, data = lnincReg)\n\nResiduals:\n     Min       1Q   Median       3Q      Max \n-10.5493  -0.5264   0.2281   0.8410   5.3336 \n\nCoefficients:\n                 Estimate Std. Error t value Pr(>|t|)    \n(Intercept)      8.797265   0.024534 358.578  < 2e-16 ***\npostsecondary    1.732932   0.024212  71.574  < 2e-16 ***\nseniorsecondary  1.265809   0.021949  57.670  < 2e-16 ***\njuniorsecondary  1.050874   0.018734  56.093  < 2e-16 ***\nprimary          0.618875   0.020639  29.985  < 2e-16 ***\ngender           0.283885   0.009443  30.064  < 2e-16 ***\nurban            0.019081   0.005930   3.217  0.00129 ** \ny10             -1.089056   0.021248 -51.255  < 2e-16 ***\ny12             -0.446978   0.022283 -20.059  < 2e-16 ***\ny14             -1.361638   0.054684 -24.900  < 2e-16 ***\n---\nSignif. codes:  0 '***' 0.001 '**' 0.01 '*' 0.05 '.' 0.1 ' ' 1\n\nResidual standard error: 1.383 on 46144 degrees of freedom\n  (1869 observations deleted due to missingness)\nMultiple R-squared:  0.2391,\tAdjusted R-squared:  0.239 \nF-statistic:  1611 on 9 and 46144 DF,  p-value: < 2.2e-16\n"
     },
     "metadata": {}
    },
    {
     "output_type": "display_data",
     "data": {
      "text/plain": "\nCall:\nlm(formula = lninc ~ postsecondary + seniorsecondary + juniorsecondary + \n    primary + gender + y10 + y12 + y14, data = urban_reg)\n\nResiduals:\n     Min       1Q   Median       3Q      Max \n-10.4944  -0.3971   0.1990   0.6733   4.4564 \n\nCoefficients:\n                Estimate Std. Error t value Pr(>|t|)    \n(Intercept)      8.99563    0.03223  279.08   <2e-16 ***\npostsecondary    1.49882    0.02997   50.02   <2e-16 ***\nseniorsecondary  1.05557    0.02905   36.33   <2e-16 ***\njuniorsecondary  0.88624    0.02711   32.70   <2e-16 ***\nprimary          0.55341    0.03122   17.73   <2e-16 ***\ngender           0.24503    0.01227   19.96   <2e-16 ***\ny10             -0.80633    0.02533  -31.84   <2e-16 ***\ny12             -0.26977    0.02643  -10.21   <2e-16 ***\ny14             -1.71081    0.07923  -21.59   <2e-16 ***\n---\nSignif. codes:  0 '***' 0.001 '**' 0.01 '*' 0.05 '.' 0.1 ' ' 1\n\nResidual standard error: 1.242 on 23150 degrees of freedom\n  (873 observations deleted due to missingness)\nMultiple R-squared:  0.1986,\tAdjusted R-squared:  0.1983 \nF-statistic: 717.1 on 8 and 23150 DF,  p-value: < 2.2e-16\n"
     },
     "metadata": {}
    },
    {
     "output_type": "display_data",
     "data": {
      "text/plain": "\nCall:\nlm(formula = lninc ~ postsecondary + seniorsecondary + juniorsecondary + \n    primary + gender + y10 + y12 + y14, data = rural_reg)\n\nResiduals:\n    Min      1Q  Median      3Q     Max \n-9.8980 -0.6364  0.2286  0.8992  5.5796 \n\nCoefficients:\n                Estimate Std. Error t value Pr(>|t|)    \n(Intercept)      8.85449    0.03690  239.93   <2e-16 ***\npostsecondary    1.33277    0.05009   26.61   <2e-16 ***\nseniorsecondary  1.04356    0.03552   29.38   <2e-16 ***\njuniorsecondary  0.94789    0.02609   36.33   <2e-16 ***\nprimary          0.56980    0.02716   20.98   <2e-16 ***\ngender           0.38078    0.01434   26.55   <2e-16 ***\ny10             -1.40198    0.03401  -41.23   <2e-16 ***\ny12             -0.66265    0.03585  -18.48   <2e-16 ***\ny14             -2.65111    0.09400  -28.20   <2e-16 ***\n---\nSignif. codes:  0 '***' 0.001 '**' 0.01 '*' 0.05 '.' 0.1 ' ' 1\n\nResidual standard error: 1.448 on 22284 degrees of freedom\n  (985 observations deleted due to missingness)\nMultiple R-squared:  0.2376,\tAdjusted R-squared:  0.2373 \nF-statistic: 867.9 on 8 and 22284 DF,  p-value: < 2.2e-16\n"
     },
     "metadata": {}
    },
    {
     "output_type": "display_data",
     "data": {
      "text/plain": "\nCall:\nlm(formula = lninc ~ postsecondary + seniorsecondary + juniorsecondary + \n    primary + y10 + y12 + y14, data = female_urban_reg)\n\nResiduals:\n     Min       1Q   Median       3Q      Max \n-10.4420  -0.3562   0.1734   0.6363   4.4840 \n\nCoefficients:\n                Estimate Std. Error t value Pr(>|t|)    \n(Intercept)      9.48845    0.04226 224.499   <2e-16 ***\npostsecondary    1.25608    0.04057  30.958   <2e-16 ***\nseniorsecondary  0.81127    0.03938  20.601   <2e-16 ***\njuniorsecondary  0.72650    0.03710  19.580   <2e-16 ***\nprimary          0.35789    0.04175   8.572   <2e-16 ***\ny10             -0.73316    0.03114 -23.543   <2e-16 ***\ny12             -0.30250    0.03248  -9.314   <2e-16 ***\ny14             -1.33373    0.09561 -13.950   <2e-16 ***\n---\nSignif. codes:  0 '***' 0.001 '**' 0.01 '*' 0.05 '.' 0.1 ' ' 1\n\nResidual standard error: 1.132 on 12387 degrees of freedom\n  (430 observations deleted due to missingness)\nMultiple R-squared:  0.1498,\tAdjusted R-squared:  0.1493 \nF-statistic: 311.8 on 7 and 12387 DF,  p-value: < 2.2e-16\n"
     },
     "metadata": {}
    },
    {
     "output_type": "display_data",
     "data": {
      "text/plain": "\nCall:\nlm(formula = lninc ~ postsecondary + seniorsecondary + juniorsecondary + \n    primary + y10 + y12 + y14, data = female_rural_reg)\n\nResiduals:\n    Min      1Q  Median      3Q     Max \n-9.5980 -0.5356  0.2405  0.8424  5.6423 \n\nCoefficients:\n                Estimate Std. Error t value Pr(>|t|)    \n(Intercept)      9.36113    0.04409  212.31   <2e-16 ***\npostsecondary    1.14427    0.06011   19.04   <2e-16 ***\nseniorsecondary  0.94628    0.04176   22.66   <2e-16 ***\njuniorsecondary  0.85130    0.03236   26.30   <2e-16 ***\nprimary          0.48013    0.03405   14.10   <2e-16 ***\ny10             -1.31387    0.03962  -33.16   <2e-16 ***\ny12             -0.61447    0.04153  -14.80   <2e-16 ***\ny14             -2.29392    0.11752  -19.52   <2e-16 ***\n---\nSignif. codes:  0 '***' 0.001 '**' 0.01 '*' 0.05 '.' 0.1 ' ' 1\n\nResidual standard error: 1.303 on 12909 degrees of freedom\n  (482 observations deleted due to missingness)\nMultiple R-squared:  0.1981,\tAdjusted R-squared:  0.1977 \nF-statistic: 455.6 on 7 and 12909 DF,  p-value: < 2.2e-16\n"
     },
     "metadata": {}
    },
    {
     "output_type": "display_data",
     "data": {
      "text/plain": "\nCall:\nlm(formula = lninc ~ postsecondary + seniorsecondary + juniorsecondary + \n    primary + y10 + y12 + y14, data = male_urban_reg)\n\nResiduals:\n     Min       1Q   Median       3Q      Max \n-10.4816  -0.3791   0.2467   0.7425   4.3309 \n\nCoefficients:\n                Estimate Std. Error t value Pr(>|t|)    \n(Intercept)      8.84775    0.04812 183.863  < 2e-16 ***\npostsecondary    1.63390    0.04424  36.936  < 2e-16 ***\nseniorsecondary  1.18685    0.04296  27.625  < 2e-16 ***\njuniorsecondary  0.89749    0.03975  22.577  < 2e-16 ***\nprimary          0.62488    0.04677  13.361  < 2e-16 ***\ny10             -0.87725    0.04052 -21.649  < 2e-16 ***\ny12             -0.26280    0.04234  -6.207 5.61e-10 ***\ny14             -2.19469    0.12995 -16.888  < 2e-16 ***\n---\nSignif. codes:  0 '***' 0.001 '**' 0.01 '*' 0.05 '.' 0.1 ' ' 1\n\nResidual standard error: 1.332 on 10693 degrees of freedom\n  (443 observations deleted due to missingness)\nMultiple R-squared:  0.2153,\tAdjusted R-squared:  0.2148 \nF-statistic: 419.1 on 7 and 10693 DF,  p-value: < 2.2e-16\n"
     },
     "metadata": {}
    },
    {
     "output_type": "display_data",
     "data": {
      "text/plain": "\nCall:\nlm(formula = lninc ~ postsecondary + seniorsecondary + juniorsecondary + \n    primary + y10 + y12 + y14, data = male_rural_reg)\n\nResiduals:\n    Min      1Q  Median      3Q     Max \n-9.8023 -0.7819  0.3052  1.0189  5.3141 \n\nCoefficients:\n                Estimate Std. Error t value Pr(>|t|)    \n(Intercept)      8.81971    0.06140  143.65   <2e-16 ***\npostsecondary    1.48068    0.08454   17.52   <2e-16 ***\nseniorsecondary  0.98258    0.06398   15.36   <2e-16 ***\njuniorsecondary  0.89573    0.04347   20.60   <2e-16 ***\nprimary          0.53316    0.04422   12.06   <2e-16 ***\ny10             -1.52397    0.05906  -25.80   <2e-16 ***\ny12             -0.83170    0.06301  -13.20   <2e-16 ***\ny14             -3.00963    0.14965  -20.11   <2e-16 ***\n---\nSignif. codes:  0 '***' 0.001 '**' 0.01 '*' 0.05 '.' 0.1 ' ' 1\n\nResidual standard error: 1.593 on 9300 degrees of freedom\n  (503 observations deleted due to missingness)\nMultiple R-squared:  0.1971,\tAdjusted R-squared:  0.1965 \nF-statistic: 326.2 on 7 and 9300 DF,  p-value: < 2.2e-16\n"
     },
     "metadata": {}
    }
   ],
   "source": [
    "lnincReg = filter(combined, !is.infinite(lninc))\n",
    "summary(lm(lninc ~  postsecondary + seniorsecondary + juniorsecondary + primary + gender + urban + y10 + y12 + y14, data=lnincReg))\n",
    "\n",
    "urban_reg = filter(urban, !is.infinite(lninc))\n",
    "summary(lm(lninc ~  postsecondary + seniorsecondary + juniorsecondary + primary + gender + y10 + y12 + y14, data=urban_reg))\n",
    "\n",
    "rural_reg = filter(rural, !is.infinite(lninc))\n",
    "summary(lm(lninc ~  postsecondary + seniorsecondary + juniorsecondary + primary + gender + y10 + y12 + y14, data=rural_reg))\n",
    "\n",
    "female_urban_reg = filter(female_urban, !is.infinite(lninc))\n",
    "female_rural_reg = filter(female_rural, !is.infinite(lninc))\n",
    "male_urban_reg = filter(male_urban, !is.infinite(lninc))\n",
    "male_rural_reg = filter(male_rural, !is.infinite(lninc))\n",
    "summary(lm(lninc ~  postsecondary + seniorsecondary + juniorsecondary + primary + y10 + y12 + y14, data=female_urban_reg))\n",
    "summary(lm(lninc ~  postsecondary + seniorsecondary + juniorsecondary + primary + y10 + y12 + y14, data=female_rural_reg))\n",
    "summary(lm(lninc ~  postsecondary + seniorsecondary + juniorsecondary + primary + y10 + y12 + y14, data=male_urban_reg))\n",
    "summary(lm(lninc ~  postsecondary + seniorsecondary + juniorsecondary + primary + y10 + y12 + y14, data=male_rural_reg))"
   ]
  },
  {
   "cell_type": "markdown",
   "metadata": {},
   "source": [
    "### Regression for rinc and lnrinc"
   ]
  },
  {
   "cell_type": "code",
   "execution_count": 14,
   "metadata": {},
   "outputs": [
    {
     "output_type": "display_data",
     "data": {
      "text/plain": "\nCall:\nlm(formula = rinc ~ postsecondary + seniorsecondary + juniorsecondary + \n    primary + gender + urban + y10 + y12 + y14, data = combined)\n\nResiduals:\n   Min     1Q Median     3Q    Max \n -3.07  -0.82  -0.30   0.33 467.73 \n\nCoefficients:\n                Estimate Std. Error t value Pr(>|t|)    \n(Intercept)     0.145090   0.037147   3.906 9.40e-05 ***\npostsecondary   2.432263   0.040480  60.085  < 2e-16 ***\nseniorsecondary 0.958014   0.033858  28.295  < 2e-16 ***\njuniorsecondary 0.645283   0.027834  23.183  < 2e-16 ***\nprimary         0.284256   0.030755   9.243  < 2e-16 ***\ngender          0.265572   0.014158  18.758  < 2e-16 ***\nurban           0.048417   0.009626   5.030 4.92e-07 ***\ny10             0.157319   0.034876   4.511 6.47e-06 ***\ny12             0.069476   0.034995   1.985   0.0471 *  \ny14             0.181437   0.084498   2.147   0.0318 *  \n---\nSignif. codes:  0 '***' 0.001 '**' 0.01 '*' 0.05 '.' 0.1 ' ' 1\n\nResidual standard error: 2.829 on 75874 degrees of freedom\nMultiple R-squared:  0.05752,\tAdjusted R-squared:  0.05741 \nF-statistic: 514.5 on 9 and 75874 DF,  p-value: < 2.2e-16\n"
     },
     "metadata": {}
    },
    {
     "output_type": "display_data",
     "data": {
      "text/plain": "\nCall:\nlm(formula = rinc ~ postsecondary + seniorsecondary + juniorsecondary + \n    primary + gender + y10 + y12 + y14, data = urban)\n\nResiduals:\n    Min      1Q  Median      3Q     Max \n -2.450  -0.743  -0.265   0.380 188.883 \n\nCoefficients:\n                Estimate Std. Error t value Pr(>|t|)    \n(Intercept)      0.21874    0.04170   5.245 1.57e-07 ***\npostsecondary    1.80552    0.04014  44.985  < 2e-16 ***\nseniorsecondary  0.70692    0.03706  19.073  < 2e-16 ***\njuniorsecondary  0.46760    0.03383  13.823  < 2e-16 ***\nprimary          0.21756    0.03923   5.546 2.95e-08 ***\ngender           0.27539    0.01648  16.711  < 2e-16 ***\ny10              0.08581    0.03592   2.389   0.0169 *  \ny12              0.04192    0.03626   1.156   0.2477    \ny14              0.15057    0.10123   1.487   0.1369    \n---\nSignif. codes:  0 '***' 0.001 '**' 0.01 '*' 0.05 '.' 0.1 ' ' 1\n\nResidual standard error: 2.065 on 34502 degrees of freedom\nMultiple R-squared:  0.07593,\tAdjusted R-squared:  0.07572 \nF-statistic: 354.4 on 8 and 34502 DF,  p-value: < 2.2e-16\n"
     },
     "metadata": {}
    },
    {
     "output_type": "display_data",
     "data": {
      "text/plain": "\nCall:\nlm(formula = rinc ~ postsecondary + seniorsecondary + juniorsecondary + \n    primary + gender + y10 + y12 + y14, data = rural)\n\nResiduals:\n   Min     1Q Median     3Q    Max \n -3.19  -0.97  -0.39   0.19 590.63 \n\nCoefficients:\n                Estimate Std. Error t value Pr(>|t|)    \n(Intercept)      0.21328    0.06516   3.273  0.00106 ** \npostsecondary    2.45692    0.10378  23.674  < 2e-16 ***\nseniorsecondary  1.06649    0.06634  16.075  < 2e-16 ***\njuniorsecondary  0.85660    0.04706  18.201  < 2e-16 ***\nprimary          0.38029    0.04912   7.742    1e-14 ***\ngender           0.32190    0.02420  13.299  < 2e-16 ***\ny10              0.18160    0.06425   2.826  0.00471 ** \ny12              0.04979    0.06418   0.776  0.43791    \ny14              0.19706    0.16908   1.165  0.24383    \n---\nSignif. codes:  0 '***' 0.001 '**' 0.01 '*' 0.05 '.' 0.1 ' ' 1\n\nResidual standard error: 3.67 on 40329 degrees of freedom\nMultiple R-squared:  0.027,\tAdjusted R-squared:  0.02681 \nF-statistic: 139.9 on 8 and 40329 DF,  p-value: < 2.2e-16\n"
     },
     "metadata": {}
    },
    {
     "output_type": "display_data",
     "data": {
      "text/plain": "\nCall:\nlm(formula = lnrinc ~ postsecondary + seniorsecondary + juniorsecondary + \n    primary + gender + urban + y10 + y12 + y14, data = lnrincReg)\n\nResiduals:\n     Min       1Q   Median       3Q      Max \n-10.5493  -0.5264   0.2281   0.8410   5.3336 \n\nCoefficients:\n                 Estimate Std. Error t value Pr(>|t|)    \n(Intercept)     -1.196444   0.024534 -48.767  < 2e-16 ***\npostsecondary    1.732932   0.024212  71.574  < 2e-16 ***\nseniorsecondary  1.265809   0.021949  57.670  < 2e-16 ***\njuniorsecondary  1.050874   0.018734  56.093  < 2e-16 ***\nprimary          0.618875   0.020639  29.985  < 2e-16 ***\ngender           0.283885   0.009443  30.064  < 2e-16 ***\nurban            0.019081   0.005930   3.217  0.00129 ** \ny10             -0.268313   0.021248 -12.628  < 2e-16 ***\ny12              0.239660   0.022283  10.755  < 2e-16 ***\ny14             -0.711340   0.054684 -13.008  < 2e-16 ***\n---\nSignif. codes:  0 '***' 0.001 '**' 0.01 '*' 0.05 '.' 0.1 ' ' 1\n\nResidual standard error: 1.383 on 46144 degrees of freedom\n  (1869 observations deleted due to missingness)\nMultiple R-squared:  0.1944,\tAdjusted R-squared:  0.1943 \nF-statistic:  1237 on 9 and 46144 DF,  p-value: < 2.2e-16\n"
     },
     "metadata": {}
    },
    {
     "output_type": "display_data",
     "data": {
      "text/plain": "\nCall:\nlm(formula = lnrinc ~ postsecondary + seniorsecondary + juniorsecondary + \n    primary + gender + y10 + y12 + y14, data = urban_reg)\n\nResiduals:\n     Min       1Q   Median       3Q      Max \n-10.4944  -0.3971   0.1990   0.6733   4.4564 \n\nCoefficients:\n                Estimate Std. Error t value Pr(>|t|)    \n(Intercept)     -1.17861    0.03223 -36.565  < 2e-16 ***\npostsecondary    1.49882    0.02997  50.017  < 2e-16 ***\nseniorsecondary  1.05557    0.02905  36.331  < 2e-16 ***\njuniorsecondary  0.88624    0.02711  32.696  < 2e-16 ***\nprimary          0.55341    0.03122  17.727  < 2e-16 ***\ngender           0.24503    0.01227  19.965  < 2e-16 ***\ny10             -0.15038    0.02533  -5.937 2.94e-09 ***\ny12              0.23186    0.02643   8.772  < 2e-16 ***\ny14             -0.85036    0.07923 -10.732  < 2e-16 ***\n---\nSignif. codes:  0 '***' 0.001 '**' 0.01 '*' 0.05 '.' 0.1 ' ' 1\n\nResidual standard error: 1.242 on 23150 degrees of freedom\n  (873 observations deleted due to missingness)\nMultiple R-squared:  0.157,\tAdjusted R-squared:  0.1567 \nF-statistic: 539.1 on 8 and 23150 DF,  p-value: < 2.2e-16\n"
     },
     "metadata": {}
    },
    {
     "output_type": "display_data",
     "data": {
      "text/plain": "\nCall:\nlm(formula = lnrinc ~ postsecondary + seniorsecondary + juniorsecondary + \n    primary + gender + y10 + y12 + y14, data = rural_reg)\n\nResiduals:\n    Min      1Q  Median      3Q     Max \n-9.8980 -0.6364  0.2286  0.8992  5.5796 \n\nCoefficients:\n                Estimate Std. Error t value Pr(>|t|)    \n(Intercept)     -0.90691    0.03690 -24.574  < 2e-16 ***\npostsecondary    1.33277    0.05009  26.608  < 2e-16 ***\nseniorsecondary  1.04356    0.03552  29.379  < 2e-16 ***\njuniorsecondary  0.94789    0.02609  36.330  < 2e-16 ***\nprimary          0.56980    0.02716  20.977  < 2e-16 ***\ngender           0.38078    0.01434  26.549  < 2e-16 ***\ny10             -0.37282    0.03401 -10.963  < 2e-16 ***\ny12              0.25815    0.03585   7.201 6.19e-13 ***\ny14             -1.53415    0.09400 -16.321  < 2e-16 ***\n---\nSignif. codes:  0 '***' 0.001 '**' 0.01 '*' 0.05 '.' 0.1 ' ' 1\n\nResidual standard error: 1.448 on 22284 degrees of freedom\n  (985 observations deleted due to missingness)\nMultiple R-squared:  0.1802,\tAdjusted R-squared:  0.1799 \nF-statistic: 612.3 on 8 and 22284 DF,  p-value: < 2.2e-16\n"
     },
     "metadata": {}
    },
    {
     "output_type": "display_data",
     "data": {
      "text/plain": "\nCall:\nlm(formula = lnrinc ~ postsecondary + seniorsecondary + juniorsecondary + \n    primary + y10 + y12 + y14, data = female_urban_reg)\n\nResiduals:\n     Min       1Q   Median       3Q      Max \n-10.4420  -0.3562   0.1734   0.6363   4.4840 \n\nCoefficients:\n                Estimate Std. Error t value Pr(>|t|)    \n(Intercept)     -0.86855    0.04226 -20.550  < 2e-16 ***\npostsecondary    1.25608    0.04057  30.958  < 2e-16 ***\nseniorsecondary  0.81127    0.03938  20.601  < 2e-16 ***\njuniorsecondary  0.72650    0.03710  19.580  < 2e-16 ***\nprimary          0.35789    0.04175   8.572  < 2e-16 ***\ny10             -0.17512    0.03114  -5.623 1.91e-08 ***\ny12              0.10011    0.03248   3.083  0.00206 ** \ny14             -0.64754    0.09561  -6.773 1.32e-11 ***\n---\nSignif. codes:  0 '***' 0.001 '**' 0.01 '*' 0.05 '.' 0.1 ' ' 1\n\nResidual standard error: 1.132 on 12387 degrees of freedom\n  (430 observations deleted due to missingness)\nMultiple R-squared:  0.1082,\tAdjusted R-squared:  0.1077 \nF-statistic: 214.6 on 7 and 12387 DF,  p-value: < 2.2e-16\n"
     },
     "metadata": {}
    },
    {
     "output_type": "display_data",
     "data": {
      "text/plain": "\nCall:\nlm(formula = lnrinc ~ postsecondary + seniorsecondary + juniorsecondary + \n    primary + y10 + y12 + y14, data = female_rural_reg)\n\nResiduals:\n    Min      1Q  Median      3Q     Max \n-9.5980 -0.5356  0.2405  0.8424  5.6423 \n\nCoefficients:\n                Estimate Std. Error t value Pr(>|t|)    \n(Intercept)     -0.68634    0.04409 -15.566  < 2e-16 ***\npostsecondary    1.14427    0.06011  19.037  < 2e-16 ***\nseniorsecondary  0.94628    0.04176  22.658  < 2e-16 ***\njuniorsecondary  0.85130    0.03236  26.304  < 2e-16 ***\nprimary          0.48013    0.03405  14.101  < 2e-16 ***\ny10             -0.34551    0.03962  -8.721  < 2e-16 ***\ny12              0.17754    0.04153   4.275 1.92e-05 ***\ny14             -1.26564    0.11752 -10.769  < 2e-16 ***\n---\nSignif. codes:  0 '***' 0.001 '**' 0.01 '*' 0.05 '.' 0.1 ' ' 1\n\nResidual standard error: 1.303 on 12909 degrees of freedom\n  (482 observations deleted due to missingness)\nMultiple R-squared:  0.1263,\tAdjusted R-squared:  0.1258 \nF-statistic: 266.6 on 7 and 12909 DF,  p-value: < 2.2e-16\n"
     },
     "metadata": {}
    },
    {
     "output_type": "display_data",
     "data": {
      "text/plain": "\nCall:\nlm(formula = lnrinc ~ postsecondary + seniorsecondary + juniorsecondary + \n    primary + y10 + y12 + y14, data = male_urban_reg)\n\nResiduals:\n     Min       1Q   Median       3Q      Max \n-10.4816  -0.3791   0.2467   0.7425   4.3309 \n\nCoefficients:\n                Estimate Std. Error t value Pr(>|t|)    \n(Intercept)     -1.06522    0.04812 -22.136  < 2e-16 ***\npostsecondary    1.63390    0.04424  36.936  < 2e-16 ***\nseniorsecondary  1.18685    0.04296  27.625  < 2e-16 ***\njuniorsecondary  0.89749    0.03975  22.577  < 2e-16 ***\nprimary          0.62488    0.04677  13.361  < 2e-16 ***\ny10             -0.12950    0.04052  -3.196   0.0014 ** \ny12              0.33580    0.04234   7.931 2.39e-15 ***\ny14             -0.98714    0.12995  -7.596 3.31e-14 ***\n---\nSignif. codes:  0 '***' 0.001 '**' 0.01 '*' 0.05 '.' 0.1 ' ' 1\n\nResidual standard error: 1.332 on 10693 degrees of freedom\n  (443 observations deleted due to missingness)\nMultiple R-squared:  0.1687,\tAdjusted R-squared:  0.1682 \nF-statistic: 310.1 on 7 and 10693 DF,  p-value: < 2.2e-16\n"
     },
     "metadata": {}
    },
    {
     "output_type": "display_data",
     "data": {
      "text/plain": "\nCall:\nlm(formula = lnrinc ~ postsecondary + seniorsecondary + juniorsecondary + \n    primary + y10 + y12 + y14, data = male_rural_reg)\n\nResiduals:\n    Min      1Q  Median      3Q     Max \n-9.8023 -0.7819  0.3052  1.0189  5.3141 \n\nCoefficients:\n                Estimate Std. Error t value Pr(>|t|)    \n(Intercept)     -0.41054    0.06140  -6.687 2.41e-11 ***\npostsecondary    1.48068    0.08454  17.515  < 2e-16 ***\nseniorsecondary  0.98258    0.06398  15.358  < 2e-16 ***\njuniorsecondary  0.89573    0.04347  20.604  < 2e-16 ***\nprimary          0.53316    0.04422  12.057  < 2e-16 ***\ny10             -0.51795    0.05906  -8.770  < 2e-16 ***\ny12              0.24681    0.06301   3.917 9.04e-05 ***\ny14             -1.94384    0.14965 -12.990  < 2e-16 ***\n---\nSignif. codes:  0 '***' 0.001 '**' 0.01 '*' 0.05 '.' 0.1 ' ' 1\n\nResidual standard error: 1.593 on 9300 degrees of freedom\n  (503 observations deleted due to missingness)\nMultiple R-squared:  0.1534,\tAdjusted R-squared:  0.1528 \nF-statistic: 240.8 on 7 and 9300 DF,  p-value: < 2.2e-16\n"
     },
     "metadata": {}
    }
   ],
   "source": [
    "summary(lm(rinc ~  postsecondary + seniorsecondary + juniorsecondary + primary + gender + urban + y10 + y12 + y14, data=combined))\n",
    "summary(lm(rinc ~  postsecondary + seniorsecondary + juniorsecondary + primary + gender + y10 + y12 + y14, data=urban))\n",
    "summary(lm(rinc ~  postsecondary + seniorsecondary + juniorsecondary + primary + gender + y10 + y12 + y14, data=rural))\n",
    "\n",
    "lnrincReg = filter(combined, !is.infinite(lnrinc))\n",
    "urban_reg = filter(urban, !is.infinite(lnrinc))\n",
    "rural_reg = filter(rural, !is.infinite(lnrinc))\n",
    "summary(lm(lnrinc ~  postsecondary + seniorsecondary + juniorsecondary + primary + gender + urban + y10 + y12 + y14, data=lnrincReg))\n",
    "summary(lm(lnrinc ~  postsecondary + seniorsecondary + juniorsecondary + primary + gender + y10 + y12 + y14, data=urban_reg))\n",
    "summary(lm(lnrinc ~  postsecondary + seniorsecondary + juniorsecondary + primary + gender + y10 + y12 + y14, data=rural_reg))\n",
    "\n",
    "\n",
    "female_urban_reg = filter(female_urban, !is.infinite(lnrinc))\n",
    "female_rural_reg = filter(female_rural, !is.infinite(lnrinc))\n",
    "male_urban_reg = filter(male_urban, !is.infinite(lnrinc))\n",
    "male_rural_reg = filter(male_rural, !is.infinite(lnrinc))\n",
    "summary(lm(lnrinc ~  postsecondary + seniorsecondary + juniorsecondary + primary + y10 + y12 + y14, data=female_urban_reg))\n",
    "summary(lm(lnrinc ~  postsecondary + seniorsecondary + juniorsecondary + primary + y10 + y12 + y14, data=female_rural_reg))\n",
    "summary(lm(lnrinc ~  postsecondary + seniorsecondary + juniorsecondary + primary + y10 + y12 + y14, data=male_urban_reg))\n",
    "summary(lm(lnrinc ~  postsecondary + seniorsecondary + juniorsecondary + primary + y10 + y12 + y14, data=male_rural_reg))"
   ]
  },
  {
   "cell_type": "markdown",
   "metadata": {},
   "source": [
    "### Regression for pinc and lnpinc"
   ]
  },
  {
   "cell_type": "code",
   "execution_count": 42,
   "metadata": {},
   "outputs": [
    {
     "data": {
      "text/plain": [
       "\n",
       "Call:\n",
       "lm(formula = pinc ~ postsecondary + seniorsecondary + juniorsecondary + \n",
       "    primary + gender + urban + y10 + y12 + y14, data = combined)\n",
       "\n",
       "Residuals:\n",
       "     Min       1Q   Median       3Q      Max \n",
       "-0.77112 -0.21207  0.00658  0.20923  0.95514 \n",
       "\n",
       "Coefficients:\n",
       "                  Estimate Std. Error t value Pr(>|t|)    \n",
       "(Intercept)      0.3737159  0.0034250 109.115  < 2e-16 ***\n",
       "postsecondary    0.3246912  0.0037323  86.995  < 2e-16 ***\n",
       "seniorsecondary  0.1759524  0.0031217  56.364  < 2e-16 ***\n",
       "juniorsecondary  0.1366893  0.0025663  53.263  < 2e-16 ***\n",
       "primary          0.0755914  0.0028356  26.658  < 2e-16 ***\n",
       "gender           0.0465633  0.0013053  35.671  < 2e-16 ***\n",
       "urban            0.0050757  0.0008875   5.719 1.07e-08 ***\n",
       "y10              0.0318290  0.0032156   9.898  < 2e-16 ***\n",
       "y12             -0.0526646  0.0032266 -16.322  < 2e-16 ***\n",
       "y14             -0.0283937  0.0077908  -3.645 0.000268 ***\n",
       "---\n",
       "Signif. codes:  0 ‘***’ 0.001 ‘**’ 0.01 ‘*’ 0.05 ‘.’ 0.1 ‘ ’ 1\n",
       "\n",
       "Residual standard error: 0.2608 on 75874 degrees of freedom\n",
       "Multiple R-squared:  0.1414,\tAdjusted R-squared:  0.1413 \n",
       "F-statistic:  1388 on 9 and 75874 DF,  p-value: < 2.2e-16\n"
      ]
     },
     "metadata": {},
     "output_type": "display_data"
    },
    {
     "data": {
      "text/plain": [
       "\n",
       "Call:\n",
       "lm(formula = pinc ~ postsecondary + seniorsecondary + juniorsecondary + \n",
       "    primary + gender + y10 + y12 + y14, data = urban)\n",
       "\n",
       "Residuals:\n",
       "     Min       1Q   Median       3Q      Max \n",
       "-0.71825 -0.22090  0.01882  0.21511  0.95824 \n",
       "\n",
       "Coefficients:\n",
       "                 Estimate Std. Error t value Pr(>|t|)    \n",
       "(Intercept)      0.361061   0.005338  67.634  < 2e-16 ***\n",
       "postsecondary    0.320094   0.005138  62.301  < 2e-16 ***\n",
       "seniorsecondary  0.169465   0.004745  35.717  < 2e-16 ***\n",
       "juniorsecondary  0.124701   0.004330  28.796  < 2e-16 ***\n",
       "primary          0.072042   0.005022  14.346  < 2e-16 ***\n",
       "gender           0.052831   0.002110  25.044  < 2e-16 ***\n",
       "y10             -0.001681   0.004598  -0.366    0.715    \n",
       "y12             -0.041390   0.004642  -8.916  < 2e-16 ***\n",
       "y14             -0.087746   0.012958  -6.771  1.3e-11 ***\n",
       "---\n",
       "Signif. codes:  0 ‘***’ 0.001 ‘**’ 0.01 ‘*’ 0.05 ‘.’ 0.1 ‘ ’ 1\n",
       "\n",
       "Residual standard error: 0.2644 on 34502 degrees of freedom\n",
       "Multiple R-squared:  0.1374,\tAdjusted R-squared:  0.1372 \n",
       "F-statistic: 687.2 on 8 and 34502 DF,  p-value: < 2.2e-16\n"
      ]
     },
     "metadata": {},
     "output_type": "display_data"
    },
    {
     "data": {
      "text/plain": [
       "\n",
       "Call:\n",
       "lm(formula = pinc ~ postsecondary + seniorsecondary + juniorsecondary + \n",
       "    primary + gender + y10 + y12 + y14, data = rural)\n",
       "\n",
       "Residuals:\n",
       "    Min      1Q  Median      3Q     Max \n",
       "-0.7703 -0.2277 -0.0150  0.2074  0.9637 \n",
       "\n",
       "Coefficients:\n",
       "                 Estimate Std. Error t value Pr(>|t|)    \n",
       "(Intercept)      0.394761   0.004611  85.618  < 2e-16 ***\n",
       "postsecondary    0.269003   0.007343  36.632  < 2e-16 ***\n",
       "seniorsecondary  0.137365   0.004694  29.261  < 2e-16 ***\n",
       "juniorsecondary  0.129111   0.003330  38.770  < 2e-16 ***\n",
       "primary          0.074323   0.003476  21.383  < 2e-16 ***\n",
       "gender           0.050609   0.001713  29.550  < 2e-16 ***\n",
       "y10              0.069736   0.004546  15.339  < 2e-16 ***\n",
       "y12             -0.060323   0.004541 -13.283  < 2e-16 ***\n",
       "y14             -0.087683   0.011964  -7.329 2.36e-13 ***\n",
       "---\n",
       "Signif. codes:  0 ‘***’ 0.001 ‘**’ 0.01 ‘*’ 0.05 ‘.’ 0.1 ‘ ’ 1\n",
       "\n",
       "Residual standard error: 0.2597 on 40329 degrees of freedom\n",
       "Multiple R-squared:  0.1246,\tAdjusted R-squared:  0.1244 \n",
       "F-statistic: 717.2 on 8 and 40329 DF,  p-value: < 2.2e-16\n"
      ]
     },
     "metadata": {},
     "output_type": "display_data"
    },
    {
     "data": {
      "text/plain": [
       "\n",
       "Call:\n",
       "lm(formula = lnpinc ~ postsecondary + seniorsecondary + juniorsecondary + \n",
       "    primary + gender + urban + y10 + y12 + y14, data = lnpincReg)\n",
       "\n",
       "Residuals:\n",
       "    Min      1Q  Median      3Q     Max \n",
       "-4.1687 -0.5175  0.2313  0.5502  1.9388 \n",
       "\n",
       "Coefficients:\n",
       "                 Estimate Std. Error  t value Pr(>|t|)    \n",
       "(Intercept)     -1.051729   0.010432 -100.816  < 2e-16 ***\n",
       "postsecondary    0.620287   0.011368   54.563  < 2e-16 ***\n",
       "seniorsecondary  0.231028   0.009508   24.297  < 2e-16 ***\n",
       "juniorsecondary  0.193919   0.007817   24.808  < 2e-16 ***\n",
       "primary          0.120545   0.008637   13.957  < 2e-16 ***\n",
       "gender           0.101872   0.003976   25.622  < 2e-16 ***\n",
       "urban           -0.007539   0.002703   -2.789 0.005290 ** \n",
       "y10             -0.033663   0.009794   -3.437 0.000589 ***\n",
       "y12             -0.160249   0.009828  -16.305  < 2e-16 ***\n",
       "y14             -0.411285   0.023730  -17.332  < 2e-16 ***\n",
       "---\n",
       "Signif. codes:  0 ‘***’ 0.001 ‘**’ 0.01 ‘*’ 0.05 ‘.’ 0.1 ‘ ’ 1\n",
       "\n",
       "Residual standard error: 0.7944 on 75874 degrees of freedom\n",
       "Multiple R-squared:  0.0584,\tAdjusted R-squared:  0.05829 \n",
       "F-statistic: 522.9 on 9 and 75874 DF,  p-value: < 2.2e-16\n"
      ]
     },
     "metadata": {},
     "output_type": "display_data"
    },
    {
     "data": {
      "text/plain": [
       "\n",
       "Call:\n",
       "lm(formula = lnpinc ~ postsecondary + seniorsecondary + juniorsecondary + \n",
       "    primary + gender + y10 + y12 + y14, data = urban_reg)\n",
       "\n",
       "Residuals:\n",
       "    Min      1Q  Median      3Q     Max \n",
       "-4.6472 -0.6137  0.2499  0.5613  2.1787 \n",
       "\n",
       "Coefficients:\n",
       "                 Estimate Std. Error t value Pr(>|t|)    \n",
       "(Intercept)     -1.129763   0.016719 -67.573  < 2e-16 ***\n",
       "postsecondary    0.665456   0.016091  41.356  < 2e-16 ***\n",
       "seniorsecondary  0.284931   0.014860  19.175  < 2e-16 ***\n",
       "juniorsecondary  0.213510   0.013562  15.743  < 2e-16 ***\n",
       "primary          0.155830   0.015727   9.908  < 2e-16 ***\n",
       "gender           0.116298   0.006607  17.603  < 2e-16 ***\n",
       "y10             -0.097539   0.014401  -6.773 1.28e-11 ***\n",
       "y12             -0.143339   0.014538  -9.859  < 2e-16 ***\n",
       "y14             -1.191772   0.040583 -29.366  < 2e-16 ***\n",
       "---\n",
       "Signif. codes:  0 ‘***’ 0.001 ‘**’ 0.01 ‘*’ 0.05 ‘.’ 0.1 ‘ ’ 1\n",
       "\n",
       "Residual standard error: 0.8279 on 34502 degrees of freedom\n",
       "Multiple R-squared:  0.08687,\tAdjusted R-squared:  0.08666 \n",
       "F-statistic: 410.3 on 8 and 34502 DF,  p-value: < 2.2e-16\n"
      ]
     },
     "metadata": {},
     "output_type": "display_data"
    },
    {
     "data": {
      "text/plain": [
       "\n",
       "Call:\n",
       "lm(formula = lnpinc ~ postsecondary + seniorsecondary + juniorsecondary + \n",
       "    primary + gender + y10 + y12 + y14, data = rural_reg)\n",
       "\n",
       "Residuals:\n",
       "    Min      1Q  Median      3Q     Max \n",
       "-4.7594 -0.4507  0.1903  0.5366  2.1768 \n",
       "\n",
       "Coefficients:\n",
       "                 Estimate Std. Error t value Pr(>|t|)    \n",
       "(Intercept)     -1.008178   0.013923 -72.410  < 2e-16 ***\n",
       "postsecondary    0.495768   0.022175  22.357  < 2e-16 ***\n",
       "seniorsecondary  0.120841   0.014176   8.524  < 2e-16 ***\n",
       "juniorsecondary  0.169163   0.010056  16.822  < 2e-16 ***\n",
       "primary          0.105077   0.010496  10.011  < 2e-16 ***\n",
       "gender           0.106922   0.005172  20.674  < 2e-16 ***\n",
       "y10              0.056534   0.013729   4.118 3.83e-05 ***\n",
       "y12             -0.154704   0.013714 -11.281  < 2e-16 ***\n",
       "y14             -1.281240   0.036127 -35.464  < 2e-16 ***\n",
       "---\n",
       "Signif. codes:  0 ‘***’ 0.001 ‘**’ 0.01 ‘*’ 0.05 ‘.’ 0.1 ‘ ’ 1\n",
       "\n",
       "Residual standard error: 0.7842 on 40329 degrees of freedom\n",
       "Multiple R-squared:  0.07212,\tAdjusted R-squared:  0.07194 \n",
       "F-statistic: 391.8 on 8 and 40329 DF,  p-value: < 2.2e-16\n"
      ]
     },
     "metadata": {},
     "output_type": "display_data"
    },
    {
     "data": {
      "text/plain": [
       "\n",
       "Call:\n",
       "lm(formula = lnpinc ~ postsecondary + seniorsecondary + juniorsecondary + \n",
       "    primary + y10 + y12 + y14, data = female_urban_reg)\n",
       "\n",
       "Residuals:\n",
       "    Min      1Q  Median      3Q     Max \n",
       "-5.0630 -0.6804  0.2644  0.5851  1.8740 \n",
       "\n",
       "Coefficients:\n",
       "                Estimate Std. Error t value Pr(>|t|)    \n",
       "(Intercept)     -1.13257    0.02669 -42.436  < 2e-16 ***\n",
       "postsecondary    0.65362    0.02628  24.873  < 2e-16 ***\n",
       "seniorsecondary  0.27704    0.02478  11.178  < 2e-16 ***\n",
       "juniorsecondary  0.23055    0.02319   9.942  < 2e-16 ***\n",
       "primary          0.15377    0.02625   5.857 4.80e-09 ***\n",
       "y10             -0.07076    0.02093  -3.380 0.000727 ***\n",
       "y12             -0.13432    0.02116  -6.347 2.25e-10 ***\n",
       "y14             -0.91680    0.05922 -15.481  < 2e-16 ***\n",
       "---\n",
       "Signif. codes:  0 ‘***’ 0.001 ‘**’ 0.01 ‘*’ 0.05 ‘.’ 0.1 ‘ ’ 1\n",
       "\n",
       "Residual standard error: 0.8698 on 16734 degrees of freedom\n",
       "Multiple R-squared:  0.05728,\tAdjusted R-squared:  0.05689 \n",
       "F-statistic: 145.3 on 7 and 16734 DF,  p-value: < 2.2e-16\n"
      ]
     },
     "metadata": {},
     "output_type": "display_data"
    },
    {
     "data": {
      "text/plain": [
       "\n",
       "Call:\n",
       "lm(formula = lnpinc ~ postsecondary + seniorsecondary + juniorsecondary + \n",
       "    primary + y10 + y12 + y14, data = female_rural_reg)\n",
       "\n",
       "Residuals:\n",
       "    Min      1Q  Median      3Q     Max \n",
       "-5.2647 -0.6055  0.1916  0.5865  2.0517 \n",
       "\n",
       "Coefficients:\n",
       "                Estimate Std. Error t value Pr(>|t|)    \n",
       "(Intercept)     -1.08738    0.02078 -52.337  < 2e-16 ***\n",
       "postsecondary    0.51258    0.03207  15.981  < 2e-16 ***\n",
       "seniorsecondary  0.16127    0.02069   7.796 6.72e-15 ***\n",
       "juniorsecondary  0.23594    0.01592  14.817  < 2e-16 ***\n",
       "primary          0.13626    0.01683   8.095 6.03e-16 ***\n",
       "y10              0.11675    0.01973   5.916 3.34e-09 ***\n",
       "y12             -0.10742    0.01973  -5.443 5.29e-08 ***\n",
       "y14             -0.99675    0.05606 -17.779  < 2e-16 ***\n",
       "---\n",
       "Signif. codes:  0 ‘***’ 0.001 ‘**’ 0.01 ‘*’ 0.05 ‘.’ 0.1 ‘ ’ 1\n",
       "\n",
       "Residual standard error: 0.831 on 20008 degrees of freedom\n",
       "Multiple R-squared:  0.04529,\tAdjusted R-squared:  0.04496 \n",
       "F-statistic: 135.6 on 7 and 20008 DF,  p-value: < 2.2e-16\n"
      ]
     },
     "metadata": {},
     "output_type": "display_data"
    },
    {
     "data": {
      "text/plain": [
       "\n",
       "Call:\n",
       "lm(formula = lnpinc ~ postsecondary + seniorsecondary + juniorsecondary + \n",
       "    primary + y10 + y12 + y14, data = male_urban_reg)\n",
       "\n",
       "Residuals:\n",
       "    Min      1Q  Median      3Q     Max \n",
       "-4.1326 -0.5651  0.2363  0.5443  2.4341 \n",
       "\n",
       "Coefficients:\n",
       "                Estimate Std. Error t value Pr(>|t|)    \n",
       "(Intercept)     -0.98554    0.02180 -45.200  < 2e-16 ***\n",
       "postsecondary    0.65136    0.02096  31.079  < 2e-16 ***\n",
       "seniorsecondary  0.24861    0.01901  13.080  < 2e-16 ***\n",
       "juniorsecondary  0.15600    0.01697   9.192  < 2e-16 ***\n",
       "primary          0.11805    0.01993   5.924 3.19e-09 ***\n",
       "y10             -0.12056    0.02013  -5.990 2.14e-09 ***\n",
       "y12             -0.16752    0.02029  -8.258  < 2e-16 ***\n",
       "y14             -1.49222    0.05641 -26.453  < 2e-16 ***\n",
       "---\n",
       "Signif. codes:  0 ‘***’ 0.001 ‘**’ 0.01 ‘*’ 0.05 ‘.’ 0.1 ‘ ’ 1\n",
       "\n",
       "Residual standard error: 0.7982 on 17659 degrees of freedom\n",
       "Multiple R-squared:  0.09479,\tAdjusted R-squared:  0.09443 \n",
       "F-statistic: 264.2 on 7 and 17659 DF,  p-value: < 2.2e-16\n"
      ]
     },
     "metadata": {},
     "output_type": "display_data"
    },
    {
     "data": {
      "text/plain": [
       "\n",
       "Call:\n",
       "lm(formula = lnpinc ~ postsecondary + seniorsecondary + juniorsecondary + \n",
       "    primary + y10 + y12 + y14, data = male_rural_reg)\n",
       "\n",
       "Residuals:\n",
       "    Min      1Q  Median      3Q     Max \n",
       "-3.8795 -0.2963 -0.2355  0.5215  2.2991 \n",
       "\n",
       "Coefficients:\n",
       "                 Estimate Std. Error t value Pr(>|t|)    \n",
       "(Intercept)     -0.810848   0.019111 -42.429  < 2e-16 ***\n",
       "postsecondary    0.464851   0.031836  14.601  < 2e-16 ***\n",
       "seniorsecondary  0.034703   0.020934   1.658  0.09739 .  \n",
       "juniorsecondary  0.060803   0.013582   4.477 7.62e-06 ***\n",
       "primary          0.044728   0.013795   3.242  0.00119 ** \n",
       "y10             -0.006346   0.019494  -0.326  0.74478    \n",
       "y12             -0.221887   0.019454 -11.406  < 2e-16 ***\n",
       "y14             -1.531086   0.047536 -32.209  < 2e-16 ***\n",
       "---\n",
       "Signif. codes:  0 ‘***’ 0.001 ‘**’ 0.01 ‘*’ 0.05 ‘.’ 0.1 ‘ ’ 1\n",
       "\n",
       "Residual standard error: 0.7509 on 20125 degrees of freedom\n",
       "Multiple R-squared:  0.07499,\tAdjusted R-squared:  0.07467 \n",
       "F-statistic: 233.1 on 7 and 20125 DF,  p-value: < 2.2e-16\n"
      ]
     },
     "metadata": {},
     "output_type": "display_data"
    }
   ],
   "source": [
    "summary(lm(pinc ~  postsecondary + seniorsecondary + juniorsecondary + primary + gender + urban + y10 + y12 + y14, data=combined))\n",
    "summary(lm(pinc ~  postsecondary + seniorsecondary + juniorsecondary + primary + gender + y10 + y12 + y14, data=urban))\n",
    "summary(lm(pinc ~  postsecondary + seniorsecondary + juniorsecondary + primary + gender + y10 + y12 + y14, data=rural))\n",
    "\n",
    "lnpincReg = filter(combined, !is.infinite(lnpinc))\n",
    "urban_reg = filter(urban, !is.infinite(lnpinc))\n",
    "rural_reg = filter(rural, !is.infinite(lnpinc))\n",
    "summary(lm(lnpinc ~  postsecondary + seniorsecondary + juniorsecondary + primary + gender + urban + y10 + y12 + y14, data=lnpincReg))\n",
    "summary(lm(lnpinc ~  postsecondary + seniorsecondary + juniorsecondary + primary + gender + y10 + y12 + y14, data=urban_reg))\n",
    "summary(lm(lnpinc ~  postsecondary + seniorsecondary + juniorsecondary + primary + gender + y10 + y12 + y14, data=rural_reg))\n",
    "\n",
    "\n",
    "female_urban_reg = filter(female_urban, !is.infinite(lnpinc))\n",
    "female_rural_reg = filter(female_rural, !is.infinite(lnpinc))\n",
    "male_urban_reg = filter(male_urban, !is.infinite(lnpinc))\n",
    "male_rural_reg = filter(male_rural, !is.infinite(lnpinc))\n",
    "summary(lm(lnpinc ~  postsecondary + seniorsecondary + juniorsecondary + primary + y10 + y12 + y14, data=female_urban_reg))\n",
    "summary(lm(lnpinc ~  postsecondary + seniorsecondary + juniorsecondary + primary + y10 + y12 + y14, data=female_rural_reg))\n",
    "summary(lm(lnpinc ~  postsecondary + seniorsecondary + juniorsecondary + primary + y10 + y12 + y14, data=male_urban_reg))\n",
    "summary(lm(lnpinc ~  postsecondary + seniorsecondary + juniorsecondary + primary + y10 + y12 + y14, data=male_rural_reg))"
   ]
  },
  {
   "cell_type": "code",
   "execution_count": null,
   "metadata": {},
   "outputs": [],
   "source": []
  },
  {
   "cell_type": "code",
   "execution_count": null,
   "metadata": {},
   "outputs": [],
   "source": []
  },
  {
   "cell_type": "code",
   "execution_count": null,
   "metadata": {},
   "outputs": [],
   "source": []
  }
 ],
 "metadata": {
  "kernelspec": {
   "display_name": "R",
   "language": "R",
   "name": "ir"
  },
  "language_info": {
   "codemirror_mode": "r",
   "file_extension": ".r",
   "mimetype": "text/x-r-source",
   "name": "R",
   "pygments_lexer": "r",
   "version": "4.0.5"
  }
 },
 "nbformat": 4,
 "nbformat_minor": 2
}